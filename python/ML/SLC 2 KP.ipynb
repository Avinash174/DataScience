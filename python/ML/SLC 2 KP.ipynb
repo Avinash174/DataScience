{
 "cells": [
  {
   "cell_type": "code",
   "execution_count": 1,
   "id": "b1b0dd87",
   "metadata": {},
   "outputs": [],
   "source": [
    "import pandas as pd"
   ]
  },
  {
   "cell_type": "code",
   "execution_count": 2,
   "id": "47082d84",
   "metadata": {
    "scrolled": true
   },
   "outputs": [
    {
     "data": {
      "text/html": [
       "<div>\n",
       "<style scoped>\n",
       "    .dataframe tbody tr th:only-of-type {\n",
       "        vertical-align: middle;\n",
       "    }\n",
       "\n",
       "    .dataframe tbody tr th {\n",
       "        vertical-align: top;\n",
       "    }\n",
       "\n",
       "    .dataframe thead th {\n",
       "        text-align: right;\n",
       "    }\n",
       "</style>\n",
       "<table border=\"1\" class=\"dataframe\">\n",
       "  <thead>\n",
       "    <tr style=\"text-align: right;\">\n",
       "      <th></th>\n",
       "      <th>CreditScore</th>\n",
       "      <th>Geography</th>\n",
       "      <th>Gender</th>\n",
       "      <th>Age</th>\n",
       "      <th>NumOfYrsWithBank</th>\n",
       "      <th>Balance</th>\n",
       "      <th>NumOfProducts</th>\n",
       "      <th>HasCrCard</th>\n",
       "      <th>Closed_Acc</th>\n",
       "    </tr>\n",
       "  </thead>\n",
       "  <tbody>\n",
       "    <tr>\n",
       "      <th>0</th>\n",
       "      <td>619</td>\n",
       "      <td>France</td>\n",
       "      <td>Female</td>\n",
       "      <td>42</td>\n",
       "      <td>2</td>\n",
       "      <td>0.00</td>\n",
       "      <td>1</td>\n",
       "      <td>1</td>\n",
       "      <td>1</td>\n",
       "    </tr>\n",
       "    <tr>\n",
       "      <th>1</th>\n",
       "      <td>608</td>\n",
       "      <td>Spain</td>\n",
       "      <td>Female</td>\n",
       "      <td>41</td>\n",
       "      <td>1</td>\n",
       "      <td>83807.86</td>\n",
       "      <td>1</td>\n",
       "      <td>0</td>\n",
       "      <td>0</td>\n",
       "    </tr>\n",
       "    <tr>\n",
       "      <th>2</th>\n",
       "      <td>502</td>\n",
       "      <td>France</td>\n",
       "      <td>Female</td>\n",
       "      <td>42</td>\n",
       "      <td>8</td>\n",
       "      <td>159660.80</td>\n",
       "      <td>3</td>\n",
       "      <td>1</td>\n",
       "      <td>1</td>\n",
       "    </tr>\n",
       "    <tr>\n",
       "      <th>3</th>\n",
       "      <td>699</td>\n",
       "      <td>France</td>\n",
       "      <td>Female</td>\n",
       "      <td>39</td>\n",
       "      <td>1</td>\n",
       "      <td>0.00</td>\n",
       "      <td>2</td>\n",
       "      <td>0</td>\n",
       "      <td>0</td>\n",
       "    </tr>\n",
       "    <tr>\n",
       "      <th>4</th>\n",
       "      <td>850</td>\n",
       "      <td>Spain</td>\n",
       "      <td>Female</td>\n",
       "      <td>43</td>\n",
       "      <td>2</td>\n",
       "      <td>125510.82</td>\n",
       "      <td>1</td>\n",
       "      <td>1</td>\n",
       "      <td>0</td>\n",
       "    </tr>\n",
       "  </tbody>\n",
       "</table>\n",
       "</div>"
      ],
      "text/plain": [
       "   CreditScore Geography  Gender  Age  NumOfYrsWithBank    Balance  \\\n",
       "0          619    France  Female   42                 2       0.00   \n",
       "1          608     Spain  Female   41                 1   83807.86   \n",
       "2          502    France  Female   42                 8  159660.80   \n",
       "3          699    France  Female   39                 1       0.00   \n",
       "4          850     Spain  Female   43                 2  125510.82   \n",
       "\n",
       "   NumOfProducts  HasCrCard  Closed_Acc  \n",
       "0              1          1           1  \n",
       "1              1          0           0  \n",
       "2              3          1           1  \n",
       "3              2          0           0  \n",
       "4              1          1           0  "
      ]
     },
     "execution_count": 2,
     "metadata": {},
     "output_type": "execute_result"
    }
   ],
   "source": [
    "df = pd.read_csv('bank_churn.csv')\n",
    "df.head()"
   ]
  },
  {
   "cell_type": "code",
   "execution_count": 21,
   "id": "6cbcbf23",
   "metadata": {},
   "outputs": [
    {
     "data": {
      "text/plain": [
       "(9920, 9)"
      ]
     },
     "execution_count": 21,
     "metadata": {},
     "output_type": "execute_result"
    }
   ],
   "source": [
    "df.shape"
   ]
  },
  {
   "cell_type": "code",
   "execution_count": 3,
   "id": "a83b38f8",
   "metadata": {},
   "outputs": [],
   "source": [
    "df['Geography']=df['Geography'].replace({'France':1,'Germany':2,'Spain':3})"
   ]
  },
  {
   "cell_type": "code",
   "execution_count": 4,
   "id": "623e9a0e",
   "metadata": {},
   "outputs": [],
   "source": [
    "df['Geography']=df['Geography'].astype(int)"
   ]
  },
  {
   "cell_type": "code",
   "execution_count": 5,
   "id": "afe72bdf",
   "metadata": {},
   "outputs": [],
   "source": [
    "df['Gender']=df['Gender'].replace({'Male':1,'Female':2})"
   ]
  },
  {
   "cell_type": "code",
   "execution_count": 6,
   "id": "dc2e85f2",
   "metadata": {},
   "outputs": [],
   "source": [
    "df['Gender']=df['Gender'].astype(int)"
   ]
  },
  {
   "cell_type": "code",
   "execution_count": 17,
   "id": "86e6b548",
   "metadata": {},
   "outputs": [
    {
     "data": {
      "text/html": [
       "<div>\n",
       "<style scoped>\n",
       "    .dataframe tbody tr th:only-of-type {\n",
       "        vertical-align: middle;\n",
       "    }\n",
       "\n",
       "    .dataframe tbody tr th {\n",
       "        vertical-align: top;\n",
       "    }\n",
       "\n",
       "    .dataframe thead th {\n",
       "        text-align: right;\n",
       "    }\n",
       "</style>\n",
       "<table border=\"1\" class=\"dataframe\">\n",
       "  <thead>\n",
       "    <tr style=\"text-align: right;\">\n",
       "      <th></th>\n",
       "      <th>CreditScore</th>\n",
       "      <th>Geography</th>\n",
       "      <th>Gender</th>\n",
       "      <th>Age</th>\n",
       "      <th>NumOfYrsWithBank</th>\n",
       "      <th>Balance</th>\n",
       "      <th>NumOfProducts</th>\n",
       "      <th>HasCrCard</th>\n",
       "      <th>Closed_Acc</th>\n",
       "    </tr>\n",
       "  </thead>\n",
       "  <tbody>\n",
       "    <tr>\n",
       "      <th>0</th>\n",
       "      <td>619</td>\n",
       "      <td>1</td>\n",
       "      <td>2</td>\n",
       "      <td>42</td>\n",
       "      <td>2</td>\n",
       "      <td>0.00</td>\n",
       "      <td>1</td>\n",
       "      <td>1</td>\n",
       "      <td>1</td>\n",
       "    </tr>\n",
       "    <tr>\n",
       "      <th>1</th>\n",
       "      <td>608</td>\n",
       "      <td>3</td>\n",
       "      <td>2</td>\n",
       "      <td>41</td>\n",
       "      <td>1</td>\n",
       "      <td>83807.86</td>\n",
       "      <td>1</td>\n",
       "      <td>0</td>\n",
       "      <td>0</td>\n",
       "    </tr>\n",
       "    <tr>\n",
       "      <th>2</th>\n",
       "      <td>502</td>\n",
       "      <td>1</td>\n",
       "      <td>2</td>\n",
       "      <td>42</td>\n",
       "      <td>8</td>\n",
       "      <td>159660.80</td>\n",
       "      <td>3</td>\n",
       "      <td>1</td>\n",
       "      <td>1</td>\n",
       "    </tr>\n",
       "    <tr>\n",
       "      <th>3</th>\n",
       "      <td>699</td>\n",
       "      <td>1</td>\n",
       "      <td>2</td>\n",
       "      <td>39</td>\n",
       "      <td>1</td>\n",
       "      <td>0.00</td>\n",
       "      <td>2</td>\n",
       "      <td>0</td>\n",
       "      <td>0</td>\n",
       "    </tr>\n",
       "    <tr>\n",
       "      <th>4</th>\n",
       "      <td>850</td>\n",
       "      <td>3</td>\n",
       "      <td>2</td>\n",
       "      <td>43</td>\n",
       "      <td>2</td>\n",
       "      <td>125510.82</td>\n",
       "      <td>1</td>\n",
       "      <td>1</td>\n",
       "      <td>0</td>\n",
       "    </tr>\n",
       "  </tbody>\n",
       "</table>\n",
       "</div>"
      ],
      "text/plain": [
       "   CreditScore  Geography  Gender  Age  NumOfYrsWithBank    Balance  \\\n",
       "0          619          1       2   42                 2       0.00   \n",
       "1          608          3       2   41                 1   83807.86   \n",
       "2          502          1       2   42                 8  159660.80   \n",
       "3          699          1       2   39                 1       0.00   \n",
       "4          850          3       2   43                 2  125510.82   \n",
       "\n",
       "   NumOfProducts  HasCrCard  Closed_Acc  \n",
       "0              1          1           1  \n",
       "1              1          0           0  \n",
       "2              3          1           1  \n",
       "3              2          0           0  \n",
       "4              1          1           0  "
      ]
     },
     "execution_count": 17,
     "metadata": {},
     "output_type": "execute_result"
    }
   ],
   "source": [
    "df.head()"
   ]
  },
  {
   "cell_type": "code",
   "execution_count": 8,
   "id": "5e883e83",
   "metadata": {},
   "outputs": [],
   "source": [
    "import statsmodels.api as sma\n",
    "from sklearn.model_selection import train_test_split\n",
    "\n",
    "X = df.drop('Closed_Acc',axis=1)\n",
    "y= df['Closed_Acc']\n",
    "\n",
    "Xtrain,Xtest,ytrain,ytest = train_test_split(X,y,test_size=0.30,random_state=100)"
   ]
  },
  {
   "cell_type": "code",
   "execution_count": 9,
   "id": "899c765c",
   "metadata": {},
   "outputs": [
    {
     "name": "stdout",
     "output_type": "stream",
     "text": [
      "(6944, 9) (2976, 9) (6944,) (2976,)\n"
     ]
    }
   ],
   "source": [
    "print(Xtrain.shape,Xtest.shape,ytrain.shape,ytest.shape)"
   ]
  },
  {
   "cell_type": "code",
   "execution_count": 23,
   "id": "4c95a858",
   "metadata": {},
   "outputs": [
    {
     "name": "stdout",
     "output_type": "stream",
     "text": [
      "Optimization terminated successfully.\n",
      "         Current function value: 0.449103\n",
      "         Iterations 6\n"
     ]
    }
   ],
   "source": [
    "logreg = sma.Logit(ytrain,Xtrain).fit()"
   ]
  },
  {
   "cell_type": "code",
   "execution_count": 11,
   "id": "52ea8a7e",
   "metadata": {},
   "outputs": [
    {
     "data": {
      "text/html": [
       "<table class=\"simpletable\">\n",
       "<caption>Logit Regression Results</caption>\n",
       "<tr>\n",
       "  <th>Dep. Variable:</th>      <td>Closed_Acc</td>    <th>  No. Observations:  </th>   <td>  6944</td>  \n",
       "</tr>\n",
       "<tr>\n",
       "  <th>Model:</th>                 <td>Logit</td>      <th>  Df Residuals:      </th>   <td>  6935</td>  \n",
       "</tr>\n",
       "<tr>\n",
       "  <th>Method:</th>                 <td>MLE</td>       <th>  Df Model:          </th>   <td>     8</td>  \n",
       "</tr>\n",
       "<tr>\n",
       "  <th>Date:</th>            <td>Tue, 04 Mar 2025</td> <th>  Pseudo R-squ.:     </th>   <td>0.1151</td>  \n",
       "</tr>\n",
       "<tr>\n",
       "  <th>Time:</th>                <td>16:07:02</td>     <th>  Log-Likelihood:    </th>  <td> -3118.6</td> \n",
       "</tr>\n",
       "<tr>\n",
       "  <th>converged:</th>             <td>True</td>       <th>  LL-Null:           </th>  <td> -3524.4</td> \n",
       "</tr>\n",
       "<tr>\n",
       "  <th>Covariance Type:</th>     <td>nonrobust</td>    <th>  LLR p-value:       </th> <td>6.370e-170</td>\n",
       "</tr>\n",
       "</table>\n",
       "<table class=\"simpletable\">\n",
       "<tr>\n",
       "          <td></td>            <th>coef</th>     <th>std err</th>      <th>z</th>      <th>P>|z|</th>  <th>[0.025</th>    <th>0.975]</th>  \n",
       "</tr>\n",
       "<tr>\n",
       "  <th>const</th>            <td>   -5.2222</td> <td>    0.306</td> <td>  -17.075</td> <td> 0.000</td> <td>   -5.822</td> <td>   -4.623</td>\n",
       "</tr>\n",
       "<tr>\n",
       "  <th>CreditScore</th>      <td>   -0.0006</td> <td>    0.000</td> <td>   -1.699</td> <td> 0.089</td> <td>   -0.001</td> <td> 8.67e-05</td>\n",
       "</tr>\n",
       "<tr>\n",
       "  <th>Geography</th>        <td>    0.1007</td> <td>    0.039</td> <td>    2.585</td> <td> 0.010</td> <td>    0.024</td> <td>    0.177</td>\n",
       "</tr>\n",
       "<tr>\n",
       "  <th>Gender</th>           <td>    0.5596</td> <td>    0.064</td> <td>    8.760</td> <td> 0.000</td> <td>    0.434</td> <td>    0.685</td>\n",
       "</tr>\n",
       "<tr>\n",
       "  <th>Age</th>              <td>    0.0726</td> <td>    0.003</td> <td>   23.749</td> <td> 0.000</td> <td>    0.067</td> <td>    0.079</td>\n",
       "</tr>\n",
       "<tr>\n",
       "  <th>NumOfYrsWithBank</th> <td>   -0.0088</td> <td>    0.011</td> <td>   -0.809</td> <td> 0.419</td> <td>   -0.030</td> <td>    0.013</td>\n",
       "</tr>\n",
       "<tr>\n",
       "  <th>Balance</th>          <td> 4.619e-06</td> <td> 5.47e-07</td> <td>    8.447</td> <td> 0.000</td> <td> 3.55e-06</td> <td> 5.69e-06</td>\n",
       "</tr>\n",
       "<tr>\n",
       "  <th>NumOfProducts</th>    <td>   -0.0963</td> <td>    0.055</td> <td>   -1.744</td> <td> 0.081</td> <td>   -0.205</td> <td>    0.012</td>\n",
       "</tr>\n",
       "<tr>\n",
       "  <th>HasCrCard</th>        <td>    0.0965</td> <td>    0.071</td> <td>    1.365</td> <td> 0.172</td> <td>   -0.042</td> <td>    0.235</td>\n",
       "</tr>\n",
       "</table>"
      ],
      "text/latex": [
       "\\begin{center}\n",
       "\\begin{tabular}{lclc}\n",
       "\\toprule\n",
       "\\textbf{Dep. Variable:}   &   Closed\\_Acc    & \\textbf{  No. Observations:  } &     6944    \\\\\n",
       "\\textbf{Model:}           &      Logit       & \\textbf{  Df Residuals:      } &     6935    \\\\\n",
       "\\textbf{Method:}          &       MLE        & \\textbf{  Df Model:          } &        8    \\\\\n",
       "\\textbf{Date:}            & Tue, 04 Mar 2025 & \\textbf{  Pseudo R-squ.:     } &   0.1151    \\\\\n",
       "\\textbf{Time:}            &     16:07:02     & \\textbf{  Log-Likelihood:    } &   -3118.6   \\\\\n",
       "\\textbf{converged:}       &       True       & \\textbf{  LL-Null:           } &   -3524.4   \\\\\n",
       "\\textbf{Covariance Type:} &    nonrobust     & \\textbf{  LLR p-value:       } & 6.370e-170  \\\\\n",
       "\\bottomrule\n",
       "\\end{tabular}\n",
       "\\begin{tabular}{lcccccc}\n",
       "                          & \\textbf{coef} & \\textbf{std err} & \\textbf{z} & \\textbf{P$> |$z$|$} & \\textbf{[0.025} & \\textbf{0.975]}  \\\\\n",
       "\\midrule\n",
       "\\textbf{const}            &      -5.2222  &        0.306     &   -17.075  &         0.000        &       -5.822    &       -4.623     \\\\\n",
       "\\textbf{CreditScore}      &      -0.0006  &        0.000     &    -1.699  &         0.089        &       -0.001    &     8.67e-05     \\\\\n",
       "\\textbf{Geography}        &       0.1007  &        0.039     &     2.585  &         0.010        &        0.024    &        0.177     \\\\\n",
       "\\textbf{Gender}           &       0.5596  &        0.064     &     8.760  &         0.000        &        0.434    &        0.685     \\\\\n",
       "\\textbf{Age}              &       0.0726  &        0.003     &    23.749  &         0.000        &        0.067    &        0.079     \\\\\n",
       "\\textbf{NumOfYrsWithBank} &      -0.0088  &        0.011     &    -0.809  &         0.419        &       -0.030    &        0.013     \\\\\n",
       "\\textbf{Balance}          &    4.619e-06  &     5.47e-07     &     8.447  &         0.000        &     3.55e-06    &     5.69e-06     \\\\\n",
       "\\textbf{NumOfProducts}    &      -0.0963  &        0.055     &    -1.744  &         0.081        &       -0.205    &        0.012     \\\\\n",
       "\\textbf{HasCrCard}        &       0.0965  &        0.071     &     1.365  &         0.172        &       -0.042    &        0.235     \\\\\n",
       "\\bottomrule\n",
       "\\end{tabular}\n",
       "%\\caption{Logit Regression Results}\n",
       "\\end{center}"
      ],
      "text/plain": [
       "<class 'statsmodels.iolib.summary.Summary'>\n",
       "\"\"\"\n",
       "                           Logit Regression Results                           \n",
       "==============================================================================\n",
       "Dep. Variable:             Closed_Acc   No. Observations:                 6944\n",
       "Model:                          Logit   Df Residuals:                     6935\n",
       "Method:                           MLE   Df Model:                            8\n",
       "Date:                Tue, 04 Mar 2025   Pseudo R-squ.:                  0.1151\n",
       "Time:                        16:07:02   Log-Likelihood:                -3118.6\n",
       "converged:                       True   LL-Null:                       -3524.4\n",
       "Covariance Type:            nonrobust   LLR p-value:                6.370e-170\n",
       "====================================================================================\n",
       "                       coef    std err          z      P>|z|      [0.025      0.975]\n",
       "------------------------------------------------------------------------------------\n",
       "const               -5.2222      0.306    -17.075      0.000      -5.822      -4.623\n",
       "CreditScore         -0.0006      0.000     -1.699      0.089      -0.001    8.67e-05\n",
       "Geography            0.1007      0.039      2.585      0.010       0.024       0.177\n",
       "Gender               0.5596      0.064      8.760      0.000       0.434       0.685\n",
       "Age                  0.0726      0.003     23.749      0.000       0.067       0.079\n",
       "NumOfYrsWithBank    -0.0088      0.011     -0.809      0.419      -0.030       0.013\n",
       "Balance           4.619e-06   5.47e-07      8.447      0.000    3.55e-06    5.69e-06\n",
       "NumOfProducts       -0.0963      0.055     -1.744      0.081      -0.205       0.012\n",
       "HasCrCard            0.0965      0.071      1.365      0.172      -0.042       0.235\n",
       "====================================================================================\n",
       "\"\"\""
      ]
     },
     "execution_count": 11,
     "metadata": {},
     "output_type": "execute_result"
    }
   ],
   "source": [
    "logreg.summary()"
   ]
  },
  {
   "cell_type": "code",
   "execution_count": 7,
   "id": "99d53b3b",
   "metadata": {},
   "outputs": [
    {
     "data": {
      "text/plain": [
       "CreditScore           int64\n",
       "Geography             int32\n",
       "Gender                int32\n",
       "Age                   int64\n",
       "NumOfYrsWithBank      int64\n",
       "Balance             float64\n",
       "NumOfProducts         int64\n",
       "HasCrCard             int64\n",
       "Closed_Acc            int64\n",
       "dtype: object"
      ]
     },
     "execution_count": 7,
     "metadata": {},
     "output_type": "execute_result"
    }
   ],
   "source": [
    "df.dtypes"
   ]
  },
  {
   "cell_type": "code",
   "execution_count": 15,
   "id": "c721a567",
   "metadata": {},
   "outputs": [],
   "source": [
    "from sklearn.tree import DecisionTreeClassifier\n",
    "decision_tree_classification = DecisionTreeClassifier(random_state=10)\n",
    "\n",
    "#fit the model using fit() on train data\n",
    "disicion_tree = decision_tree_classification.fit(Xtrain,ytrain)"
   ]
  },
  {
   "cell_type": "code",
   "execution_count": 16,
   "id": "66646e73",
   "metadata": {},
   "outputs": [
    {
     "name": "stdout",
     "output_type": "stream",
     "text": [
      "              precision    recall  f1-score   support\n",
      "\n",
      "           0       1.00      1.00      1.00      5519\n",
      "           1       1.00      1.00      1.00      1425\n",
      "\n",
      "    accuracy                           1.00      6944\n",
      "   macro avg       1.00      1.00      1.00      6944\n",
      "weighted avg       1.00      1.00      1.00      6944\n",
      "\n"
     ]
    }
   ],
   "source": [
    "#Training_summary\n",
    "from sklearn.metrics import classification_report\n",
    "train_pred = disicion_tree.predict(Xtrain)\n",
    "\n",
    "print(classification_report(ytrain,train_pred))"
   ]
  },
  {
   "cell_type": "code",
   "execution_count": 18,
   "id": "fd49b26d",
   "metadata": {},
   "outputs": [],
   "source": [
    "from sklearn.ensemble import RandomForestClassifier\n",
    "rf_classification = RandomForestClassifier(n_estimators=10,random_state=10)\n",
    "\n",
    "rf_model = rf_classification.fit(Xtrain,ytrain)"
   ]
  },
  {
   "cell_type": "code",
   "execution_count": 19,
   "id": "c8fa249e",
   "metadata": {},
   "outputs": [
    {
     "name": "stdout",
     "output_type": "stream",
     "text": [
      "              precision    recall  f1-score   support\n",
      "\n",
      "           0       0.98      1.00      0.99      5519\n",
      "           1       1.00      0.94      0.97      1425\n",
      "\n",
      "    accuracy                           0.99      6944\n",
      "   macro avg       0.99      0.97      0.98      6944\n",
      "weighted avg       0.99      0.99      0.99      6944\n",
      "\n"
     ]
    }
   ],
   "source": [
    "#Training_summary\n",
    "from sklearn.metrics import classification_report\n",
    "train_pred_rf = rf_classification.predict(Xtrain)\n",
    "\n",
    "print(classification_report(ytrain,train_pred_rf))"
   ]
  },
  {
   "cell_type": "code",
   "execution_count": null,
   "id": "f7d747b3",
   "metadata": {},
   "outputs": [],
   "source": [
    "#accuracy = our accuracy is 0.99 means our model random forest is overfit\n",
    "# precision\n",
    "# 0.94 recall means we understand their our actual values are correctly identified\n",
    "#f1 score"
   ]
  },
  {
   "cell_type": "code",
   "execution_count": 33,
   "id": "8b500323",
   "metadata": {},
   "outputs": [
    {
     "name": "stdout",
     "output_type": "stream",
     "text": [
      "Collecting lightgbm\n",
      "  Obtaining dependency information for lightgbm from https://files.pythonhosted.org/packages/5e/23/f8b28ca248bb629b9e08f877dd2965d1994e1674a03d67cd10c5246da248/lightgbm-4.6.0-py3-none-win_amd64.whl.metadata\n",
      "  Downloading lightgbm-4.6.0-py3-none-win_amd64.whl.metadata (17 kB)\n",
      "Requirement already satisfied: numpy>=1.17.0 in c:\\users\\lenovo\\anaconda3\\lib\\site-packages (from lightgbm) (1.24.3)\n",
      "Requirement already satisfied: scipy in c:\\users\\lenovo\\anaconda3\\lib\\site-packages (from lightgbm) (1.10.1)\n",
      "Downloading lightgbm-4.6.0-py3-none-win_amd64.whl (1.5 MB)\n",
      "   ---------------------------------------- 0.0/1.5 MB ? eta -:--:--\n",
      "   - -------------------------------------- 0.1/1.5 MB 1.3 MB/s eta 0:00:02\n",
      "   ------ --------------------------------- 0.2/1.5 MB 2.9 MB/s eta 0:00:01\n",
      "   ----------------- ---------------------- 0.6/1.5 MB 5.0 MB/s eta 0:00:01\n",
      "   ---------------------------------------- 1.5/1.5 MB 8.4 MB/s eta 0:00:00\n",
      "Installing collected packages: lightgbm\n",
      "Successfully installed lightgbm-4.6.0\n"
     ]
    }
   ],
   "source": [
    "!pip install lightgbm"
   ]
  },
  {
   "cell_type": "code",
   "execution_count": 35,
   "id": "f99ea8b4",
   "metadata": {},
   "outputs": [],
   "source": [
    "import warnings\n",
    "import statsmodels.api as sma\n",
    "import pandas as pd\n",
    "from sklearn.model_selection import train_test_split\n",
    "from sklearn.ensemble import AdaBoostClassifier, GradientBoostingClassifier\n",
    "from xgboost import XGBClassifier\n",
    "from lightgbm import LGBMClassifier\n",
    "from sklearn.neighbors import KNeighborsClassifier\n",
    "from sklearn.naive_bayes import GaussianNB\n",
    "from sklearn.metrics import classification_report, accuracy_score"
   ]
  },
  {
   "cell_type": "code",
   "execution_count": 40,
   "id": "24625b7c",
   "metadata": {},
   "outputs": [
    {
     "data": {
      "text/html": [
       "<div>\n",
       "<style scoped>\n",
       "    .dataframe tbody tr th:only-of-type {\n",
       "        vertical-align: middle;\n",
       "    }\n",
       "\n",
       "    .dataframe tbody tr th {\n",
       "        vertical-align: top;\n",
       "    }\n",
       "\n",
       "    .dataframe thead th {\n",
       "        text-align: right;\n",
       "    }\n",
       "</style>\n",
       "<table border=\"1\" class=\"dataframe\">\n",
       "  <thead>\n",
       "    <tr style=\"text-align: right;\">\n",
       "      <th></th>\n",
       "      <th>CreditScore</th>\n",
       "      <th>Geography</th>\n",
       "      <th>Gender</th>\n",
       "      <th>Age</th>\n",
       "      <th>NumOfYrsWithBank</th>\n",
       "      <th>Balance</th>\n",
       "      <th>NumOfProducts</th>\n",
       "      <th>HasCrCard</th>\n",
       "      <th>Closed_Acc</th>\n",
       "    </tr>\n",
       "  </thead>\n",
       "  <tbody>\n",
       "    <tr>\n",
       "      <th>0</th>\n",
       "      <td>619</td>\n",
       "      <td>1</td>\n",
       "      <td>2</td>\n",
       "      <td>42</td>\n",
       "      <td>2</td>\n",
       "      <td>0.0</td>\n",
       "      <td>1</td>\n",
       "      <td>1</td>\n",
       "      <td>1</td>\n",
       "    </tr>\n",
       "  </tbody>\n",
       "</table>\n",
       "</div>"
      ],
      "text/plain": [
       "   CreditScore  Geography  Gender  Age  NumOfYrsWithBank  Balance  \\\n",
       "0          619          1       2   42                 2      0.0   \n",
       "\n",
       "   NumOfProducts  HasCrCard  Closed_Acc  \n",
       "0              1          1           1  "
      ]
     },
     "execution_count": 40,
     "metadata": {},
     "output_type": "execute_result"
    }
   ],
   "source": [
    "df.head(1)"
   ]
  },
  {
   "cell_type": "code",
   "execution_count": 26,
   "id": "5188e306",
   "metadata": {},
   "outputs": [
    {
     "name": "stdout",
     "output_type": "stream",
     "text": [
      "AdaBoost Classification Report:\n",
      "               precision    recall  f1-score   support\n",
      "\n",
      "           0       0.87      0.95      0.91      2379\n",
      "           1       0.69      0.45      0.54       597\n",
      "\n",
      "    accuracy                           0.85      2976\n",
      "   macro avg       0.78      0.70      0.73      2976\n",
      "weighted avg       0.84      0.85      0.84      2976\n",
      "\n",
      "AdaBoost Accuracy: 0.8484543010752689\n"
     ]
    }
   ],
   "source": [
    "ada = AdaBoostClassifier(n_estimators=100, random_state=100)\n",
    "ada.fit(Xtrain, ytrain)\n",
    "ypred = ada.predict(Xtest)\n",
    "\n",
    "print(\"AdaBoost Classification Report:\\n\", classification_report(ytest, ypred))\n",
    "print(\"AdaBoost Accuracy:\", accuracy_score(ytest, ypred))\n"
   ]
  },
  {
   "cell_type": "raw",
   "id": "07f5b492",
   "metadata": {},
   "source": [
    "Overall 84.85% accuracy is well\n",
    "\n",
    "Class 0 means open accounts\n",
    "Precision: 87% non closer mambers correctly predicted\n",
    "Recall: 95% actual values correctly identified\n",
    "\n",
    "class 1 means closed accounts\n",
    "Precision: 69% closed accounts correctly predicted\n",
    "Recall: 45% only closed accounts correctly identified so there is issue\n",
    "\n",
    "Issue: The model struggles with recall for customers who closed their account (Class 1), meaning many actual closers are misclassified as non-closers.\n",
    "\n",
    "Potential Improvements: Consider handling class imbalance using a different classifier to improve recall for account closers."
   ]
  },
  {
   "cell_type": "code",
   "execution_count": 27,
   "id": "3b5bcbc0",
   "metadata": {},
   "outputs": [
    {
     "name": "stdout",
     "output_type": "stream",
     "text": [
      "Gradient Boosting Classification Report:\n",
      "               precision    recall  f1-score   support\n",
      "\n",
      "           0       0.87      0.95      0.91      2379\n",
      "           1       0.71      0.45      0.55       597\n",
      "\n",
      "    accuracy                           0.85      2976\n",
      "   macro avg       0.79      0.70      0.73      2976\n",
      "weighted avg       0.84      0.85      0.84      2976\n",
      "\n",
      "Gradient Boosting Accuracy: 0.852486559139785\n"
     ]
    }
   ],
   "source": [
    "gb = GradientBoostingClassifier(n_estimators=100, learning_rate=0.1, random_state=100)\n",
    "gb.fit(Xtrain, ytrain)\n",
    "ypred = gb.predict(Xtest)\n",
    " \n",
    "print(\"Gradient Boosting Classification Report:\\n\", classification_report(ytest, ypred))\n",
    "print(\"Gradient Boosting Accuracy:\", accuracy_score(ytest, ypred))\n"
   ]
  },
  {
   "cell_type": "code",
   "execution_count": 36,
   "id": "8a8fbf10",
   "metadata": {},
   "outputs": [
    {
     "name": "stdout",
     "output_type": "stream",
     "text": [
      "XGBoost Classification Report:\n",
      "               precision    recall  f1-score   support\n",
      "\n",
      "           0       0.87      0.96      0.91      2379\n",
      "           1       0.72      0.44      0.55       597\n",
      "\n",
      "    accuracy                           0.85      2976\n",
      "   macro avg       0.80      0.70      0.73      2976\n",
      "weighted avg       0.84      0.85      0.84      2976\n",
      "\n",
      "XGBoost Accuracy: 0.8541666666666666\n"
     ]
    }
   ],
   "source": [
    "xgb = XGBClassifier(n_estimators=100, learning_rate=0.1, random_state=100)\n",
    "xgb.fit(Xtrain, ytrain)\n",
    "ypred = xgb.predict(Xtest)\n",
    "\n",
    "print(\"XGBoost Classification Report:\\n\", classification_report(ytest, ypred))\n",
    "print(\"XGBoost Accuracy:\", accuracy_score(ytest, ypred))\n"
   ]
  },
  {
   "cell_type": "code",
   "execution_count": 37,
   "id": "427cfc07",
   "metadata": {},
   "outputs": [
    {
     "name": "stdout",
     "output_type": "stream",
     "text": [
      "[LightGBM] [Info] Number of positive: 1425, number of negative: 5519\n",
      "[LightGBM] [Info] Auto-choosing row-wise multi-threading, the overhead of testing was 0.000126 seconds.\n",
      "You can set `force_row_wise=true` to remove the overhead.\n",
      "And if memory is not enough, you can set `force_col_wise=true`.\n",
      "[LightGBM] [Info] Total Bins 593\n",
      "[LightGBM] [Info] Number of data points in the train set: 6944, number of used features: 8\n",
      "[LightGBM] [Info] [binary:BoostFromScore]: pavg=0.205213 -> initscore=-1.354025\n",
      "[LightGBM] [Info] Start training from score -1.354025\n",
      "LightGBM Classification Report:\n",
      "               precision    recall  f1-score   support\n",
      "\n",
      "           0       0.87      0.95      0.91      2379\n",
      "           1       0.68      0.46      0.55       597\n",
      "\n",
      "    accuracy                           0.85      2976\n",
      "   macro avg       0.78      0.70      0.73      2976\n",
      "weighted avg       0.84      0.85      0.84      2976\n",
      "\n",
      "LightGBM Accuracy: 0.8491263440860215\n"
     ]
    }
   ],
   "source": [
    "lgb = LGBMClassifier(n_estimators=100, learning_rate=0.1, random_state=100)\n",
    "lgb.fit(Xtrain, ytrain)\n",
    "ypred = lgb.predict(Xtest)\n",
    "\n",
    "print(\"LightGBM Classification Report:\\n\", classification_report(ytest, ypred))\n",
    "print(\"LightGBM Accuracy:\", accuracy_score(ytest, ypred))\n"
   ]
  },
  {
   "cell_type": "code",
   "execution_count": 38,
   "id": "1b04aad9",
   "metadata": {},
   "outputs": [
    {
     "name": "stdout",
     "output_type": "stream",
     "text": [
      "KNN Classification Report:\n",
      "               precision    recall  f1-score   support\n",
      "\n",
      "           0       0.80      0.92      0.86      2379\n",
      "           1       0.24      0.10      0.14       597\n",
      "\n",
      "    accuracy                           0.76      2976\n",
      "   macro avg       0.52      0.51      0.50      2976\n",
      "weighted avg       0.69      0.76      0.71      2976\n",
      "\n",
      "KNN Accuracy: 0.7563844086021505\n"
     ]
    }
   ],
   "source": [
    "knn = KNeighborsClassifier(n_neighbors=5)\n",
    "knn.fit(Xtrain, ytrain)\n",
    "ypred = knn.predict(Xtest)\n",
    "\n",
    "print(\"KNN Classification Report:\\n\", classification_report(ytest, ypred))\n",
    "print(\"KNN Accuracy:\", accuracy_score(ytest, ypred))\n"
   ]
  },
  {
   "cell_type": "code",
   "execution_count": 39,
   "id": "c5f16676",
   "metadata": {},
   "outputs": [
    {
     "name": "stdout",
     "output_type": "stream",
     "text": [
      "Naïve Bayes Classification Report:\n",
      "               precision    recall  f1-score   support\n",
      "\n",
      "           0       0.81      0.96      0.88      2379\n",
      "           1       0.40      0.12      0.18       597\n",
      "\n",
      "    accuracy                           0.79      2976\n",
      "   macro avg       0.61      0.54      0.53      2976\n",
      "weighted avg       0.73      0.79      0.74      2976\n",
      "\n",
      "Naïve Bayes Accuracy: 0.7883064516129032\n"
     ]
    }
   ],
   "source": [
    "nb = GaussianNB()\n",
    "nb.fit(Xtrain, ytrain)\n",
    "ypred = nb.predict(Xtest)\n",
    "\n",
    "print(\"Naïve Bayes Classification Report:\\n\", classification_report(ytest, ypred))\n",
    "print(\"Naïve Bayes Accuracy:\", accuracy_score(ytest, ypred))\n"
   ]
  }
 ],
 "metadata": {
  "kernelspec": {
   "display_name": "Python 3 (ipykernel)",
   "language": "python",
   "name": "python3"
  },
  "language_info": {
   "codemirror_mode": {
    "name": "ipython",
    "version": 3
   },
   "file_extension": ".py",
   "mimetype": "text/x-python",
   "name": "python",
   "nbconvert_exporter": "python",
   "pygments_lexer": "ipython3",
   "version": "3.11.4"
  }
 },
 "nbformat": 4,
 "nbformat_minor": 5
}
