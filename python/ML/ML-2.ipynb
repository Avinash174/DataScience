{
 "cells": [
  {
   "cell_type": "code",
   "execution_count": null,
   "metadata": {},
   "outputs": [],
   "source": [
    "import seaborn as sns\n",
    "import numpy as np \n",
    "import pandas as pd \n",
    "import scipy.stats as stats\n",
    "import matplotlib.pyplot as plt \n",
    "from sklearn.preprocessing import LabelEncoder\n",
    "from pylab import rcParams\n",
    "import warnings\n",
    "from sklearn.linear_model import LinearRegression\n",
    "from sklearn.metrics import mean_absolute_error,mean_squared_error,r2_score\n",
    "warnings.filterwarnings(\"ignore\")"
   ]
  },
  {
   "cell_type": "code",
   "execution_count": null,
   "metadata": {},
   "outputs": [],
   "source": [
    "sns.get_dataset_names()"
   ]
  },
  {
   "cell_type": "code",
   "execution_count": null,
   "metadata": {},
   "outputs": [],
   "source": [
    "df=sns.load_dataset('mpg')\n",
    "df.head()"
   ]
  },
  {
   "cell_type": "code",
   "execution_count": null,
   "metadata": {},
   "outputs": [],
   "source": [
    "df.shape"
   ]
  },
  {
   "cell_type": "code",
   "execution_count": null,
   "metadata": {},
   "outputs": [],
   "source": [
    "df.size"
   ]
  },
  {
   "cell_type": "code",
   "execution_count": null,
   "metadata": {},
   "outputs": [],
   "source": [
    "df.columns"
   ]
  },
  {
   "cell_type": "code",
   "execution_count": null,
   "metadata": {},
   "outputs": [],
   "source": [
    "df.info()"
   ]
  },
  {
   "cell_type": "code",
   "execution_count": null,
   "metadata": {},
   "outputs": [],
   "source": [
    "df.describe()"
   ]
  },
  {
   "cell_type": "code",
   "execution_count": null,
   "metadata": {},
   "outputs": [],
   "source": [
    "df.dtypes"
   ]
  },
  {
   "cell_type": "code",
   "execution_count": null,
   "metadata": {},
   "outputs": [],
   "source": [
    "df.isna().sum()"
   ]
  },
  {
   "cell_type": "code",
   "execution_count": null,
   "metadata": {},
   "outputs": [],
   "source": [
    "df['horsepower'].fillna(df['horsepower'].mean(),inplace=True)\n",
    "df.isnull().sum()"
   ]
  },
  {
   "cell_type": "code",
   "execution_count": null,
   "metadata": {},
   "outputs": [],
   "source": [
    "df.duplicated().sum()"
   ]
  },
  {
   "cell_type": "code",
   "execution_count": null,
   "metadata": {},
   "outputs": [],
   "source": [
    "for i in df.select_dtypes(include=np.number).columns:\n",
    "    sns.boxplot(x=df[i])        \n",
    "    plt.show()"
   ]
  },
  {
   "cell_type": "code",
   "execution_count": null,
   "metadata": {},
   "outputs": [],
   "source": [
    "Q1=df['mpg'].quantile(0.25)\n",
    "Q3=df['mpg'].quantile(0.75)\n",
    "\n",
    "IQR=Q3-Q1\n",
    "\n",
    "#Define outlier boundaries\n",
    "\n",
    "ll=Q1-1.5*IQR\n",
    "ul=Q3+1.5*IQR\n",
    "\n",
    "#Remove Outlier \n",
    "\n",
    "df_no_outlier=df[(df['mpg']>=ll)& (df['mpg']<=ul)]\n",
    "print(df_no_outlier)"
   ]
  },
  {
   "cell_type": "code",
   "execution_count": null,
   "metadata": {},
   "outputs": [],
   "source": [
    "df['mpg'] = df['mpg'].astype(int)\n",
    "df['mpg'].dtype"
   ]
  },
  {
   "cell_type": "code",
   "execution_count": null,
   "metadata": {},
   "outputs": [],
   "source": [
    "df.dtypes"
   ]
  },
  {
   "cell_type": "code",
   "execution_count": null,
   "metadata": {},
   "outputs": [],
   "source": [
    "sns.boxplot(df['mpg'])\n",
    "plt.show()"
   ]
  },
  {
   "cell_type": "code",
   "execution_count": null,
   "metadata": {},
   "outputs": [],
   "source": [
    "Q1=df['mpg'].quantile(0.25)\n",
    "Q3=df['mpg'].quantile(0.75)\n",
    "\n",
    "IQR=Q3-Q1\n",
    "\n",
    "#Define outlier boundaries\n",
    "\n",
    "ll=Q1-1.5*IQR\n",
    "ul=Q3+1.5*IQR\n",
    "\n",
    "#Remove Outlier \n",
    "\n",
    "df_no_outlier=df[(df['mpg']>=ll)& (df['mpg']<=ul)]\n",
    "print(df_no_outlier)"
   ]
  },
  {
   "cell_type": "code",
   "execution_count": null,
   "metadata": {},
   "outputs": [],
   "source": [
    "sns.boxplot(df['mpg'])\n",
    "plt.show()"
   ]
  },
  {
   "cell_type": "code",
   "execution_count": null,
   "metadata": {},
   "outputs": [],
   "source": [
    "df['acceleration'] = df['acceleration'].astype(int)\n",
    "df['acceleration'].dtype"
   ]
  },
  {
   "cell_type": "code",
   "execution_count": null,
   "metadata": {},
   "outputs": [],
   "source": [
    "#Q4=df['mpg'].quantile(0.25)\n",
    "#Q6=df['mpg'].quantile(0.75)\n",
    "\n",
    "#IQR=Q4-Q6\n",
    "\n",
    "#Define outlier boundaries\n",
    "\n",
    "#ll=Q4-1.5*IQR\n",
    "#ul=Q6+1.5*IQR\n",
    "\n",
    "#Remove Outlier \n",
    "\n",
    "#df_no_outlier=df[(df['mpg']>=ll)& (df['mpg']<=ul)]\n",
    "#print(df_no_outlier)"
   ]
  },
  {
   "cell_type": "code",
   "execution_count": null,
   "metadata": {},
   "outputs": [],
   "source": [
    "q1 = df['acceleration'].quantile(0.25)\n",
    "q3 = df['acceleration'].quantile(0.75)\n",
    "iqr = q3 - q1  # Interquartile range\n",
    "ul = q3 + 1.5 * iqr\n",
    "ll = q1 - 1.5 * iqr\n",
    "\n",
    "df['acceleration'] = df['acceleration'].clip(lower=ll, upper=ul)\n",
    "\n",
    "ul, ll"
   ]
  },
  {
   "cell_type": "code",
   "execution_count": null,
   "metadata": {},
   "outputs": [],
   "source": [
    "sns.boxplot(df['acceleration'])\n",
    "plt.show()"
   ]
  },
  {
   "cell_type": "code",
   "execution_count": null,
   "metadata": {},
   "outputs": [],
   "source": [
    "df['horsepower'] = df['horsepower'].astype(int)\n",
    "df['horsepower'].dtype"
   ]
  },
  {
   "cell_type": "code",
   "execution_count": null,
   "metadata": {},
   "outputs": [],
   "source": [
    "q1 = df['horsepower'].quantile(0.25)\n",
    "q3 = df['horsepower'].quantile(0.75)\n",
    "iqr = q3 - q1  # Interquartile range\n",
    "ul = q3 + 1.5 * iqr\n",
    "ll = q1 - 1.5 * iqr\n",
    "\n",
    "df['horsepower'] = df['horsepower'].clip(lower=ll, upper=ul)\n",
    "\n",
    "ul, ll"
   ]
  },
  {
   "cell_type": "code",
   "execution_count": null,
   "metadata": {},
   "outputs": [],
   "source": [
    "sns.boxplot(df['horsepower'])\n",
    "plt.show()"
   ]
  },
  {
   "cell_type": "code",
   "execution_count": null,
   "metadata": {},
   "outputs": [],
   "source": [
    "encoder = LabelEncoder()\n",
    "df['name']=df['name'] = encoder.fit_transform(df['origin'])\n",
    "df['name'].value_counts()"
   ]
  },
  {
   "cell_type": "code",
   "execution_count": null,
   "metadata": {},
   "outputs": [],
   "source": [
    "encoder = LabelEncoder()\n",
    "df['origin']=df['origin'] = encoder.fit_transform(df['origin'])\n",
    "df['origin'].value_counts()"
   ]
  },
  {
   "cell_type": "code",
   "execution_count": null,
   "metadata": {},
   "outputs": [],
   "source": [
    "from sklearn.model_selection import train_test_split\n",
    "x=df.drop('mpg',axis=1)\n",
    "y=df['mpg']\n",
    "x_train,x_test,y_train,y_test=train_test_split(x,y,test_size=0.2,random_state=42) # 42 is best for better accuracy\n",
    "print(\"Train set:\",x_train.shape,y_train.shape)\n",
    "print(\"Test set:\",x_test.shape,y_train.shape)"
   ]
  },
  {
   "cell_type": "code",
   "execution_count": null,
   "metadata": {},
   "outputs": [],
   "source": [
    "from sklearn.model_selection import train_test_split\n",
    "\n",
    "X = df.drop('mpg', axis=1) \n",
    "y = df['mpg']  \n",
    "\n",
    "X_train, X_test, y_train, y_test = train_test_split(X, y, test_size=0.2, random_state=42)\n",
    "\n",
    "print(\"Train set:\", X_train.shape, y_train.shape)\n",
    "print(\"Test set:\", X_test.shape, y_test.shape)"
   ]
  },
  {
   "cell_type": "code",
   "execution_count": null,
   "metadata": {},
   "outputs": [],
   "source": [
    "from sklearn.linear_model import LinearRegression\n",
    "from sklearn.metrics import mean_absolute_error, mean_squared_error, r2_score\n",
    "\n",
    "\n",
    "# Create and train the regression model\n",
    "model = LinearRegression()\n",
    "model.fit(X_train, y_train)\n",
    "\n",
    "# Predictions\n",
    "y_pred = model.predict(X_test)\n",
    "\n",
    "# Model evaluation\n",
    "print(\"MAE:\",mean_absolute_error(y_test, y_pred))\n",
    "print(\"MSE:\", mean_squared_error(y_test, y_pred))\n",
    "print(\"R² Score:\", r2_score(y_test, y_pred))\n"
   ]
  },
  {
   "cell_type": "code",
   "execution_count": null,
   "metadata": {},
   "outputs": [],
   "source": [
    "from sklearn.tree import DecisionTreeRegressor\n",
    "from sklearn.ensemble import RandomForestRegressor"
   ]
  },
  {
   "cell_type": "code",
   "execution_count": null,
   "metadata": {},
   "outputs": [],
   "source": [
    "# Train Decision Tree Refressor\n",
    "dt_model=DecisionTreeRegressor(random_state=42)\n",
    "dt_model.fit(x_train,y_train)\n",
    "\n",
    "dt_pred=dt_model.predict(x_test)\n",
    "print(\"Descision Tree Regression\")\n",
    "print(\"MAE:\",mean_absolute_error(y_test, y_pred))\n",
    "print(\"MSE:\",mean_absolute_error(y_test,dt_pred))\n",
    "print(\"R2 Score:\",r2_score(y_test,dt_pred))"
   ]
  },
  {
   "cell_type": "code",
   "execution_count": null,
   "metadata": {},
   "outputs": [],
   "source": [
    "rf_model=RandomForestRegressor(n_estimators=100,random_state=42)\n",
    "rf_model.fit(x_train,y_train)\n",
    "\n",
    "rf_preds=rf_model.predict(x_test)\n",
    "print(\"Random Forest Performance\")\n",
    "print(\"MSE:\",mean_absolute_error(y_test,rf_preds))\n",
    "print(\"R2 Score:\",r2_score(y_test,rf_preds))"
   ]
  },
  {
   "cell_type": "code",
   "execution_count": null,
   "metadata": {},
   "outputs": [],
   "source": [
    "summary=pd.DataFrame({\n",
    "    'Actual MPG':y_test,\n",
    "    'Decision Tree Prediction':dt_pred,\n",
    "    'Random forest prediction':rf_preds,\n",
    "})\n",
    "print('\\nPrediction Summary\\n')\n",
    "print(summary.head())"
   ]
  },
  {
   "cell_type": "code",
   "execution_count": null,
   "metadata": {},
   "outputs": [],
   "source": [
    "df.head()"
   ]
  }
 ],
 "metadata": {
  "kernelspec": {
   "display_name": "Python 3",
   "language": "python",
   "name": "python3"
  },
  "language_info": {
   "codemirror_mode": {
    "name": "ipython",
    "version": 3
   },
   "file_extension": ".py",
   "mimetype": "text/x-python",
   "name": "python",
   "nbconvert_exporter": "python",
   "pygments_lexer": "ipython3",
   "version": "3.13.1"
  }
 },
 "nbformat": 4,
 "nbformat_minor": 2
}
