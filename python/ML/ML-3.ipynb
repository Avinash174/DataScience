{
 "cells": [
  {
   "cell_type": "code",
   "execution_count": 2,
   "metadata": {},
   "outputs": [],
   "source": [
    "import seaborn as sns\n",
    "import numpy as np \n",
    "import pandas as pd \n",
    "import scipy.stats as stats\n",
    "import matplotlib.pyplot as plt \n",
    "from sklearn.preprocessing import LabelEncoder\n",
    "from pylab import rcParams\n",
    "import warnings\n",
    "from sklearn.linear_model import LinearRegression\n",
    "from sklearn.metrics import mean_absolute_error,mean_squared_error,r2_score\n",
    "warnings.filterwarnings(\"ignore\")"
   ]
  },
  {
   "cell_type": "code",
   "execution_count": 3,
   "metadata": {},
   "outputs": [
    {
     "data": {
      "application/vnd.microsoft.datawrangler.viewer.v0+json": {
       "columns": [
        {
         "name": "index",
         "rawType": "int64",
         "type": "integer"
        },
        {
         "name": "fixed acidity",
         "rawType": "float64",
         "type": "float"
        },
        {
         "name": "volatile acidity",
         "rawType": "float64",
         "type": "float"
        },
        {
         "name": "citric acid",
         "rawType": "float64",
         "type": "float"
        },
        {
         "name": "residual sugar",
         "rawType": "float64",
         "type": "float"
        },
        {
         "name": "chlorides",
         "rawType": "float64",
         "type": "float"
        },
        {
         "name": "free sulfur dioxide",
         "rawType": "float64",
         "type": "float"
        },
        {
         "name": "total sulfur dioxide",
         "rawType": "float64",
         "type": "float"
        },
        {
         "name": "density",
         "rawType": "float64",
         "type": "float"
        },
        {
         "name": "pH",
         "rawType": "float64",
         "type": "float"
        },
        {
         "name": "sulphates",
         "rawType": "float64",
         "type": "float"
        },
        {
         "name": "alcohol",
         "rawType": "float64",
         "type": "float"
        },
        {
         "name": "quality",
         "rawType": "int64",
         "type": "integer"
        }
       ],
       "conversionMethod": "pd.DataFrame",
       "ref": "cc75f897-4c53-4ea4-a5e4-41a5c8bb8671",
       "rows": [
        [
         "0",
         "7.4",
         "0.7",
         "0.0",
         "1.9",
         "0.076",
         "11.0",
         "34.0",
         "0.9978",
         "3.51",
         "0.56",
         "9.4",
         "5"
        ],
        [
         "1",
         "7.8",
         "0.88",
         "0.0",
         "2.6",
         "0.098",
         "25.0",
         "67.0",
         "0.9968",
         "3.2",
         "0.68",
         "9.8",
         "5"
        ],
        [
         "2",
         "7.8",
         "0.76",
         "0.04",
         "2.3",
         "0.092",
         "15.0",
         "54.0",
         "0.997",
         "3.26",
         "0.65",
         "9.8",
         "5"
        ],
        [
         "3",
         "11.2",
         "0.28",
         "0.56",
         "1.9",
         "0.075",
         "17.0",
         "60.0",
         "0.998",
         "3.16",
         "0.58",
         "9.8",
         "6"
        ],
        [
         "4",
         "7.4",
         "0.7",
         "0.0",
         "1.9",
         "0.076",
         "11.0",
         "34.0",
         "0.9978",
         "3.51",
         "0.56",
         "9.4",
         "5"
        ],
        [
         "5",
         "7.4",
         "0.66",
         "0.0",
         "1.8",
         "0.075",
         "13.0",
         "40.0",
         "0.9978",
         "3.51",
         "0.56",
         "9.4",
         "5"
        ],
        [
         "6",
         "7.9",
         "0.6",
         "0.06",
         "1.6",
         "0.069",
         "15.0",
         "59.0",
         "0.9964",
         "3.3",
         "0.46",
         "9.4",
         "5"
        ],
        [
         "7",
         "7.3",
         "0.65",
         "0.0",
         "1.2",
         "0.065",
         "15.0",
         "21.0",
         "0.9946",
         "3.39",
         "0.47",
         "10.0",
         "7"
        ],
        [
         "8",
         "7.8",
         "0.58",
         "0.02",
         "2.0",
         "0.073",
         "9.0",
         "18.0",
         "0.9968",
         "3.36",
         "0.57",
         "9.5",
         "7"
        ],
        [
         "9",
         "7.5",
         "0.5",
         "0.36",
         "6.1",
         "0.071",
         "17.0",
         "102.0",
         "0.9978",
         "3.35",
         "0.8",
         "10.5",
         "5"
        ],
        [
         "10",
         "6.7",
         "0.58",
         "0.08",
         "1.8",
         "0.0969999999999999",
         "15.0",
         "65.0",
         "0.9959",
         "3.28",
         "0.54",
         "9.2",
         "5"
        ],
        [
         "11",
         "7.5",
         "0.5",
         "0.36",
         "6.1",
         "0.071",
         "17.0",
         "102.0",
         "0.9978",
         "3.35",
         "0.8",
         "10.5",
         "5"
        ],
        [
         "12",
         "5.6",
         "0.615",
         "0.0",
         "1.6",
         "0.089",
         "16.0",
         "59.0",
         "0.9943",
         "3.58",
         "0.52",
         "9.9",
         "5"
        ],
        [
         "13",
         "7.8",
         "0.61",
         "0.29",
         "1.6",
         "0.114",
         "9.0",
         "29.0",
         "0.9974",
         "3.26",
         "1.56",
         "9.1",
         "5"
        ],
        [
         "14",
         "8.9",
         "0.62",
         "0.18",
         "3.8",
         "0.176",
         "52.0",
         "145.0",
         "0.9986",
         "3.16",
         "0.88",
         "9.2",
         "5"
        ],
        [
         "15",
         "8.9",
         "0.62",
         "0.19",
         "3.9",
         "0.17",
         "51.0",
         "148.0",
         "0.9986",
         "3.17",
         "0.93",
         "9.2",
         "5"
        ],
        [
         "16",
         "8.5",
         "0.28",
         "0.56",
         "1.8",
         "0.092",
         "35.0",
         "103.0",
         "0.9969",
         "3.3",
         "0.75",
         "10.5",
         "7"
        ],
        [
         "17",
         "8.1",
         "0.56",
         "0.28",
         "1.7",
         "0.368",
         "16.0",
         "56.0",
         "0.9968",
         "3.11",
         "1.28",
         "9.3",
         "5"
        ],
        [
         "18",
         "7.4",
         "0.59",
         "0.08",
         "4.4",
         "0.086",
         "6.0",
         "29.0",
         "0.9974",
         "3.38",
         "0.5",
         "9.0",
         "4"
        ],
        [
         "19",
         "7.9",
         "0.32",
         "0.51",
         "1.8",
         "0.341",
         "17.0",
         "56.0",
         "0.9969",
         "3.04",
         "1.08",
         "9.2",
         "6"
        ],
        [
         "20",
         "8.9",
         "0.22",
         "0.48",
         "1.8",
         "0.077",
         "29.0",
         "60.0",
         "0.9968",
         "3.39",
         "0.53",
         "9.4",
         "6"
        ],
        [
         "21",
         "7.6",
         "0.39",
         "0.31",
         "2.3",
         "0.0819999999999999",
         "23.0",
         "71.0",
         "0.9982",
         "3.52",
         "0.65",
         "9.7",
         "5"
        ],
        [
         "22",
         "7.9",
         "0.43",
         "0.21",
         "1.6",
         "0.106",
         "10.0",
         "37.0",
         "0.9966",
         "3.17",
         "0.91",
         "9.5",
         "5"
        ],
        [
         "23",
         "8.5",
         "0.49",
         "0.11",
         "2.3",
         "0.084",
         "9.0",
         "67.0",
         "0.9968",
         "3.17",
         "0.53",
         "9.4",
         "5"
        ],
        [
         "24",
         "6.9",
         "0.4",
         "0.14",
         "2.4",
         "0.085",
         "21.0",
         "40.0",
         "0.9968",
         "3.43",
         "0.63",
         "9.7",
         "6"
        ],
        [
         "25",
         "6.3",
         "0.39",
         "0.16",
         "1.4",
         "0.08",
         "11.0",
         "23.0",
         "0.9955",
         "3.34",
         "0.56",
         "9.3",
         "5"
        ],
        [
         "26",
         "7.6",
         "0.41",
         "0.24",
         "1.8",
         "0.08",
         "4.0",
         "11.0",
         "0.9962",
         "3.28",
         "0.59",
         "9.5",
         "5"
        ],
        [
         "27",
         "7.9",
         "0.43",
         "0.21",
         "1.6",
         "0.106",
         "10.0",
         "37.0",
         "0.9966",
         "3.17",
         "0.91",
         "9.5",
         "5"
        ],
        [
         "28",
         "7.1",
         "0.71",
         "0.0",
         "1.9",
         "0.08",
         "14.0",
         "35.0",
         "0.9972",
         "3.47",
         "0.55",
         "9.4",
         "5"
        ],
        [
         "29",
         "7.8",
         "0.645",
         "0.0",
         "2.0",
         "0.0819999999999999",
         "8.0",
         "16.0",
         "0.9964",
         "3.38",
         "0.59",
         "9.8",
         "6"
        ],
        [
         "30",
         "6.7",
         "0.675",
         "0.07",
         "2.4",
         "0.089",
         "17.0",
         "82.0",
         "0.9958",
         "3.35",
         "0.54",
         "10.1",
         "5"
        ],
        [
         "31",
         "6.9",
         "0.685",
         "0.0",
         "2.5",
         "0.105",
         "22.0",
         "37.0",
         "0.9966",
         "3.46",
         "0.57",
         "10.6",
         "6"
        ],
        [
         "32",
         "8.3",
         "0.655",
         "0.12",
         "2.3",
         "0.083",
         "15.0",
         "113.0",
         "0.9966",
         "3.17",
         "0.66",
         "9.8",
         "5"
        ],
        [
         "33",
         "6.9",
         "0.605",
         "0.12",
         "10.7",
         "0.073",
         "40.0",
         "83.0",
         "0.9993",
         "3.45",
         "0.52",
         "9.4",
         "6"
        ],
        [
         "34",
         "5.2",
         "0.32",
         "0.25",
         "1.8",
         "0.103",
         "13.0",
         "50.0",
         "0.9957",
         "3.38",
         "0.55",
         "9.2",
         "5"
        ],
        [
         "35",
         "7.8",
         "0.645",
         "0.0",
         "5.5",
         "0.086",
         "5.0",
         "18.0",
         "0.9986",
         "3.4",
         "0.55",
         "9.6",
         "6"
        ],
        [
         "36",
         "7.8",
         "0.6",
         "0.14",
         "2.4",
         "0.086",
         "3.0",
         "15.0",
         "0.9975",
         "3.42",
         "0.6",
         "10.8",
         "6"
        ],
        [
         "37",
         "8.1",
         "0.38",
         "0.28",
         "2.1",
         "0.066",
         "13.0",
         "30.0",
         "0.9968",
         "3.23",
         "0.73",
         "9.7",
         "7"
        ],
        [
         "38",
         "5.7",
         "1.13",
         "0.09",
         "1.5",
         "0.172",
         "7.0",
         "19.0",
         "0.994",
         "3.5",
         "0.48",
         "9.8",
         "4"
        ],
        [
         "39",
         "7.3",
         "0.45",
         "0.36",
         "5.9",
         "0.074",
         "12.0",
         "87.0",
         "0.9978",
         "3.33",
         "0.83",
         "10.5",
         "5"
        ],
        [
         "40",
         "7.3",
         "0.45",
         "0.36",
         "5.9",
         "0.074",
         "12.0",
         "87.0",
         "0.9978",
         "3.33",
         "0.83",
         "10.5",
         "5"
        ],
        [
         "41",
         "8.8",
         "0.61",
         "0.3",
         "2.8",
         "0.088",
         "17.0",
         "46.0",
         "0.9976",
         "3.26",
         "0.51",
         "9.3",
         "4"
        ],
        [
         "42",
         "7.5",
         "0.49",
         "0.2",
         "2.6",
         "0.332",
         "8.0",
         "14.0",
         "0.9968",
         "3.21",
         "0.9",
         "10.5",
         "6"
        ],
        [
         "43",
         "8.1",
         "0.66",
         "0.22",
         "2.2",
         "0.069",
         "9.0",
         "23.0",
         "0.9968",
         "3.3",
         "1.2",
         "10.3",
         "5"
        ],
        [
         "44",
         "6.8",
         "0.67",
         "0.02",
         "1.8",
         "0.05",
         "5.0",
         "11.0",
         "0.9962",
         "3.48",
         "0.52",
         "9.5",
         "5"
        ],
        [
         "45",
         "4.6",
         "0.52",
         "0.15",
         "2.1",
         "0.054",
         "8.0",
         "65.0",
         "0.9934",
         "3.9",
         "0.56",
         "13.1",
         "4"
        ],
        [
         "46",
         "7.7",
         "0.935",
         "0.43",
         "2.2",
         "0.114",
         "22.0",
         "114.0",
         "0.997",
         "3.25",
         "0.73",
         "9.2",
         "5"
        ],
        [
         "47",
         "8.7",
         "0.29",
         "0.52",
         "1.6",
         "0.113",
         "12.0",
         "37.0",
         "0.9969",
         "3.25",
         "0.58",
         "9.5",
         "5"
        ],
        [
         "48",
         "6.4",
         "0.4",
         "0.23",
         "1.6",
         "0.066",
         "5.0",
         "12.0",
         "0.9958",
         "3.34",
         "0.56",
         "9.2",
         "5"
        ],
        [
         "49",
         "5.6",
         "0.31",
         "0.37",
         "1.4",
         "0.074",
         "12.0",
         "96.0",
         "0.9954",
         "3.32",
         "0.58",
         "9.2",
         "5"
        ]
       ],
       "shape": {
        "columns": 12,
        "rows": 1599
       }
      },
      "text/html": [
       "<div>\n",
       "<style scoped>\n",
       "    .dataframe tbody tr th:only-of-type {\n",
       "        vertical-align: middle;\n",
       "    }\n",
       "\n",
       "    .dataframe tbody tr th {\n",
       "        vertical-align: top;\n",
       "    }\n",
       "\n",
       "    .dataframe thead th {\n",
       "        text-align: right;\n",
       "    }\n",
       "</style>\n",
       "<table border=\"1\" class=\"dataframe\">\n",
       "  <thead>\n",
       "    <tr style=\"text-align: right;\">\n",
       "      <th></th>\n",
       "      <th>fixed acidity</th>\n",
       "      <th>volatile acidity</th>\n",
       "      <th>citric acid</th>\n",
       "      <th>residual sugar</th>\n",
       "      <th>chlorides</th>\n",
       "      <th>free sulfur dioxide</th>\n",
       "      <th>total sulfur dioxide</th>\n",
       "      <th>density</th>\n",
       "      <th>pH</th>\n",
       "      <th>sulphates</th>\n",
       "      <th>alcohol</th>\n",
       "      <th>quality</th>\n",
       "    </tr>\n",
       "  </thead>\n",
       "  <tbody>\n",
       "    <tr>\n",
       "      <th>0</th>\n",
       "      <td>7.4</td>\n",
       "      <td>0.700</td>\n",
       "      <td>0.00</td>\n",
       "      <td>1.9</td>\n",
       "      <td>0.076</td>\n",
       "      <td>11.0</td>\n",
       "      <td>34.0</td>\n",
       "      <td>0.99780</td>\n",
       "      <td>3.51</td>\n",
       "      <td>0.56</td>\n",
       "      <td>9.4</td>\n",
       "      <td>5</td>\n",
       "    </tr>\n",
       "    <tr>\n",
       "      <th>1</th>\n",
       "      <td>7.8</td>\n",
       "      <td>0.880</td>\n",
       "      <td>0.00</td>\n",
       "      <td>2.6</td>\n",
       "      <td>0.098</td>\n",
       "      <td>25.0</td>\n",
       "      <td>67.0</td>\n",
       "      <td>0.99680</td>\n",
       "      <td>3.20</td>\n",
       "      <td>0.68</td>\n",
       "      <td>9.8</td>\n",
       "      <td>5</td>\n",
       "    </tr>\n",
       "    <tr>\n",
       "      <th>2</th>\n",
       "      <td>7.8</td>\n",
       "      <td>0.760</td>\n",
       "      <td>0.04</td>\n",
       "      <td>2.3</td>\n",
       "      <td>0.092</td>\n",
       "      <td>15.0</td>\n",
       "      <td>54.0</td>\n",
       "      <td>0.99700</td>\n",
       "      <td>3.26</td>\n",
       "      <td>0.65</td>\n",
       "      <td>9.8</td>\n",
       "      <td>5</td>\n",
       "    </tr>\n",
       "    <tr>\n",
       "      <th>3</th>\n",
       "      <td>11.2</td>\n",
       "      <td>0.280</td>\n",
       "      <td>0.56</td>\n",
       "      <td>1.9</td>\n",
       "      <td>0.075</td>\n",
       "      <td>17.0</td>\n",
       "      <td>60.0</td>\n",
       "      <td>0.99800</td>\n",
       "      <td>3.16</td>\n",
       "      <td>0.58</td>\n",
       "      <td>9.8</td>\n",
       "      <td>6</td>\n",
       "    </tr>\n",
       "    <tr>\n",
       "      <th>4</th>\n",
       "      <td>7.4</td>\n",
       "      <td>0.700</td>\n",
       "      <td>0.00</td>\n",
       "      <td>1.9</td>\n",
       "      <td>0.076</td>\n",
       "      <td>11.0</td>\n",
       "      <td>34.0</td>\n",
       "      <td>0.99780</td>\n",
       "      <td>3.51</td>\n",
       "      <td>0.56</td>\n",
       "      <td>9.4</td>\n",
       "      <td>5</td>\n",
       "    </tr>\n",
       "    <tr>\n",
       "      <th>...</th>\n",
       "      <td>...</td>\n",
       "      <td>...</td>\n",
       "      <td>...</td>\n",
       "      <td>...</td>\n",
       "      <td>...</td>\n",
       "      <td>...</td>\n",
       "      <td>...</td>\n",
       "      <td>...</td>\n",
       "      <td>...</td>\n",
       "      <td>...</td>\n",
       "      <td>...</td>\n",
       "      <td>...</td>\n",
       "    </tr>\n",
       "    <tr>\n",
       "      <th>1594</th>\n",
       "      <td>6.2</td>\n",
       "      <td>0.600</td>\n",
       "      <td>0.08</td>\n",
       "      <td>2.0</td>\n",
       "      <td>0.090</td>\n",
       "      <td>32.0</td>\n",
       "      <td>44.0</td>\n",
       "      <td>0.99490</td>\n",
       "      <td>3.45</td>\n",
       "      <td>0.58</td>\n",
       "      <td>10.5</td>\n",
       "      <td>5</td>\n",
       "    </tr>\n",
       "    <tr>\n",
       "      <th>1595</th>\n",
       "      <td>5.9</td>\n",
       "      <td>0.550</td>\n",
       "      <td>0.10</td>\n",
       "      <td>2.2</td>\n",
       "      <td>0.062</td>\n",
       "      <td>39.0</td>\n",
       "      <td>51.0</td>\n",
       "      <td>0.99512</td>\n",
       "      <td>3.52</td>\n",
       "      <td>0.76</td>\n",
       "      <td>11.2</td>\n",
       "      <td>6</td>\n",
       "    </tr>\n",
       "    <tr>\n",
       "      <th>1596</th>\n",
       "      <td>6.3</td>\n",
       "      <td>0.510</td>\n",
       "      <td>0.13</td>\n",
       "      <td>2.3</td>\n",
       "      <td>0.076</td>\n",
       "      <td>29.0</td>\n",
       "      <td>40.0</td>\n",
       "      <td>0.99574</td>\n",
       "      <td>3.42</td>\n",
       "      <td>0.75</td>\n",
       "      <td>11.0</td>\n",
       "      <td>6</td>\n",
       "    </tr>\n",
       "    <tr>\n",
       "      <th>1597</th>\n",
       "      <td>5.9</td>\n",
       "      <td>0.645</td>\n",
       "      <td>0.12</td>\n",
       "      <td>2.0</td>\n",
       "      <td>0.075</td>\n",
       "      <td>32.0</td>\n",
       "      <td>44.0</td>\n",
       "      <td>0.99547</td>\n",
       "      <td>3.57</td>\n",
       "      <td>0.71</td>\n",
       "      <td>10.2</td>\n",
       "      <td>5</td>\n",
       "    </tr>\n",
       "    <tr>\n",
       "      <th>1598</th>\n",
       "      <td>6.0</td>\n",
       "      <td>0.310</td>\n",
       "      <td>0.47</td>\n",
       "      <td>3.6</td>\n",
       "      <td>0.067</td>\n",
       "      <td>18.0</td>\n",
       "      <td>42.0</td>\n",
       "      <td>0.99549</td>\n",
       "      <td>3.39</td>\n",
       "      <td>0.66</td>\n",
       "      <td>11.0</td>\n",
       "      <td>6</td>\n",
       "    </tr>\n",
       "  </tbody>\n",
       "</table>\n",
       "<p>1599 rows × 12 columns</p>\n",
       "</div>"
      ],
      "text/plain": [
       "      fixed acidity  volatile acidity  citric acid  residual sugar  chlorides  \\\n",
       "0               7.4             0.700         0.00             1.9      0.076   \n",
       "1               7.8             0.880         0.00             2.6      0.098   \n",
       "2               7.8             0.760         0.04             2.3      0.092   \n",
       "3              11.2             0.280         0.56             1.9      0.075   \n",
       "4               7.4             0.700         0.00             1.9      0.076   \n",
       "...             ...               ...          ...             ...        ...   \n",
       "1594            6.2             0.600         0.08             2.0      0.090   \n",
       "1595            5.9             0.550         0.10             2.2      0.062   \n",
       "1596            6.3             0.510         0.13             2.3      0.076   \n",
       "1597            5.9             0.645         0.12             2.0      0.075   \n",
       "1598            6.0             0.310         0.47             3.6      0.067   \n",
       "\n",
       "      free sulfur dioxide  total sulfur dioxide  density    pH  sulphates  \\\n",
       "0                    11.0                  34.0  0.99780  3.51       0.56   \n",
       "1                    25.0                  67.0  0.99680  3.20       0.68   \n",
       "2                    15.0                  54.0  0.99700  3.26       0.65   \n",
       "3                    17.0                  60.0  0.99800  3.16       0.58   \n",
       "4                    11.0                  34.0  0.99780  3.51       0.56   \n",
       "...                   ...                   ...      ...   ...        ...   \n",
       "1594                 32.0                  44.0  0.99490  3.45       0.58   \n",
       "1595                 39.0                  51.0  0.99512  3.52       0.76   \n",
       "1596                 29.0                  40.0  0.99574  3.42       0.75   \n",
       "1597                 32.0                  44.0  0.99547  3.57       0.71   \n",
       "1598                 18.0                  42.0  0.99549  3.39       0.66   \n",
       "\n",
       "      alcohol  quality  \n",
       "0         9.4        5  \n",
       "1         9.8        5  \n",
       "2         9.8        5  \n",
       "3         9.8        6  \n",
       "4         9.4        5  \n",
       "...       ...      ...  \n",
       "1594     10.5        5  \n",
       "1595     11.2        6  \n",
       "1596     11.0        6  \n",
       "1597     10.2        5  \n",
       "1598     11.0        6  \n",
       "\n",
       "[1599 rows x 12 columns]"
      ]
     },
     "execution_count": 3,
     "metadata": {},
     "output_type": "execute_result"
    }
   ],
   "source": [
    "df=pd.read_csv(\"/Users/avinashmagar/Documents/DataScience/python/Dataset/winequality-red.csv\")\n",
    "df"
   ]
  },
  {
   "cell_type": "code",
   "execution_count": 4,
   "metadata": {},
   "outputs": [
    {
     "data": {
      "text/plain": [
       "(1599, 12)"
      ]
     },
     "execution_count": 4,
     "metadata": {},
     "output_type": "execute_result"
    }
   ],
   "source": [
    "df.shape"
   ]
  },
  {
   "cell_type": "code",
   "execution_count": 5,
   "metadata": {},
   "outputs": [
    {
     "data": {
      "text/plain": [
       "19188"
      ]
     },
     "execution_count": 5,
     "metadata": {},
     "output_type": "execute_result"
    }
   ],
   "source": [
    "df.size"
   ]
  },
  {
   "cell_type": "code",
   "execution_count": 6,
   "metadata": {},
   "outputs": [
    {
     "data": {
      "text/plain": [
       "Index(['fixed acidity', 'volatile acidity', 'citric acid', 'residual sugar',\n",
       "       'chlorides', 'free sulfur dioxide', 'total sulfur dioxide', 'density',\n",
       "       'pH', 'sulphates', 'alcohol', 'quality'],\n",
       "      dtype='object')"
      ]
     },
     "execution_count": 6,
     "metadata": {},
     "output_type": "execute_result"
    }
   ],
   "source": [
    "df.columns"
   ]
  },
  {
   "cell_type": "code",
   "execution_count": 7,
   "metadata": {},
   "outputs": [
    {
     "name": "stdout",
     "output_type": "stream",
     "text": [
      "<class 'pandas.core.frame.DataFrame'>\n",
      "RangeIndex: 1599 entries, 0 to 1598\n",
      "Data columns (total 12 columns):\n",
      " #   Column                Non-Null Count  Dtype  \n",
      "---  ------                --------------  -----  \n",
      " 0   fixed acidity         1599 non-null   float64\n",
      " 1   volatile acidity      1599 non-null   float64\n",
      " 2   citric acid           1599 non-null   float64\n",
      " 3   residual sugar        1599 non-null   float64\n",
      " 4   chlorides             1599 non-null   float64\n",
      " 5   free sulfur dioxide   1599 non-null   float64\n",
      " 6   total sulfur dioxide  1599 non-null   float64\n",
      " 7   density               1599 non-null   float64\n",
      " 8   pH                    1599 non-null   float64\n",
      " 9   sulphates             1599 non-null   float64\n",
      " 10  alcohol               1599 non-null   float64\n",
      " 11  quality               1599 non-null   int64  \n",
      "dtypes: float64(11), int64(1)\n",
      "memory usage: 150.0 KB\n"
     ]
    }
   ],
   "source": [
    "df.info()"
   ]
  },
  {
   "cell_type": "code",
   "execution_count": 8,
   "metadata": {},
   "outputs": [
    {
     "data": {
      "application/vnd.microsoft.datawrangler.viewer.v0+json": {
       "columns": [
        {
         "name": "index",
         "rawType": "object",
         "type": "string"
        },
        {
         "name": "fixed acidity",
         "rawType": "float64",
         "type": "float"
        },
        {
         "name": "volatile acidity",
         "rawType": "float64",
         "type": "float"
        },
        {
         "name": "citric acid",
         "rawType": "float64",
         "type": "float"
        },
        {
         "name": "residual sugar",
         "rawType": "float64",
         "type": "float"
        },
        {
         "name": "chlorides",
         "rawType": "float64",
         "type": "float"
        },
        {
         "name": "free sulfur dioxide",
         "rawType": "float64",
         "type": "float"
        },
        {
         "name": "total sulfur dioxide",
         "rawType": "float64",
         "type": "float"
        },
        {
         "name": "density",
         "rawType": "float64",
         "type": "float"
        },
        {
         "name": "pH",
         "rawType": "float64",
         "type": "float"
        },
        {
         "name": "sulphates",
         "rawType": "float64",
         "type": "float"
        },
        {
         "name": "alcohol",
         "rawType": "float64",
         "type": "float"
        },
        {
         "name": "quality",
         "rawType": "float64",
         "type": "float"
        }
       ],
       "conversionMethod": "pd.DataFrame",
       "ref": "9bd99258-f358-4bde-bae5-8e70e4e1d836",
       "rows": [
        [
         "count",
         "1599.0",
         "1599.0",
         "1599.0",
         "1599.0",
         "1599.0",
         "1599.0",
         "1599.0",
         "1599.0",
         "1599.0",
         "1599.0",
         "1599.0",
         "1599.0"
        ],
        [
         "mean",
         "8.31963727329581",
         "0.5278205128205128",
         "0.2709756097560976",
         "2.53880550343965",
         "0.08746654158849279",
         "15.874921826141339",
         "46.46779237023139",
         "0.9967466791744841",
         "3.3111131957473416",
         "0.6581488430268917",
         "10.422983114446529",
         "5.6360225140712945"
        ],
        [
         "std",
         "1.7410963181276953",
         "0.17905970415353537",
         "0.19480113740531857",
         "1.4099280595072798",
         "0.0470653020100901",
         "10.460156969809725",
         "32.895324478299074",
         "0.0018873339538425554",
         "0.15438646490354277",
         "0.16950697959010996",
         "1.0656675818473946",
         "0.807569439734705"
        ],
        [
         "min",
         "4.6",
         "0.12",
         "0.0",
         "0.9",
         "0.012",
         "1.0",
         "6.0",
         "0.99007",
         "2.74",
         "0.33",
         "8.4",
         "3.0"
        ],
        [
         "25%",
         "7.1",
         "0.39",
         "0.09",
         "1.9",
         "0.07",
         "7.0",
         "22.0",
         "0.9956",
         "3.21",
         "0.55",
         "9.5",
         "5.0"
        ],
        [
         "50%",
         "7.9",
         "0.52",
         "0.26",
         "2.2",
         "0.079",
         "14.0",
         "38.0",
         "0.99675",
         "3.31",
         "0.62",
         "10.2",
         "6.0"
        ],
        [
         "75%",
         "9.2",
         "0.64",
         "0.42",
         "2.6",
         "0.09",
         "21.0",
         "62.0",
         "0.997835",
         "3.4",
         "0.73",
         "11.1",
         "6.0"
        ],
        [
         "max",
         "15.9",
         "1.58",
         "1.0",
         "15.5",
         "0.611",
         "72.0",
         "289.0",
         "1.00369",
         "4.01",
         "2.0",
         "14.9",
         "8.0"
        ]
       ],
       "shape": {
        "columns": 12,
        "rows": 8
       }
      },
      "text/html": [
       "<div>\n",
       "<style scoped>\n",
       "    .dataframe tbody tr th:only-of-type {\n",
       "        vertical-align: middle;\n",
       "    }\n",
       "\n",
       "    .dataframe tbody tr th {\n",
       "        vertical-align: top;\n",
       "    }\n",
       "\n",
       "    .dataframe thead th {\n",
       "        text-align: right;\n",
       "    }\n",
       "</style>\n",
       "<table border=\"1\" class=\"dataframe\">\n",
       "  <thead>\n",
       "    <tr style=\"text-align: right;\">\n",
       "      <th></th>\n",
       "      <th>fixed acidity</th>\n",
       "      <th>volatile acidity</th>\n",
       "      <th>citric acid</th>\n",
       "      <th>residual sugar</th>\n",
       "      <th>chlorides</th>\n",
       "      <th>free sulfur dioxide</th>\n",
       "      <th>total sulfur dioxide</th>\n",
       "      <th>density</th>\n",
       "      <th>pH</th>\n",
       "      <th>sulphates</th>\n",
       "      <th>alcohol</th>\n",
       "      <th>quality</th>\n",
       "    </tr>\n",
       "  </thead>\n",
       "  <tbody>\n",
       "    <tr>\n",
       "      <th>count</th>\n",
       "      <td>1599.000000</td>\n",
       "      <td>1599.000000</td>\n",
       "      <td>1599.000000</td>\n",
       "      <td>1599.000000</td>\n",
       "      <td>1599.000000</td>\n",
       "      <td>1599.000000</td>\n",
       "      <td>1599.000000</td>\n",
       "      <td>1599.000000</td>\n",
       "      <td>1599.000000</td>\n",
       "      <td>1599.000000</td>\n",
       "      <td>1599.000000</td>\n",
       "      <td>1599.000000</td>\n",
       "    </tr>\n",
       "    <tr>\n",
       "      <th>mean</th>\n",
       "      <td>8.319637</td>\n",
       "      <td>0.527821</td>\n",
       "      <td>0.270976</td>\n",
       "      <td>2.538806</td>\n",
       "      <td>0.087467</td>\n",
       "      <td>15.874922</td>\n",
       "      <td>46.467792</td>\n",
       "      <td>0.996747</td>\n",
       "      <td>3.311113</td>\n",
       "      <td>0.658149</td>\n",
       "      <td>10.422983</td>\n",
       "      <td>5.636023</td>\n",
       "    </tr>\n",
       "    <tr>\n",
       "      <th>std</th>\n",
       "      <td>1.741096</td>\n",
       "      <td>0.179060</td>\n",
       "      <td>0.194801</td>\n",
       "      <td>1.409928</td>\n",
       "      <td>0.047065</td>\n",
       "      <td>10.460157</td>\n",
       "      <td>32.895324</td>\n",
       "      <td>0.001887</td>\n",
       "      <td>0.154386</td>\n",
       "      <td>0.169507</td>\n",
       "      <td>1.065668</td>\n",
       "      <td>0.807569</td>\n",
       "    </tr>\n",
       "    <tr>\n",
       "      <th>min</th>\n",
       "      <td>4.600000</td>\n",
       "      <td>0.120000</td>\n",
       "      <td>0.000000</td>\n",
       "      <td>0.900000</td>\n",
       "      <td>0.012000</td>\n",
       "      <td>1.000000</td>\n",
       "      <td>6.000000</td>\n",
       "      <td>0.990070</td>\n",
       "      <td>2.740000</td>\n",
       "      <td>0.330000</td>\n",
       "      <td>8.400000</td>\n",
       "      <td>3.000000</td>\n",
       "    </tr>\n",
       "    <tr>\n",
       "      <th>25%</th>\n",
       "      <td>7.100000</td>\n",
       "      <td>0.390000</td>\n",
       "      <td>0.090000</td>\n",
       "      <td>1.900000</td>\n",
       "      <td>0.070000</td>\n",
       "      <td>7.000000</td>\n",
       "      <td>22.000000</td>\n",
       "      <td>0.995600</td>\n",
       "      <td>3.210000</td>\n",
       "      <td>0.550000</td>\n",
       "      <td>9.500000</td>\n",
       "      <td>5.000000</td>\n",
       "    </tr>\n",
       "    <tr>\n",
       "      <th>50%</th>\n",
       "      <td>7.900000</td>\n",
       "      <td>0.520000</td>\n",
       "      <td>0.260000</td>\n",
       "      <td>2.200000</td>\n",
       "      <td>0.079000</td>\n",
       "      <td>14.000000</td>\n",
       "      <td>38.000000</td>\n",
       "      <td>0.996750</td>\n",
       "      <td>3.310000</td>\n",
       "      <td>0.620000</td>\n",
       "      <td>10.200000</td>\n",
       "      <td>6.000000</td>\n",
       "    </tr>\n",
       "    <tr>\n",
       "      <th>75%</th>\n",
       "      <td>9.200000</td>\n",
       "      <td>0.640000</td>\n",
       "      <td>0.420000</td>\n",
       "      <td>2.600000</td>\n",
       "      <td>0.090000</td>\n",
       "      <td>21.000000</td>\n",
       "      <td>62.000000</td>\n",
       "      <td>0.997835</td>\n",
       "      <td>3.400000</td>\n",
       "      <td>0.730000</td>\n",
       "      <td>11.100000</td>\n",
       "      <td>6.000000</td>\n",
       "    </tr>\n",
       "    <tr>\n",
       "      <th>max</th>\n",
       "      <td>15.900000</td>\n",
       "      <td>1.580000</td>\n",
       "      <td>1.000000</td>\n",
       "      <td>15.500000</td>\n",
       "      <td>0.611000</td>\n",
       "      <td>72.000000</td>\n",
       "      <td>289.000000</td>\n",
       "      <td>1.003690</td>\n",
       "      <td>4.010000</td>\n",
       "      <td>2.000000</td>\n",
       "      <td>14.900000</td>\n",
       "      <td>8.000000</td>\n",
       "    </tr>\n",
       "  </tbody>\n",
       "</table>\n",
       "</div>"
      ],
      "text/plain": [
       "       fixed acidity  volatile acidity  citric acid  residual sugar  \\\n",
       "count    1599.000000       1599.000000  1599.000000     1599.000000   \n",
       "mean        8.319637          0.527821     0.270976        2.538806   \n",
       "std         1.741096          0.179060     0.194801        1.409928   \n",
       "min         4.600000          0.120000     0.000000        0.900000   \n",
       "25%         7.100000          0.390000     0.090000        1.900000   \n",
       "50%         7.900000          0.520000     0.260000        2.200000   \n",
       "75%         9.200000          0.640000     0.420000        2.600000   \n",
       "max        15.900000          1.580000     1.000000       15.500000   \n",
       "\n",
       "         chlorides  free sulfur dioxide  total sulfur dioxide      density  \\\n",
       "count  1599.000000          1599.000000           1599.000000  1599.000000   \n",
       "mean      0.087467            15.874922             46.467792     0.996747   \n",
       "std       0.047065            10.460157             32.895324     0.001887   \n",
       "min       0.012000             1.000000              6.000000     0.990070   \n",
       "25%       0.070000             7.000000             22.000000     0.995600   \n",
       "50%       0.079000            14.000000             38.000000     0.996750   \n",
       "75%       0.090000            21.000000             62.000000     0.997835   \n",
       "max       0.611000            72.000000            289.000000     1.003690   \n",
       "\n",
       "                pH    sulphates      alcohol      quality  \n",
       "count  1599.000000  1599.000000  1599.000000  1599.000000  \n",
       "mean      3.311113     0.658149    10.422983     5.636023  \n",
       "std       0.154386     0.169507     1.065668     0.807569  \n",
       "min       2.740000     0.330000     8.400000     3.000000  \n",
       "25%       3.210000     0.550000     9.500000     5.000000  \n",
       "50%       3.310000     0.620000    10.200000     6.000000  \n",
       "75%       3.400000     0.730000    11.100000     6.000000  \n",
       "max       4.010000     2.000000    14.900000     8.000000  "
      ]
     },
     "execution_count": 8,
     "metadata": {},
     "output_type": "execute_result"
    }
   ],
   "source": [
    "df.describe()"
   ]
  },
  {
   "cell_type": "code",
   "execution_count": 9,
   "metadata": {},
   "outputs": [
    {
     "data": {
      "text/plain": [
       "fixed acidity           float64\n",
       "volatile acidity        float64\n",
       "citric acid             float64\n",
       "residual sugar          float64\n",
       "chlorides               float64\n",
       "free sulfur dioxide     float64\n",
       "total sulfur dioxide    float64\n",
       "density                 float64\n",
       "pH                      float64\n",
       "sulphates               float64\n",
       "alcohol                 float64\n",
       "quality                   int64\n",
       "dtype: object"
      ]
     },
     "execution_count": 9,
     "metadata": {},
     "output_type": "execute_result"
    }
   ],
   "source": [
    "df.dtypes\n"
   ]
  },
  {
   "cell_type": "code",
   "execution_count": 10,
   "metadata": {},
   "outputs": [
    {
     "data": {
      "text/plain": [
       "fixed acidity           0\n",
       "volatile acidity        0\n",
       "citric acid             0\n",
       "residual sugar          0\n",
       "chlorides               0\n",
       "free sulfur dioxide     0\n",
       "total sulfur dioxide    0\n",
       "density                 0\n",
       "pH                      0\n",
       "sulphates               0\n",
       "alcohol                 0\n",
       "quality                 0\n",
       "dtype: int64"
      ]
     },
     "execution_count": 10,
     "metadata": {},
     "output_type": "execute_result"
    }
   ],
   "source": [
    "df.isnull().sum()"
   ]
  },
  {
   "cell_type": "code",
   "execution_count": 11,
   "metadata": {},
   "outputs": [
    {
     "data": {
      "text/plain": [
       "np.int64(240)"
      ]
     },
     "execution_count": 11,
     "metadata": {},
     "output_type": "execute_result"
    }
   ],
   "source": [
    "df.duplicated().sum()"
   ]
  },
  {
   "cell_type": "code",
   "execution_count": 12,
   "metadata": {},
   "outputs": [
    {
     "data": {
      "image/png": "[encoded data removed]",
      "text/plain": [
       "<Figure size 640x480 with 1 Axes>"
      ]
     },
     "metadata": {},
     "output_type": "display_data"
    },
    {
     "data": {
      "image/png": "[encoded data removed]",
      "text/plain": [
       "<Figure size 640x480 with 1 Axes>"
      ]
     },
     "metadata": {},
     "output_type": "display_data"
    },
    {
     "data": {
      "image/png": "[encoded data removed]",
      "text/plain": [
       "<Figure size 640x480 with 1 Axes>"
      ]
     },
     "metadata": {},
     "output_type": "display_data"
    },
    {
     "data": {
      "image/png": "[encoded data removed]",
      "text/plain": [
       "<Figure size 640x480 with 1 Axes>"
      ]
     },
     "metadata": {},
     "output_type": "display_data"
    },
    {
     "data": {
      "image/png": "[encoded data removed]",
      "text/plain": [
       "<Figure size 640x480 with 1 Axes>"
      ]
     },
     "metadata": {},
     "output_type": "display_data"
    },
    {
     "data": {
      "image/png": "[encoded data removed]",
      "text/plain": [
       "<Figure size 640x480 with 1 Axes>"
      ]
     },
     "metadata": {},
     "output_type": "display_data"
    },
    {
     "data": {
      "image/png": "[encoded data removed]",
      "text/plain": [
       "<Figure size 640x480 with 1 Axes>"
      ]
     },
     "metadata": {},
     "output_type": "display_data"
    },
    {
     "data": {
      "image/png": "[encoded data removed]",
      "text/plain": [
       "<Figure size 640x480 with 1 Axes>"
      ]
     },
     "metadata": {},
     "output_type": "display_data"
    },
    {
     "data": {
      "image/png": "[encoded data removed]",
      "text/plain": [
       "<Figure size 640x480 with 1 Axes>"
      ]
     },
     "metadata": {},
     "output_type": "display_data"
    },
    {
     "data": {
      "image/png": "[encoded data removed]",
      "text/plain": [
       "<Figure size 640x480 with 1 Axes>"
      ]
     },
     "metadata": {},
     "output_type": "display_data"
    },
    {
     "data": {
      "image/png": "[encoded data removed]",
      "text/plain": [
       "<Figure size 640x480 with 1 Axes>"
      ]
     },
     "metadata": {},
     "output_type": "display_data"
    },
    {
     "data": {
      "image/png": "[encoded data removed]",
      "text/plain": [
       "<Figure size 640x480 with 1 Axes>"
      ]
     },
     "metadata": {},
     "output_type": "display_data"
    }
   ],
   "source": [
    "for i in df.select_dtypes(include=np.number).columns:\n",
    "    sns.boxplot(x=df[i])        \n",
    "    plt.show()"
   ]
  },
  {
   "cell_type": "code",
   "execution_count": 13,
   "metadata": {},
   "outputs": [],
   "source": [
    "df.columns = df.columns.str.replace('fixed acidity', 'fixed_acidity')"
   ]
  },
  {
   "cell_type": "code",
   "execution_count": 14,
   "metadata": {},
   "outputs": [
    {
     "data": {
      "text/plain": [
       "(np.float64(12.349999999999998), np.float64(3.95))"
      ]
     },
     "execution_count": 14,
     "metadata": {},
     "output_type": "execute_result"
    }
   ],
   "source": [
    "q1 = df['fixed_acidity'].quantile(0.25)\n",
    "q3 = df['fixed_acidity'].quantile(0.75)\n",
    "iqr = q3 - q1  # Interquartile range\n",
    "ul = q3 + 1.5 * iqr\n",
    "ll = q1 - 1.5 * iqr\n",
    "\n",
    "df['fixed_acidity'] = df['fixed_acidity'].clip(lower=ll, upper=ul)\n",
    "\n",
    "ul, ll"
   ]
  },
  {
   "cell_type": "code",
   "execution_count": 15,
   "metadata": {},
   "outputs": [
    {
     "data": {
      "image/png": "[encoded data removed]",
      "text/plain": [
       "<Figure size 640x480 with 1 Axes>"
      ]
     },
     "metadata": {},
     "output_type": "display_data"
    }
   ],
   "source": [
    "sns.boxplot(df['fixed_acidity'])\n",
    "plt.show()"
   ]
  },
  {
   "cell_type": "code",
   "execution_count": 16,
   "metadata": {},
   "outputs": [
    {
     "data": {
      "text/plain": [
       "(np.float64(1.0150000000000001), np.float64(0.015000000000000013))"
      ]
     },
     "execution_count": 16,
     "metadata": {},
     "output_type": "execute_result"
    }
   ],
   "source": [
    "q1 = df['volatile acidity'].quantile(0.25)\n",
    "q3 = df['volatile acidity'].quantile(0.75)\n",
    "iqr = q3 - q1  # Interquartile range\n",
    "ul = q3 + 1.5 * iqr\n",
    "ll = q1 - 1.5 * iqr\n",
    "\n",
    "df['volatile acidity'] = df['volatile acidity'].clip(lower=ll, upper=ul)\n",
    "\n",
    "ul, ll"
   ]
  },
  {
   "cell_type": "code",
   "execution_count": 17,
   "metadata": {},
   "outputs": [
    {
     "data": {
      "image/png": "[encoded data removed]",
      "text/plain": [
       "<Figure size 640x480 with 1 Axes>"
      ]
     },
     "metadata": {},
     "output_type": "display_data"
    }
   ],
   "source": [
    "sns.boxplot(df['volatile acidity'])\n",
    "plt.show()"
   ]
  },
  {
   "cell_type": "code",
   "execution_count": 18,
   "metadata": {},
   "outputs": [
    {
     "data": {
      "text/plain": [
       "(np.float64(0.9149999999999999), np.float64(-0.4049999999999999))"
      ]
     },
     "execution_count": 18,
     "metadata": {},
     "output_type": "execute_result"
    }
   ],
   "source": [
    "q1 = df['citric acid'].quantile(0.25)\n",
    "q3 = df['citric acid'].quantile(0.75)\n",
    "iqr = q3 - q1  # Interquartile range\n",
    "ul = q3 + 1.5 * iqr\n",
    "ll = q1 - 1.5 * iqr\n",
    "\n",
    "df['citric acid'] = df['citric acid'].clip(lower=ll, upper=ul)\n",
    "\n",
    "ul, ll"
   ]
  },
  {
   "cell_type": "code",
   "execution_count": 19,
   "metadata": {},
   "outputs": [
    {
     "data": {
      "image/png": "[encoded data removed]",
      "text/plain": [
       "<Figure size 640x480 with 1 Axes>"
      ]
     },
     "metadata": {},
     "output_type": "display_data"
    }
   ],
   "source": [
    "sns.boxplot(df['citric acid'])\n",
    "plt.show()"
   ]
  },
  {
   "cell_type": "code",
   "execution_count": 20,
   "metadata": {},
   "outputs": [
    {
     "data": {
      "text/plain": [
       "(np.float64(3.6500000000000004), np.float64(0.8499999999999996))"
      ]
     },
     "execution_count": 20,
     "metadata": {},
     "output_type": "execute_result"
    }
   ],
   "source": [
    "q1 = df['residual sugar'].quantile(0.25)\n",
    "q3 = df['residual sugar'].quantile(0.75)\n",
    "iqr = q3 - q1  # Interquartile range\n",
    "ul = q3 + 1.5 * iqr\n",
    "ll = q1 - 1.5 * iqr\n",
    "\n",
    "df['residual sugar'] = df['residual sugar'].clip(lower=ll, upper=ul)\n",
    "\n",
    "ul, ll"
   ]
  },
  {
   "cell_type": "code",
   "execution_count": 21,
   "metadata": {},
   "outputs": [
    {
     "data": {
      "image/png": "[encoded data removed]",
      "text/plain": [
       "<Figure size 640x480 with 1 Axes>"
      ]
     },
     "metadata": {},
     "output_type": "display_data"
    }
   ],
   "source": [
    "sns.boxplot(df['residual sugar'])\n",
    "plt.show()"
   ]
  },
  {
   "cell_type": "code",
   "execution_count": 22,
   "metadata": {},
   "outputs": [
    {
     "data": {
      "text/plain": [
       "(np.float64(1.0011875), np.float64(0.9922475000000001))"
      ]
     },
     "execution_count": 22,
     "metadata": {},
     "output_type": "execute_result"
    }
   ],
   "source": [
    "q1 = df['density'].quantile(0.25)\n",
    "q3 = df['density'].quantile(0.75)\n",
    "iqr = q3 - q1  # Interquartile range\n",
    "ul = q3 + 1.5 * iqr\n",
    "ll = q1 - 1.5 * iqr\n",
    "\n",
    "df['density'] = df['density'].clip(lower=ll, upper=ul)\n",
    "\n",
    "ul, ll"
   ]
  },
  {
   "cell_type": "code",
   "execution_count": 23,
   "metadata": {},
   "outputs": [
    {
     "data": {
      "image/png": "[encoded data removed]",
      "text/plain": [
       "<Figure size 640x480 with 1 Axes>"
      ]
     },
     "metadata": {},
     "output_type": "display_data"
    }
   ],
   "source": [
    "sns.boxplot(df['residual sugar'])\n",
    "plt.show()"
   ]
  },
  {
   "cell_type": "code",
   "execution_count": 24,
   "metadata": {},
   "outputs": [
    {
     "name": "stdout",
     "output_type": "stream",
     "text": [
      "      fixed_acidity  volatile acidity  citric acid  residual sugar  chlorides  \\\n",
      "0               7.4             0.700         0.00             1.9      0.076   \n",
      "1               7.8             0.880         0.00             2.6      0.098   \n",
      "2               7.8             0.760         0.04             2.3      0.092   \n",
      "3              11.2             0.280         0.56             1.9      0.075   \n",
      "4               7.4             0.700         0.00             1.9      0.076   \n",
      "...             ...               ...          ...             ...        ...   \n",
      "1594            6.2             0.600         0.08             2.0      0.090   \n",
      "1595            5.9             0.550         0.10             2.2      0.062   \n",
      "1596            6.3             0.510         0.13             2.3      0.076   \n",
      "1597            5.9             0.645         0.12             2.0      0.075   \n",
      "1598            6.0             0.310         0.47             3.6      0.067   \n",
      "\n",
      "      free sulfur dioxide  total sulfur dioxide  density    pH  sulphates  \\\n",
      "0                    11.0                  34.0  0.99780  3.51       0.56   \n",
      "1                    25.0                  67.0  0.99680  3.20       0.68   \n",
      "2                    15.0                  54.0  0.99700  3.26       0.65   \n",
      "3                    17.0                  60.0  0.99800  3.16       0.58   \n",
      "4                    11.0                  34.0  0.99780  3.51       0.56   \n",
      "...                   ...                   ...      ...   ...        ...   \n",
      "1594                 32.0                  44.0  0.99490  3.45       0.58   \n",
      "1595                 39.0                  51.0  0.99512  3.52       0.76   \n",
      "1596                 29.0                  40.0  0.99574  3.42       0.75   \n",
      "1597                 32.0                  44.0  0.99547  3.57       0.71   \n",
      "1598                 18.0                  42.0  0.99549  3.39       0.66   \n",
      "\n",
      "      alcohol  quality  \n",
      "0         9.4      5.0  \n",
      "1         9.8      5.0  \n",
      "2         9.8      5.0  \n",
      "3         9.8      6.0  \n",
      "4         9.4      5.0  \n",
      "...       ...      ...  \n",
      "1594     10.5      5.0  \n",
      "1595     11.2      6.0  \n",
      "1596     11.0      6.0  \n",
      "1597     10.2      5.0  \n",
      "1598     11.0      6.0  \n",
      "\n",
      "[1599 rows x 12 columns]\n"
     ]
    }
   ],
   "source": [
    "def clip_outliers(df):       #holl data sets clip\n",
    "    for col in df.select_dtypes(include=np.number):  # Apply only to numeric columns\n",
    "        Q1 = df[col].quantile(0.25)\n",
    "        Q3 = df[col].quantile(0.75)\n",
    "        IQR = Q3 - Q1\n",
    "        lower_bound = Q1 - 1.5 * IQR\n",
    "        upper_bound = Q3 + 1.5 * IQR\n",
    "        df[col] = df[col].clip(lower_bound, upper_bound)\n",
    "    return df\n",
    "\n",
    "# Apply the function\n",
    "df11 = clip_outliers(df)\n",
    "\n",
    "print(df11)"
   ]
  },
  {
   "cell_type": "code",
   "execution_count": 25,
   "metadata": {},
   "outputs": [
    {
     "data": {
      "image/png": "[encoded data removed]",
      "text/plain": [
       "<Figure size 640x480 with 1 Axes>"
      ]
     },
     "metadata": {},
     "output_type": "display_data"
    },
    {
     "data": {
      "image/png": "[encoded data removed]",
      "text/plain": [
       "<Figure size 640x480 with 1 Axes>"
      ]
     },
     "metadata": {},
     "output_type": "display_data"
    },
    {
     "data": {
      "image/png": "[encoded data removed]",
      "text/plain": [
       "<Figure size 640x480 with 1 Axes>"
      ]
     },
     "metadata": {},
     "output_type": "display_data"
    },
    {
     "data": {
      "image/png": "[encoded data removed]",
      "text/plain": [
       "<Figure size 640x480 with 1 Axes>"
      ]
     },
     "metadata": {},
     "output_type": "display_data"
    },
    {
     "data": {
      "image/png": "[encoded data removed]",
      "text/plain": [
       "<Figure size 640x480 with 1 Axes>"
      ]
     },
     "metadata": {},
     "output_type": "display_data"
    },
    {
     "data": {
      "image/png": "[encoded data removed]",
      "text/plain": [
       "<Figure size 640x480 with 1 Axes>"
      ]
     },
     "metadata": {},
     "output_type": "display_data"
    },
    {
     "data": {
      "image/png": "[encoded data removed]",
      "text/plain": [
       "<Figure size 640x480 with 1 Axes>"
      ]
     },
     "metadata": {},
     "output_type": "display_data"
    },
    {
     "data": {
      "image/png": "[encoded data removed]",
      "text/plain": [
       "<Figure size 640x480 with 1 Axes>"
      ]
     },
     "metadata": {},
     "output_type": "display_data"
    },
    {
     "data": {
      "image/png": "[encoded data removed]",
      "text/plain": [
       "<Figure size 640x480 with 1 Axes>"
      ]
     },
     "metadata": {},
     "output_type": "display_data"
    },
    {
     "data": {
      "image/png": "[encoded data removed]",
      "text/plain": [
       "<Figure size 640x480 with 1 Axes>"
      ]
     },
     "metadata": {},
     "output_type": "display_data"
    },
    {
     "data": {
      "image/png": "[encoded data removed]",
      "text/plain": [
       "<Figure size 640x480 with 1 Axes>"
      ]
     },
     "metadata": {},
     "output_type": "display_data"
    },
    {
     "data": {
      "image/png": "[encoded data removed]",
      "text/plain": [
       "<Figure size 640x480 with 1 Axes>"
      ]
     },
     "metadata": {},
     "output_type": "display_data"
    }
   ],
   "source": [
    "for i in df11.select_dtypes(include=np.number).columns:\n",
    "    sns.boxplot(x=df11[i])        \n",
    "    plt.show()"
   ]
  },
  {
   "cell_type": "code",
   "execution_count": 26,
   "metadata": {},
   "outputs": [
    {
     "data": {
      "text/plain": [
       "(1599, 12)"
      ]
     },
     "execution_count": 26,
     "metadata": {},
     "output_type": "execute_result"
    }
   ],
   "source": [
    "df11.shape\n"
   ]
  },
  {
   "cell_type": "code",
   "execution_count": 27,
   "metadata": {},
   "outputs": [
    {
     "data": {
      "text/plain": [
       "(1599, 12)"
      ]
     },
     "execution_count": 27,
     "metadata": {},
     "output_type": "execute_result"
    }
   ],
   "source": [
    "df.shape\n"
   ]
  },
  {
   "cell_type": "code",
   "execution_count": 28,
   "metadata": {},
   "outputs": [
    {
     "name": "stdout",
     "output_type": "stream",
     "text": [
      "      fixed_acidity  volatile acidity  citric acid  residual sugar  chlorides  \\\n",
      "0          0.361290          0.648045     0.000000        0.363636     0.4500   \n",
      "1          0.412903          0.849162     0.000000        0.618182     0.7250   \n",
      "2          0.412903          0.715084     0.043716        0.509091     0.6500   \n",
      "3          0.851613          0.178771     0.612022        0.363636     0.4375   \n",
      "4          0.361290          0.648045     0.000000        0.363636     0.4500   \n",
      "...             ...               ...          ...             ...        ...   \n",
      "1594       0.206452          0.536313     0.087432        0.400000     0.6250   \n",
      "1595       0.167742          0.480447     0.109290        0.472727     0.2750   \n",
      "1596       0.219355          0.435754     0.142077        0.509091     0.4500   \n",
      "1597       0.167742          0.586592     0.131148        0.400000     0.4375   \n",
      "1598       0.180645          0.212291     0.513661        0.981818     0.3375   \n",
      "\n",
      "      free sulfur dioxide  total sulfur dioxide   density        pH  \\\n",
      "0                0.243902              0.241379  0.621085  0.769737   \n",
      "1                0.585366              0.525862  0.509228  0.361842   \n",
      "2                0.341463              0.413793  0.531600  0.440789   \n",
      "3                0.390244              0.465517  0.643456  0.309211   \n",
      "4                0.243902              0.241379  0.621085  0.769737   \n",
      "...                   ...                   ...       ...       ...   \n",
      "1594             0.756098              0.327586  0.296700  0.690789   \n",
      "1595             0.926829              0.387931  0.321309  0.782895   \n",
      "1596             0.682927              0.293103  0.390660  0.651316   \n",
      "1597             0.756098              0.327586  0.360459  0.848684   \n",
      "1598             0.414634              0.310345  0.362696  0.611842   \n",
      "\n",
      "      sulphates   alcohol  quality  \n",
      "0      0.343284  0.196078    0.375  \n",
      "1      0.522388  0.274510    0.375  \n",
      "2      0.477612  0.274510    0.375  \n",
      "3      0.373134  0.274510    0.625  \n",
      "4      0.343284  0.196078    0.375  \n",
      "...         ...       ...      ...  \n",
      "1594   0.373134  0.411765    0.375  \n",
      "1595   0.641791  0.549020    0.625  \n",
      "1596   0.626866  0.509804    0.625  \n",
      "1597   0.567164  0.352941    0.375  \n",
      "1598   0.492537  0.509804    0.625  \n",
      "\n",
      "[1599 rows x 12 columns]\n"
     ]
    }
   ],
   "source": [
    "from sklearn.preprocessing import MinMaxScaler\n",
    "scaler = MinMaxScaler()\n",
    "df_scaled = pd.DataFrame(scaler.fit_transform(df), columns=df.columns)\n",
    "print(df_scaled)"
   ]
  },
  {
   "cell_type": "code",
   "execution_count": 29,
   "metadata": {},
   "outputs": [
    {
     "name": "stdout",
     "output_type": "stream",
     "text": [
      "Train set: (1279, 11) (1279,)\n",
      "Test set: (320, 11) (1279,)\n"
     ]
    }
   ],
   "source": [
    "from sklearn.model_selection import train_test_split\n",
    "x=df.drop('quality',axis=1)\n",
    "y=df['quality']\n",
    "x_train,x_test,y_train,y_test=train_test_split(x,y,test_size=0.2,random_state=42) # 42 is best for better accuracy\n",
    "print(\"Train set:\",x_train.shape,y_train.shape)\n",
    "print(\"Test set:\",x_test.shape,y_train.shape)"
   ]
  },
  {
   "cell_type": "code",
   "execution_count": 30,
   "metadata": {},
   "outputs": [
    {
     "name": "stdout",
     "output_type": "stream",
     "text": [
      "MAE: 0.4893359981852857\n",
      "MSE: 0.35935564441096374\n",
      "R² Score: 0.41433340249745043\n"
     ]
    }
   ],
   "source": [
    "from sklearn.linear_model import LinearRegression\n",
    "from sklearn.metrics import mean_absolute_error, mean_squared_error, r2_score\n",
    "\n",
    "\n",
    "# Create and train the regression model\n",
    "model = LinearRegression()\n",
    "model.fit(x_train, y_train)\n",
    "\n",
    "# Predictions\n",
    "y_pred = model.predict(x_test)\n",
    "\n",
    "# Model evaluation\n",
    "print(\"MAE:\",mean_absolute_error(y_test, y_pred))\n",
    "print(\"MSE:\", mean_squared_error(y_test, y_pred))\n",
    "print(\"R² Score:\", r2_score(y_test, y_pred))"
   ]
  },
  {
   "cell_type": "code",
   "execution_count": 31,
   "metadata": {},
   "outputs": [],
   "source": [
    "from sklearn.tree import DecisionTreeRegressor\n",
    "from sklearn.ensemble import RandomForestRegressor"
   ]
  },
  {
   "cell_type": "code",
   "execution_count": 32,
   "metadata": {},
   "outputs": [
    {
     "name": "stdout",
     "output_type": "stream",
     "text": [
      "Descision Tree Regression\n",
      "MSE: 0.4671875\n",
      "R2 Score: -0.040250831595868286\n"
     ]
    }
   ],
   "source": [
    "# Train Decision Tree Refressor\n",
    "dt_model=DecisionTreeRegressor(random_state=42)\n",
    "dt_model.fit(x_train,y_train)\n",
    "\n",
    "dt_pred=dt_model.predict(x_test)\n",
    "print(\"Descision Tree Regression\")\n",
    "print(\"MSE:\",mean_absolute_error(y_test,dt_pred))\n",
    "print(\"R2 Score:\",r2_score(y_test,dt_pred))"
   ]
  },
  {
   "cell_type": "code",
   "execution_count": 33,
   "metadata": {},
   "outputs": [
    {
     "name": "stdout",
     "output_type": "stream",
     "text": [
      "\n",
      " Random Forest Performance\n",
      "MSE: 0.4115937499999999\n",
      "R2 Score: 0.5432860848943992\n"
     ]
    }
   ],
   "source": [
    "rf_model=RandomForestRegressor(n_estimators=100,random_state=42)\n",
    "rf_model.fit(x_train,y_train)\n",
    "\n",
    "rf_preds=rf_model.predict(x_test)\n",
    "print(\"\\n Random Forest Performance\")\n",
    "print(\"MSE:\",mean_absolute_error(y_test,rf_preds))\n",
    "print(\"R2 Score:\",r2_score(y_test,rf_preds))"
   ]
  },
  {
   "cell_type": "code",
   "execution_count": 34,
   "metadata": {},
   "outputs": [
    {
     "name": "stdout",
     "output_type": "stream",
     "text": [
      "\n",
      "Prediction Summary\n",
      "      Actual MPG  Decision Tree Prediction  Random forest prediction\n",
      "803          6.0                       5.0                      5.31\n",
      "124          5.0                       5.0                      5.25\n",
      "350          6.0                       5.0                      5.46\n",
      "682          5.0                       5.0                      5.27\n",
      "1326         6.0                       6.0                      6.00\n"
     ]
    }
   ],
   "source": [
    "summary=pd.DataFrame({\n",
    "    'Actual MPG':y_test,\n",
    "    'Decision Tree Prediction':dt_pred,\n",
    "    'Random forest prediction':rf_preds,\n",
    "})\n",
    "print('\\nPrediction Summary')\n",
    "print(summary.head())"
   ]
  },
  {
   "cell_type": "code",
   "execution_count": 35,
   "metadata": {},
   "outputs": [
    {
     "name": "stdout",
     "output_type": "stream",
     "text": [
      "\n",
      " Rigde Regression Performance\n",
      "MSE: 0.49218945242306\n",
      "R2 Score: 0.40639702640541164\n"
     ]
    }
   ],
   "source": [
    "from sklearn.linear_model import Ridge,Lasso,ElasticNet\n",
    "from sklearn.metrics import mean_squared_error,r2_score\n",
    "\n",
    "#Ridge Regression Model \n",
    "\n",
    "redge_model=Ridge(alpha=1.0) #Adjust alpha for regulation strenght \n",
    "redge_model.fit(x_train,y_train)\n",
    "\n",
    "redge_preds=redge_model.predict(x_test)\n",
    "print(\"\\n Rigde Regression Performance\")\n",
    "print(\"MSE:\",mean_absolute_error(y_test,redge_preds))\n",
    "print(\"R2 Score:\",r2_score(y_test,redge_preds))\n"
   ]
  },
  {
   "cell_type": "code",
   "execution_count": 36,
   "metadata": {},
   "outputs": [
    {
     "name": "stdout",
     "output_type": "stream",
     "text": [
      "\n",
      "  Lasso Regression Performance\n",
      "MSE: 0.5066767510113644\n",
      "R2 Score: 0.3691869430016852\n"
     ]
    }
   ],
   "source": [
    "#Lasso Regression Model \n",
    "\n",
    "lasso_model=Lasso(alpha=0.01) #Lasso may need smaller alpha to avoid too much features elimination \n",
    "lasso_model.fit(x_train,y_train)\n",
    "\n",
    "lasso_preds=lasso_model.predict(x_test)\n",
    "print(\"\\n  Lasso Regression Performance\")\n",
    "print(\"MSE:\",mean_absolute_error(y_test,lasso_preds))\n",
    "print(\"R2 Score:\",r2_score(y_test,lasso_preds))\n"
   ]
  },
  {
   "cell_type": "code",
   "execution_count": 37,
   "metadata": {},
   "outputs": [
    {
     "name": "stdout",
     "output_type": "stream",
     "text": [
      "\n",
      "  elastic net Regression Performance\n",
      "MSE: 0.5045029833264835\n",
      "R2 Score: 0.37466543025968746\n"
     ]
    }
   ],
   "source": [
    "elastic_net__model=ElasticNet(alpha=0.01,l1_ratio=0.5) #l1_ratio=0.5 balance Ridge & Lassa\n",
    "elastic_net__model.fit(x_train,y_train)\n",
    "\n",
    "elastic_net_preds=elastic_net__model.predict(x_test)\n",
    "print(\"\\n  elastic net Regression Performance\")\n",
    "print(\"MSE:\",mean_absolute_error(y_test,elastic_net_preds))\n",
    "print(\"R2 Score:\",r2_score(y_test,elastic_net_preds))"
   ]
  },
  {
   "cell_type": "code",
   "execution_count": 38,
   "metadata": {},
   "outputs": [
    {
     "name": "stdout",
     "output_type": "stream",
     "text": [
      "\n",
      "Prediction Summary\n",
      "      Actual price  Decision Tree Prediction  Random forest prediction  \\\n",
      "803            6.0                       5.0                      5.31   \n",
      "124            5.0                       5.0                      5.25   \n",
      "350            6.0                       5.0                      5.46   \n",
      "682            5.0                       5.0                      5.27   \n",
      "1326           6.0                       6.0                      6.00   \n",
      "\n",
      "      Ridge regression performance  lasso regression performance  elastic net  \n",
      "803                       5.394026                      5.330244     5.326458  \n",
      "124                       5.023221                      5.068559     5.066222  \n",
      "350                       5.806375                      5.714044     5.732470  \n",
      "682                       5.435567                      5.503445     5.495134  \n",
      "1326                      5.689836                      5.696969     5.699928  \n"
     ]
    }
   ],
   "source": [
    "summary=pd.DataFrame({\n",
    "    'Actual price':y_test,\n",
    "    'Decision Tree Prediction':dt_pred,\n",
    "    'Random forest prediction':rf_preds,\n",
    "    'Ridge regression performance':redge_preds,\n",
    "    'lasso regression performance':lasso_preds,\n",
    "    'elastic net':elastic_net_preds,\n",
    "})\n",
    "print('\\nPrediction Summary')\n",
    "print(summary.head())"
   ]
  },
  {
   "cell_type": "code",
   "execution_count": 39,
   "metadata": {},
   "outputs": [
    {
     "name": "stdout",
     "output_type": "stream",
     "text": [
      "Gradient Boosting RMSE: 0.575033031804616\n"
     ]
    }
   ],
   "source": [
    "from sklearn.ensemble import GradientBoostingRegressor,AdaBoostRegressor\n",
    "from sklearn.svm import SVR\n",
    "#import xgboost as xgb\n",
    "from sklearn.preprocessing import StandardScaler\n",
    "from sklearn.metrics import mean_squared_error\n",
    "\n",
    "# Gradient Boosting Regression \n",
    "\n",
    "gbr =GradientBoostingRegressor(n_estimators=100,learning_rate=0.1,max_depth=3,random_state=42)\n",
    "gbr.fit(x_train,y_train)\n",
    "y_pred_gbr=gbr.predict(x_test)\n",
    "print(\"Gradient Boosting RMSE:\",np.sqrt(mean_squared_error(y_test,y_pred_gbr)))"
   ]
  }
 ],
 "metadata": {
  "kernelspec": {
   "display_name": "Python 3",
   "language": "python",
   "name": "python3"
  },
  "language_info": {
   "codemirror_mode": {
    "name": "ipython",
    "version": 3
   },
   "file_extension": ".py",
   "mimetype": "text/x-python",
   "name": "python",
   "nbconvert_exporter": "python",
   "pygments_lexer": "ipython3",
   "version": "3.13.1"
  }
 },
 "nbformat": 4,
 "nbformat_minor": 2
}
