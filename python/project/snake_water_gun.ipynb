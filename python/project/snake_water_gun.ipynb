{
 "cells": [
  {
   "cell_type": "code",
   "execution_count": 13,
   "metadata": {},
   "outputs": [
    {
     "name": "stdout",
     "output_type": "stream",
     "text": [
      "Welcome to the Snake Water Gun Game!\n",
      "\n",
      "Round 1\n",
      "Choose your option: snake, water, gun\n",
      "Computer chose: water\n",
      "It's a draw!\n",
      "\n",
      "Final Scores:\n",
      "You: 0\n",
      "Computer: 0\n",
      "It's a tie! Great match!\n"
     ]
    }
   ],
   "source": [
    "import random\n",
    "\n",
    "def snake_water_gun():\n",
    "    print(\"Welcome to the Snake Water Gun Game!\")\n",
    "    options = ['snake', 'water', 'gun']\n",
    "\n",
    "    user_score = 0\n",
    "    computer_score = 0\n",
    "\n",
    "    while True:\n",
    "        try:\n",
    "            rounds = int(input(\"Enter the number of rounds you want to play: \"))\n",
    "            if rounds <= 0:\n",
    "                print(\"Please enter a positive number.\")\n",
    "                continue\n",
    "            break\n",
    "        except ValueError:\n",
    "            print(\"Invalid input! Please enter a valid number.\")\n",
    "\n",
    "    for i in range(rounds):\n",
    "        print(f\"\\nRound {i + 1}\")\n",
    "        print(\"Choose your option: snake, water, gun\")\n",
    "        user_choice = input(\"Your choice: \").lower()\n",
    "\n",
    "        if user_choice not in options:\n",
    "            print(\"Invalid option! You lose this round.\")\n",
    "            computer_score += 1\n",
    "            continue\n",
    "\n",
    "        computer_choice = random.choice(options)\n",
    "        print(f\"Computer chose: {computer_choice}\")\n",
    "\n",
    "\n",
    "        if user_choice == computer_choice:\n",
    "            print(\"It's a draw!\")\n",
    "        elif (user_choice == 'snake' and computer_choice == 'water') or \\\n",
    "             (user_choice == 'water' and computer_choice == 'gun') or \\\n",
    "             (user_choice == 'gun' and computer_choice == 'snake'):\n",
    "            print(\"You win this round!\")\n",
    "            user_score += 1\n",
    "        else:\n",
    "            print(\"Computer wins this round!\")\n",
    "            computer_score += 1\n",
    "\n",
    "    print(\"\\nFinal Scores:\")\n",
    "    print(f\"You: {user_score}\")\n",
    "    print(f\"Computer: {computer_score}\")\n",
    "\n",
    "    if user_score > computer_score:\n",
    "        print(\"Congratulations! You won the game! 🎉\")\n",
    "    elif user_score < computer_score:\n",
    "        print(\"Oops! The computer won the game. Better luck next time!\")\n",
    "    else:\n",
    "        print(\"It's a tie! Great match!\")\n",
    "\n",
    "snake_water_gun()\n"
   ]
  }
 ],
 "metadata": {
  "kernelspec": {
   "display_name": "base",
   "language": "python",
   "name": "python3"
  },
  "language_info": {
   "codemirror_mode": {
    "name": "ipython",
    "version": 3
   },
   "file_extension": ".py",
   "mimetype": "text/x-python",
   "name": "python",
   "nbconvert_exporter": "python",
   "pygments_lexer": "ipython3",
   "version": "3.12.4"
  }
 },
 "nbformat": 4,
 "nbformat_minor": 2
}
