{
 "cells": [
  {
   "cell_type": "code",
   "execution_count": 1,
   "metadata": {},
   "outputs": [
    {
     "name": "stdout",
     "output_type": "stream",
     "text": [
      "Hello All\n"
     ]
    }
   ],
   "source": [
    "print(\"Hello All\")"
   ]
  },
  {
   "cell_type": "code",
   "execution_count": null,
   "metadata": {},
   "outputs": [
    {
     "name": "stdout",
     "output_type": "stream",
     "text": [
      "Hello,Avinash\n",
      "Welcome World Of AI\n"
     ]
    }
   ],
   "source": [
    "print(\"Hello,Avinash\\nWelcome World Of AI\")"
   ]
  },
  {
   "cell_type": "code",
   "execution_count": 5,
   "metadata": {},
   "outputs": [
    {
     "name": "stdout",
     "output_type": "stream",
     "text": [
      "Hello Avinash\n"
     ]
    }
   ],
   "source": [
    "print(\"Hello\"+\" \"+\"Avinash\")"
   ]
  },
  {
   "cell_type": "code",
   "execution_count": 11,
   "metadata": {},
   "outputs": [
    {
     "name": "stdout",
     "output_type": "stream",
     "text": [
      "Type Number Is :11\n",
      "Enter Number Is:Avinash \n"
     ]
    }
   ],
   "source": [
    "a=input(\"Enter Number\")\n",
    "name=input(\"Enter Name\")\n",
    "print(\"Type Number Is :\"+a)\n",
    "print(\"Enter Number Is:\"+name)"
   ]
  },
  {
   "cell_type": "code",
   "execution_count": 16,
   "metadata": {},
   "outputs": [
    {
     "name": "stdout",
     "output_type": "stream",
     "text": [
      "8\n"
     ]
    }
   ],
   "source": [
    "print(len(name))"
   ]
  },
  {
   "cell_type": "code",
   "execution_count": 17,
   "metadata": {},
   "outputs": [
    {
     "name": "stdout",
     "output_type": "stream",
     "text": [
      "Wlecome Brand Name Generator\n",
      "Your barnd Name is : Aurangabad Dog \n"
     ]
    }
   ],
   "source": [
    "print(\"Wlecome Brand Name Generator\")\n",
    "city_name=input(\"What is city name you grow up\")\n",
    "pet_name=input(\"what is pet name\")\n",
    "print(\"Your barnd Name is :\",city_name+\" \"+pet_name)"
   ]
  }
 ],
 "metadata": {
  "kernelspec": {
   "display_name": "Python 3",
   "language": "python",
   "name": "python3"
  },
  "language_info": {
   "codemirror_mode": {
    "name": "ipython",
    "version": 3
   },
   "file_extension": ".py",
   "mimetype": "text/x-python",
   "name": "python",
   "nbconvert_exporter": "python",
   "pygments_lexer": "ipython3",
   "version": "3.13.1"
  }
 },
 "nbformat": 4,
 "nbformat_minor": 2
}
