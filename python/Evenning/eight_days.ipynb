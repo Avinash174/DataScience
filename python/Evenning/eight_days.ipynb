{
 "cells": [
  {
   "cell_type": "code",
   "execution_count": 1,
   "metadata": {},
   "outputs": [
    {
     "data": {
      "text/plain": [
       "17.0"
      ]
     },
     "execution_count": 1,
     "metadata": {},
     "output_type": "execute_result"
    }
   ],
   "source": [
    "avg=lambda x,y:(x+y)/2\n",
    "avg(22,12)"
   ]
  },
  {
   "cell_type": "code",
   "execution_count": 2,
   "metadata": {},
   "outputs": [
    {
     "data": {
      "text/plain": [
       "4"
      ]
     },
     "execution_count": 2,
     "metadata": {},
     "output_type": "execute_result"
    }
   ],
   "source": [
    "sq=lambda a:a*a\n",
    "sq(2)"
   ]
  },
  {
   "cell_type": "code",
   "execution_count": 4,
   "metadata": {},
   "outputs": [
    {
     "data": {
      "text/plain": [
       "125"
      ]
     },
     "execution_count": 4,
     "metadata": {},
     "output_type": "execute_result"
    }
   ],
   "source": [
    "cube=lambda b:b*b*b\n",
    "cube(5)"
   ]
  },
  {
   "cell_type": "code",
   "execution_count": 5,
   "metadata": {},
   "outputs": [
    {
     "name": "stdout",
     "output_type": "stream",
     "text": [
      "True\n",
      "False\n"
     ]
    }
   ],
   "source": [
    "is_even = lambda x: x % 2 == 0\n",
    "\n",
    "print(is_even(4))  \n",
    "print(is_even(7))"
   ]
  },
  {
   "cell_type": "code",
   "execution_count": 8,
   "metadata": {},
   "outputs": [
    {
     "name": "stdout",
     "output_type": "stream",
     "text": [
      "[1, 2, 3, 4, 5, 6]\n",
      "<class 'function'>\n"
     ]
    }
   ],
   "source": [
    "number=[1,2,3,4,5,6]\n",
    "double=lambda number:number\n",
    "print(number)\n",
    "print(type(double))"
   ]
  },
  {
   "cell_type": "code",
   "execution_count": 22,
   "metadata": {},
   "outputs": [
    {
     "name": "stdout",
     "output_type": "stream",
     "text": [
      "[2, 4, 6, 8, 10]\n",
      "<class 'list'>\n",
      "1\n",
      "2\n",
      "3\n",
      "4\n",
      "5\n"
     ]
    }
   ],
   "source": [
    "\n",
    "number=[1,2,3,4,5]\n",
    "double=map(lambda x:x*2,number)\n",
    "print(list(double))\n",
    "print(type(number))\n",
    "\n"
   ]
  },
  {
   "cell_type": "code",
   "execution_count": 25,
   "metadata": {},
   "outputs": [
    {
     "name": "stdout",
     "output_type": "stream",
     "text": [
      "[1, 0, 1, 0, 1]\n",
      "<class 'list'>\n"
     ]
    }
   ],
   "source": [
    "number=[1,2,3,4,5]\n",
    "double=map(lambda x:x*x*x,number)\n",
    "print(list(double))\n",
    "print(type(number))"
   ]
  },
  {
   "cell_type": "code",
   "execution_count": 28,
   "metadata": {},
   "outputs": [
    {
     "name": "stdout",
     "output_type": "stream",
     "text": [
      "[1, 0, 1, 0, 1]\n",
      "<class 'list'>\n"
     ]
    }
   ],
   "source": [
    "number=[1,2,3,4,5]\n",
    "double=map(lambda x:x%2,number)\n",
    "print(list(double))\n",
    "print(type(number))"
   ]
  },
  {
   "cell_type": "code",
   "execution_count": 7,
   "metadata": {},
   "outputs": [
    {
     "name": "stdout",
     "output_type": "stream",
     "text": [
      "[45, 5]\n"
     ]
    }
   ],
   "source": [
    "# Filter\n",
    "\n",
    "l=[1,2,3,45,5]\n",
    "new=list(filter(lambda x : x>4,l))\n",
    "print(new)"
   ]
  },
  {
   "cell_type": "code",
   "execution_count": 8,
   "metadata": {},
   "outputs": [
    {
     "name": "stdout",
     "output_type": "stream",
     "text": [
      "[1, 2, 3]\n"
     ]
    }
   ],
   "source": [
    "l=[1,2,3,45,5]\n",
    "new=list(filter(lambda x : x<4,l))\n",
    "print(new)"
   ]
  },
  {
   "cell_type": "code",
   "execution_count": 11,
   "metadata": {},
   "outputs": [
    {
     "name": "stdout",
     "output_type": "stream",
     "text": [
      "[2, 44]\n"
     ]
    }
   ],
   "source": [
    "l=[1,2,3,44,5]\n",
    "new=list(filter(lambda x : x%2==0,l))\n",
    "print(new)"
   ]
  },
  {
   "cell_type": "code",
   "execution_count": 16,
   "metadata": {},
   "outputs": [
    {
     "name": "stdout",
     "output_type": "stream",
     "text": [
      "55\n"
     ]
    }
   ],
   "source": [
    "from functools import reduce\n",
    "\n",
    "l = [1, 2, 3, 44, 5]\n",
    "\n",
    "result = reduce(lambda x, y: x + y, l) \n",
    "print(result)\n"
   ]
  },
  {
   "cell_type": "code",
   "execution_count": 17,
   "metadata": {},
   "outputs": [
    {
     "name": "stdout",
     "output_type": "stream",
     "text": [
      "['Ahmednagar', 'delhi', 'jalna', 'pune']\n"
     ]
    }
   ],
   "source": [
    "city=[\"pune\",\"Ahmednagar\",\"delhi\",\"jalna\"]\n",
    "sort=sorted(city,key=lambda x:len(x),reverse=True)\n",
    "print(sort)\n"
   ]
  },
  {
   "cell_type": "code",
   "execution_count": 21,
   "metadata": {},
   "outputs": [
    {
     "name": "stdout",
     "output_type": "stream",
     "text": [
      "['Ahmednagar', 'delhi', 'jalna', 'pune']\n"
     ]
    }
   ],
   "source": [
    "from functools import reduce\n",
    "\n",
    "city = [\"pune\", \"Ahmednagar\", \"delhi\", \"jalna\"]\n",
    "\n",
    "# Use reduce to sort the list by length in reverse order\n",
    "sorted_city = reduce(\n",
    "    lambda acc, current: sorted(acc + [current], key=lambda x: len(x), reverse=True),\n",
    "    city,\n",
    "    []\n",
    ")\n",
    "\n",
    "print(sorted_city)\n"
   ]
  }
 ],
 "metadata": {
  "kernelspec": {
   "display_name": "base",
   "language": "python",
   "name": "python3"
  },
  "language_info": {
   "codemirror_mode": {
    "name": "ipython",
    "version": 3
   },
   "file_extension": ".py",
   "mimetype": "text/x-python",
   "name": "python",
   "nbconvert_exporter": "python",
   "pygments_lexer": "ipython3",
   "version": "3.12.4"
  }
 },
 "nbformat": 4,
 "nbformat_minor": 2
}
