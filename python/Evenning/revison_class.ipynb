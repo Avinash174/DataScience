{
 "cells": [
  {
   "cell_type": "code",
   "execution_count": 6,
   "metadata": {},
   "outputs": [
    {
     "name": "stdout",
     "output_type": "stream",
     "text": [
      "Johny Johny, yes papa ?Eating sugar?\n",
      " No papa Telling lies?\n",
      " No papa Open your mouth\n",
      " Ha, ha, ha Johny Johny, yes papa? Eating sugar?\n",
      " No papaTelling lies?\n",
      " No papaOpen your mouth\n",
      " Ha, ha, ha\n"
     ]
    }
   ],
   "source": [
    "print(\"Johny Johny, yes papa ?Eating sugar?\\n No papa Telling lies?\\n No papa Open your mouth\\n Ha, ha, ha Johny Johny, yes papa? Eating sugar?\\n No papaTelling lies?\\n No papaOpen your mouth\\n Ha, ha, ha\")"
   ]
  },
  {
   "cell_type": "code",
   "execution_count": 7,
   "metadata": {},
   "outputs": [
    {
     "name": "stdout",
     "output_type": "stream",
     "text": [
      "Johny Johny, yes papa ?Eating sugar?\n",
      " No papa Telling lies?\n",
      " No papa Open your mouth\n",
      " Ha, ha, ha Johny Johny, yes papa? Eating sugar?\n",
      " No papaTelling lies?\n",
      " No papaOpen your mouth\n",
      " Ha, ha, ha\n"
     ]
    }
   ],
   "source": [
    "print('''Johny Johny, yes papa ?Eating sugar?\n",
    " No papa Telling lies?\n",
    " No papa Open your mouth\n",
    " Ha, ha, ha Johny Johny, yes papa? Eating sugar?\n",
    " No papaTelling lies?\n",
    " No papaOpen your mouth\n",
    " Ha, ha, ha''')"
   ]
  },
  {
   "cell_type": "code",
   "execution_count": 8,
   "metadata": {},
   "outputs": [
    {
     "name": "stdout",
     "output_type": "stream",
     "text": [
      "Square Of First Number is: 100\n",
      "Addition Of Two Numbers is: 10.5\n",
      "Remainder is: 1\n",
      "<class 'int'>\n",
      "Second Number is Greater\n"
     ]
    }
   ],
   "source": [
    "a = int(input(\"Enter First Number: \"))  \n",
    "b = int(input(\"Enter Second Number: \")) \n",
    "c = (a + b) / 2\n",
    "rem=(a+b) % 2\n",
    "sq=a*a\n",
    "print(\"Square Of First Number is:\", sq)\n",
    "print(\"Addition Of Two Numbers is:\", c)\n",
    "print(\"Remainder is:\", rem)\n",
    "print(type(a))\n",
    "if(a>b):\n",
    "  print(\"First Number is Greater\")\n",
    "if(a<b):\n",
    "  print(\"Second Number is Greater\")"
   ]
  },
  {
   "cell_type": "code",
   "execution_count": 12,
   "metadata": {},
   "outputs": [
    {
     "name": "stdout",
     "output_type": "stream",
     "text": [
      "Even Number is: 110\n"
     ]
    }
   ],
   "source": [
    "a = int(input(\"Enter A Number: \"))  \n",
    "if a % 2 == 0:  \n",
    "    print(\"Even Number is:\", a)\n",
    "else:  \n",
    "    print(\"Odd Number is:\", a)\n"
   ]
  }
 ],
 "metadata": {
  "kernelspec": {
   "display_name": "base",
   "language": "python",
   "name": "python3"
  },
  "language_info": {
   "codemirror_mode": {
    "name": "ipython",
    "version": 3
   },
   "file_extension": ".py",
   "mimetype": "text/x-python",
   "name": "python",
   "nbconvert_exporter": "python",
   "pygments_lexer": "ipython3",
   "version": "3.12.4"
  }
 },
 "nbformat": 4,
 "nbformat_minor": 2
}
