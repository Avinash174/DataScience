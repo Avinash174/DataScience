{
 "cells": [
  {
   "cell_type": "code",
   "execution_count": 61,
   "metadata": {},
   "outputs": [
    {
     "name": "stdout",
     "output_type": "stream",
     "text": [
      "[11, 2, 34, 41, 57]\n"
     ]
    },
    {
     "data": {
      "text/plain": [
       "array([ 2, 11, 34, 41, 57])"
      ]
     },
     "execution_count": 61,
     "metadata": {},
     "output_type": "execute_result"
    }
   ],
   "source": [
    "#search sort and filter arrays\n",
    "\n",
    "import numpy as np\n",
    "s=([11,2,34,41,57])\n",
    "print(s)\n",
    "np.sort(s)"
   ]
  },
  {
   "cell_type": "code",
   "execution_count": 62,
   "metadata": {},
   "outputs": [
    {
     "name": "stdout",
     "output_type": "stream",
     "text": [
      "[[ 1 11 33]\n",
      " [21 32 33]]\n"
     ]
    }
   ],
   "source": [
    "arr=np.array([[11,1,33],[21,33,32]])\n",
    "arr\n",
    "print(np.sort(arr))"
   ]
  },
  {
   "cell_type": "code",
   "execution_count": 63,
   "metadata": {},
   "outputs": [
    {
     "name": "stdout",
     "output_type": "stream",
     "text": [
      "(array([0]), array([1]))\n"
     ]
    }
   ],
   "source": [
    "search=np.array([[1,2,3]])\n",
    "print(np.where(search%2==0))\n"
   ]
  },
  {
   "cell_type": "code",
   "execution_count": 64,
   "metadata": {},
   "outputs": [
    {
     "name": "stdout",
     "output_type": "stream",
     "text": [
      "(array([2]),)\n",
      "(array([1, 2, 4, 5]),)\n"
     ]
    }
   ],
   "source": [
    "s=np.array([7,8,4,3,12,2])\n",
    "s1=np.where(s==4)\n",
    "print(s1)\n",
    "s2=np.where(s%2==0)\n",
    "print(s2)\n"
   ]
  },
  {
   "cell_type": "code",
   "execution_count": 65,
   "metadata": {},
   "outputs": [
    {
     "name": "stdout",
     "output_type": "stream",
     "text": [
      "0\n"
     ]
    }
   ],
   "source": [
    "s=np.array([22,34,63,98])\n",
    "ss=np.searchsorted(s,8)\n",
    "print(ss)"
   ]
  },
  {
   "cell_type": "code",
   "execution_count": 66,
   "metadata": {},
   "outputs": [
    {
     "name": "stdout",
     "output_type": "stream",
     "text": [
      "[7 4]\n"
     ]
    }
   ],
   "source": [
    "#array filter\n",
    "\n",
    "s=np.array([7,8,4,3])\n",
    "fa=[True,False,True,False]\n",
    "new=s[fa]\n",
    "print(new)"
   ]
  },
  {
   "cell_type": "code",
   "execution_count": 67,
   "metadata": {},
   "outputs": [
    {
     "name": "stdout",
     "output_type": "stream",
     "text": [
      "[7 8 4]\n"
     ]
    }
   ],
   "source": [
    "import numpy as np\n",
    "s=np.array([7,8,4,3])\n",
    "fa=s>3\n",
    "new=s[fa]\n",
    "print(new)"
   ]
  },
  {
   "cell_type": "code",
   "execution_count": 68,
   "metadata": {},
   "outputs": [
    {
     "name": "stdout",
     "output_type": "stream",
     "text": [
      "[8 4]\n"
     ]
    }
   ],
   "source": [
    "import numpy as np\n",
    "s=np.array([7,8,4,3])\n",
    "fa=s%2==0\n",
    "new=s[fa]\n",
    "print(new)"
   ]
  },
  {
   "cell_type": "code",
   "execution_count": 69,
   "metadata": {},
   "outputs": [
    {
     "name": "stdout",
     "output_type": "stream",
     "text": [
      "[7 3]\n"
     ]
    }
   ],
   "source": [
    "import numpy as np\n",
    "s=np.array([7,8,4,3])\n",
    "fa=s%2!=0\n",
    "new=s[fa]\n",
    "print(new)"
   ]
  },
  {
   "cell_type": "code",
   "execution_count": 70,
   "metadata": {},
   "outputs": [
    {
     "name": "stdout",
     "output_type": "stream",
     "text": [
      "[]\n"
     ]
    }
   ],
   "source": [
    "import numpy as np\n",
    "s=np.array([7,8,4,3])\n",
    "fa=s<3\n",
    "new=s[fa]\n",
    "print(new)"
   ]
  },
  {
   "cell_type": "code",
   "execution_count": 71,
   "metadata": {},
   "outputs": [
    {
     "name": "stdout",
     "output_type": "stream",
     "text": [
      "[3]\n"
     ]
    }
   ],
   "source": [
    "import numpy as np\n",
    "s=np.array([7,8,4,3])\n",
    "fa=s==3\n",
    "new=s[fa]\n",
    "print(new)"
   ]
  },
  {
   "cell_type": "code",
   "execution_count": 72,
   "metadata": {},
   "outputs": [
    {
     "name": "stdout",
     "output_type": "stream",
     "text": [
      "[10, 2, 3, 20]\n",
      "35\n",
      "2\n",
      "20\n",
      "4\n",
      "8.75\n",
      "[10 12 15 35]\n"
     ]
    }
   ],
   "source": [
    "#aggregate function\n",
    "\n",
    "a=([10,2,3,20])\n",
    "print(a)\n",
    "print(np.sum(a))\n",
    "print(np.min(a))\n",
    "print(np.max(a))\n",
    "print(np.size(a))\n",
    "print(np.mean(a))\n",
    "print(np.cumsum(a)) #previous value sum"
   ]
  },
  {
   "cell_type": "code",
   "execution_count": 73,
   "metadata": {},
   "outputs": [
    {
     "name": "stdout",
     "output_type": "stream",
     "text": [
      "Price:\n",
      " [2 4 5 6 7]\n",
      "Quantity:\n",
      " [100 200 300 400 500]\n",
      "Price Sum: 24\n",
      "Price * Quantity:\n",
      " [ 200  800 1500 2400 3500]\n"
     ]
    }
   ],
   "source": [
    "import numpy as np\n",
    "\n",
    "# Define price and quantity\n",
    "price = np.array([2, 4, 5, 6, 7])  # Assuming you meant c\n",
    "quantity = np.array([100, 200, 300, 400, 500])\n",
    "\n",
    "# Print price and quantity\n",
    "print(\"Price:\\n\", price)\n",
    "print(\"Quantity:\\n\", quantity)\n",
    "\n",
    "# Calculate price sum\n",
    "price_sum = np.sum(price)\n",
    "print(\"Price Sum:\", price_sum)\n",
    "\n",
    "# Element-wise multiplication of price and quantity\n",
    "cum = price * quantity  # Multiply price by quantity\n",
    "print(\"Price * Quantity:\\n\", cum)\n"
   ]
  },
  {
   "cell_type": "code",
   "execution_count": 74,
   "metadata": {},
   "outputs": [
    {
     "name": "stdout",
     "output_type": "stream",
     "text": [
      "[200, 210, 300, 350, 200, 280, 320]\n"
     ]
    }
   ],
   "source": [
    "import statistics as stats\n",
    "\n",
    "backend_food=[200,210,300,350,200,280,320]\n",
    "print(backend_food)\n",
    "a=np.array(backend_food)"
   ]
  },
  {
   "cell_type": "code",
   "execution_count": 75,
   "metadata": {},
   "outputs": [
    {
     "name": "stdout",
     "output_type": "stream",
     "text": [
      "265.7142857142857\n"
     ]
    }
   ],
   "source": [
    "print(np.mean(backend_food))"
   ]
  },
  {
   "cell_type": "code",
   "execution_count": 76,
   "metadata": {},
   "outputs": [
    {
     "name": "stdout",
     "output_type": "stream",
     "text": [
      "280.0\n"
     ]
    }
   ],
   "source": [
    "print(np.median(backend_food))"
   ]
  },
  {
   "cell_type": "code",
   "execution_count": 77,
   "metadata": {},
   "outputs": [
    {
     "name": "stdout",
     "output_type": "stream",
     "text": [
      "200\n"
     ]
    }
   ],
   "source": [
    "print(stats.mode(backend_food))"
   ]
  },
  {
   "cell_type": "code",
   "execution_count": 78,
   "metadata": {},
   "outputs": [
    {
     "name": "stdout",
     "output_type": "stream",
     "text": [
      "57.53437304457791\n"
     ]
    }
   ],
   "source": [
    "print(np.std(backend_food))"
   ]
  },
  {
   "cell_type": "code",
   "execution_count": 79,
   "metadata": {},
   "outputs": [
    {
     "name": "stdout",
     "output_type": "stream",
     "text": [
      "3310.204081632653\n"
     ]
    }
   ],
   "source": [
    "print(np.var(backend_food))"
   ]
  },
  {
   "cell_type": "code",
   "execution_count": 80,
   "metadata": {},
   "outputs": [
    {
     "data": {
      "text/plain": [
       "3249"
      ]
     },
     "execution_count": 80,
     "metadata": {},
     "output_type": "execute_result"
    }
   ],
   "source": [
    "57 **2"
   ]
  }
 ],
 "metadata": {
  "kernelspec": {
   "display_name": "base",
   "language": "python",
   "name": "python3"
  },
  "language_info": {
   "codemirror_mode": {
    "name": "ipython",
    "version": 3
   },
   "file_extension": ".py",
   "mimetype": "text/x-python",
   "name": "python",
   "nbconvert_exporter": "python",
   "pygments_lexer": "ipython3",
   "version": "3.12.4"
  }
 },
 "nbformat": 4,
 "nbformat_minor": 2
}
