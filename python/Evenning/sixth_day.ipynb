{
 "cells": [
  {
   "cell_type": "code",
   "execution_count": 2,
   "metadata": {},
   "outputs": [
    {
     "name": "stdout",
     "output_type": "stream",
     "text": [
      "48.666666666666664\n"
     ]
    }
   ],
   "source": [
    "a=int(input(\"Enter First\"))\n",
    "b=int(input(\"Enter First\"))\n",
    "c=int(input(\"Enter First\"))\n",
    "\n",
    "average=(a+b+c)/3\n",
    "print(average)"
   ]
  },
  {
   "cell_type": "code",
   "execution_count": 3,
   "metadata": {},
   "outputs": [],
   "source": [
    "def fun1():\n",
    "    print(\"hello\")"
   ]
  },
  {
   "cell_type": "code",
   "execution_count": 4,
   "metadata": {},
   "outputs": [
    {
     "name": "stdout",
     "output_type": "stream",
     "text": [
      "hello\n"
     ]
    }
   ],
   "source": [
    "fun1()"
   ]
  },
  {
   "cell_type": "code",
   "execution_count": null,
   "metadata": {},
   "outputs": [],
   "source": [
    "def good_day():\n",
    "    print(\"Hello good day\")"
   ]
  },
  {
   "cell_type": "code",
   "execution_count": 6,
   "metadata": {},
   "outputs": [
    {
     "name": "stdout",
     "output_type": "stream",
     "text": [
      "Hello good day\n"
     ]
    }
   ],
   "source": [
    "good_day()"
   ]
  },
  {
   "cell_type": "code",
   "execution_count": 18,
   "metadata": {},
   "outputs": [],
   "source": [
    "def average():\n",
    "    a=int(input(\"Enter First\"))\n",
    "    b=int(input(\"Enter First\"))\n",
    "    c=int(input(\"Enter First\"))\n",
    "    print(\"first number\",a)\n",
    "    print(\"second number:\",b)\n",
    "    print(\"third number\",c)\n",
    "    average=(a+b+c)/3\n",
    "\n",
    "    print(\"Average:\",average)"
   ]
  },
  {
   "cell_type": "code",
   "execution_count": 19,
   "metadata": {},
   "outputs": [
    {
     "name": "stdout",
     "output_type": "stream",
     "text": [
      "first number 32\n",
      "second number: 12\n",
      "third number 25\n",
      "Average: 23.0\n"
     ]
    }
   ],
   "source": [
    "average()"
   ]
  },
  {
   "cell_type": "code",
   "execution_count": 26,
   "metadata": {},
   "outputs": [],
   "source": [
    "def good_day(name):\n",
    "    print(\"good day\",name)"
   ]
  },
  {
   "cell_type": "code",
   "execution_count": 27,
   "metadata": {},
   "outputs": [
    {
     "name": "stdout",
     "output_type": "stream",
     "text": [
      "good day avinash\n"
     ]
    }
   ],
   "source": [
    "good_day(\"avinash\")"
   ]
  },
  {
   "cell_type": "code",
   "execution_count": 30,
   "metadata": {},
   "outputs": [],
   "source": [
    "def goodbye(name,ending):\n",
    "    print(\"hello\",name)\n",
    "    print(ending)"
   ]
  },
  {
   "cell_type": "code",
   "execution_count": 31,
   "metadata": {},
   "outputs": [
    {
     "name": "stdout",
     "output_type": "stream",
     "text": [
      "hello Avinash\n",
      "thank you\n"
     ]
    }
   ],
   "source": [
    "goodbye(\"Avinash\",\"thank you\")"
   ]
  },
  {
   "cell_type": "code",
   "execution_count": 35,
   "metadata": {},
   "outputs": [
    {
     "name": "stdout",
     "output_type": "stream",
     "text": [
      "Factorial of this number is: 120\n"
     ]
    }
   ],
   "source": [
    "def fact(n):\n",
    "    if n == 1 or n == 0:\n",
    "        return 1\n",
    "    return n * fact(n - 1)\n",
    "\n",
    "n = int(input(\"Enter a number: \"))\n",
    "print(f\"Factorial of this number is: {fact(n)}\")\n"
   ]
  },
  {
   "cell_type": "code",
   "execution_count": 36,
   "metadata": {},
   "outputs": [],
   "source": [
    "def great_number():\n",
    "\n",
    "    if(a>b and a>c and a>d):\n",
    "        print(\"first is greater\")\n",
    "    elif(b>a and b>c and b>c):\n",
    "        print(\"b is greater than\")\n",
    "    elif(c>a and c>b and c>d):\n",
    "        print(\"c is greater than\")\n",
    "    else:\n",
    "        print(\"d is greater than\")\n",
    "a=input(\"enter first\")\n",
    "b=input(\"enter second\")\n",
    "c=input(\"enter third\")\n",
    "d=input(\"enter fourth\")"
   ]
  },
  {
   "cell_type": "code",
   "execution_count": 37,
   "metadata": {},
   "outputs": [
    {
     "name": "stdout",
     "output_type": "stream",
     "text": [
      "d is greater than\n"
     ]
    }
   ],
   "source": [
    "great_number()"
   ]
  },
  {
   "cell_type": "code",
   "execution_count": null,
   "metadata": {},
   "outputs": [
    {
     "name": "stdout",
     "output_type": "stream",
     "text": [
      "34.0°C is equal to 93.2°F.\n"
     ]
    }
   ],
   "source": [
    "def celsius_to_fahrenheit(celsius):\n",
    "    return (celsius * 9/5) + 32\n",
    "celsius = float(input(\"Enter temperature in Celsius: \"))\n",
    "# Conversion\n",
    "fahrenheit = celsius_to_fahrenheit(celsius)\n",
    "# Output the result\n",
    "print(f\"{celsius}°C is equal to {fahrenheit}°F.\")\n"
   ]
  }
 ],
 "metadata": {
  "kernelspec": {
   "display_name": "base",
   "language": "python",
   "name": "python3"
  },
  "language_info": {
   "codemirror_mode": {
    "name": "ipython",
    "version": 3
   },
   "file_extension": ".py",
   "mimetype": "text/x-python",
   "name": "python",
   "nbconvert_exporter": "python",
   "pygments_lexer": "ipython3",
   "version": "3.12.4"
  }
 },
 "nbformat": 4,
 "nbformat_minor": 2
}
