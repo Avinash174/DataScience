{
 "cells": [
  {
   "cell_type": "code",
   "execution_count": 12,
   "metadata": {},
   "outputs": [
    {
     "name": "stdout",
     "output_type": "stream",
     "text": [
      "Your are above 18\n"
     ]
    }
   ],
   "source": [
    "age=int(input(\"enter age\"))\n",
    "if(age>18):\n",
    "    print(\"Your age is above 18\")\n",
    "elif(age<0):\n",
    "    print(\"your enter negative age\")\n",
    "elif(age==18):\n",
    "    print(\"your age is equal to 18\")\n",
    "\n",
    "else:\n",
    "    print(\"Your are above 18\")"
   ]
  },
  {
   "cell_type": "code",
   "execution_count": 14,
   "metadata": {},
   "outputs": [
    {
     "name": "stdout",
     "output_type": "stream",
     "text": [
      "your below 18\n"
     ]
    }
   ],
   "source": [
    "a=int(input(\"Enter Number\"))\n",
    "#start\n",
    "if(a%2==0):\n",
    "    print(\"number is even\")\n",
    "#end\n",
    "if(a>=18):\n",
    "    print(\"enter number is even\")\n",
    "elif(a<0):\n",
    "    print(\"your number is wrong\")\n",
    "elif(a==0):\n",
    "    print(\"enter number is 0\")\n",
    "else:\n",
    "    print(\"your below 18\")"
   ]
  },
  {
   "cell_type": "code",
   "execution_count": 22,
   "metadata": {},
   "outputs": [
    {
     "name": "stdout",
     "output_type": "stream",
     "text": [
      "d is greater than\n"
     ]
    }
   ],
   "source": [
    "a=input(\"enter first\")\n",
    "b=input(\"enter second\")\n",
    "c=input(\"enter third\")\n",
    "d=input(\"enter fourth\")\n",
    "if(a>b and a>c and a>d):\n",
    "    print(\"first is greater\")\n",
    "elif(b>a and b>c and b>c):\n",
    "    print(\"b is greater than\")\n",
    "elif(c>a and c>b and c>d):\n",
    "    print(\"c is greater than\")\n",
    "else:\n",
    "    print(\"d is greater than\")\n"
   ]
  },
  {
   "cell_type": "code",
   "execution_count": 28,
   "metadata": {},
   "outputs": [
    {
     "name": "stdout",
     "output_type": "stream",
     "text": [
      "220\n",
      "220.0\n",
      "your passed\n"
     ]
    }
   ],
   "source": [
    "first=int(input(\"enter a number\"))\n",
    "second=int(input(\"enter sencond\"))\n",
    "third=int(input(\"enter third\"))\n",
    "sum=(first+second+third)\n",
    "print(sum)\n",
    "per=100 * sum /100\n",
    "print(per)\n",
    "if(first>40):\n",
    "    print(\"your passed\")\n",
    "\n",
    "else:\n",
    "    print(\"sorry your no passed\")"
   ]
  }
 ],
 "metadata": {
  "kernelspec": {
   "display_name": "base",
   "language": "python",
   "name": "python3"
  },
  "language_info": {
   "codemirror_mode": {
    "name": "ipython",
    "version": 3
   },
   "file_extension": ".py",
   "mimetype": "text/x-python",
   "name": "python",
   "nbconvert_exporter": "python",
   "pygments_lexer": "ipython3",
   "version": "3.12.4"
  }
 },
 "nbformat": 4,
 "nbformat_minor": 2
}
