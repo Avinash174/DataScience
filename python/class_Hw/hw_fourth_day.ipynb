{
 "cells": [
  {
   "cell_type": "code",
   "execution_count": 4,
   "metadata": {},
   "outputs": [
    {
     "name": "stdout",
     "output_type": "stream",
     "text": [
      "56\n"
     ]
    }
   ],
   "source": [
    "# 9 \n",
    "\n",
    "from functools import reduce\n",
    "\n",
    "number=[1,2,3,4,5,6]\n",
    "even_numbers=filter(lambda x : x%2==0,number)\n",
    "square=map(lambda x : x * x,even_numbers)\n",
    "result=reduce(lambda x,y:x+y,square)\n",
    "print(result)\n"
   ]
  },
  {
   "cell_type": "code",
   "execution_count": 59,
   "metadata": {},
   "outputs": [],
   "source": [
    "#2\n",
    "\n",
    "data=[(3,4)]\n"
   ]
  },
  {
   "cell_type": "code",
   "execution_count": 6,
   "metadata": {},
   "outputs": [
    {
     "name": "stdout",
     "output_type": "stream",
     "text": [
      "[3, 36, 8]\n"
     ]
    }
   ],
   "source": [
    "#3\n",
    "num1=[1,2,3]\n",
    "num2=[2,34,5]\n",
    "sum_list=list(map(lambda x,y:x+y,num1,num2))\n",
    "print(sum_list)"
   ]
  },
  {
   "cell_type": "code",
   "execution_count": 12,
   "metadata": {},
   "outputs": [
    {
     "name": "stdout",
     "output_type": "stream",
     "text": [
      "[1, 2, 3, 4]\n",
      "<class 'list'>\n"
     ]
    }
   ],
   "source": [
    "list_con=[\"1\",\"2\",\"3\",\"4\"]\n",
    "integer_list = list(map(lambda x: int(x), list_con))\n",
    "print(integer_list)\n",
    "print(type(integer_list))"
   ]
  },
  {
   "cell_type": "code",
   "execution_count": 21,
   "metadata": {},
   "outputs": [
    {
     "name": "stdout",
     "output_type": "stream",
     "text": [
      "[10, 49, 45]\n"
     ]
    }
   ],
   "source": [
    "#5\n",
    "\n",
    "num=[10,49,45,15,35]\n",
    "list_num=list(filter(lambda x: x % 5 == 0 and x % 7 == 0, num))\n",
    "print(list_num)"
   ]
  },
  {
   "cell_type": "code",
   "execution_count": 25,
   "metadata": {},
   "outputs": [
    {
     "name": "stdout",
     "output_type": "stream",
     "text": [
      "Avinash\n",
      "ravi\n",
      "jivan\n"
     ]
    }
   ],
   "source": [
    "# 6 \n",
    "\n",
    "l = [\"Avinash\", \"pavan\", \"ravi\",\"jivan\"]\n",
    "\n",
    "filtered_names = list(filter(lambda name: not name.startswith(\"p\"), l))\n",
    "\n",
    "for name in filtered_names:\n",
    "    print(f\"{name}\")\n",
    "\n",
    "\n",
    "\n"
   ]
  },
  {
   "cell_type": "code",
   "execution_count": 28,
   "metadata": {},
   "outputs": [
    {
     "name": "stdout",
     "output_type": "stream",
     "text": [
      "['pavan']\n"
     ]
    }
   ],
   "source": [
    "l = [\"Avinash\", \"pavan\", \"ravi\",\"jivan\"]\n",
    "\n",
    "start_with_p=list(filter(lambda x:x.startswith('p'),l))\n",
    "print(start_with_p)"
   ]
  },
  {
   "cell_type": "code",
   "execution_count": 34,
   "metadata": {},
   "outputs": [
    {
     "name": "stdout",
     "output_type": "stream",
     "text": [
      "105\n"
     ]
    }
   ],
   "source": [
    "# 7 \n",
    "\n",
    "from functools import reduce\n",
    "list_n = [1, 2, 3, 4, 5, 6, 7]\n",
    "product = reduce(lambda x,y:x*y, filter(lambda x : x %2 !=0,list_n))\n",
    "print(product) \n"
   ]
  },
  {
   "cell_type": "code",
   "execution_count": 37,
   "metadata": {},
   "outputs": [
    {
     "name": "stdout",
     "output_type": "stream",
     "text": [
      "Longest String Is avinash\n"
     ]
    }
   ],
   "source": [
    "# 8 \n",
    "from functools import reduce\n",
    "word=[\"avinash\",\"map\",\"reduce\",\"soham\"]\n",
    "long_word=reduce(lambda x,y:x if len(x)>len(y) else y,word)\n",
    "print(f\"Longest String Is {long_word}\")\n"
   ]
  },
  {
   "cell_type": "code",
   "execution_count": 58,
   "metadata": {},
   "outputs": [
    {
     "name": "stdout",
     "output_type": "stream",
     "text": [
      "Sum of cube of odd numbers: 496\n"
     ]
    }
   ],
   "source": [
    "#10\n",
    "from functools import reduce\n",
    "number = [1, 2, 3, 4,5,6,7]\n",
    "odd_numbers = filter(lambda x: x % 2 != 0, number)\n",
    "\n",
    "cube = map(lambda x: x * x * x, odd_numbers)\n",
    "\n",
    "result = reduce(lambda x, y: x + y, cube)\n",
    "\n",
    "print(\"Sum of cube of odd numbers:\", result)\n",
    "\n"
   ]
  },
  {
   "cell_type": "code",
   "execution_count": 42,
   "metadata": {},
   "outputs": [
    {
     "name": "stdout",
     "output_type": "stream",
     "text": [
      "Sum of squares of even numbers: 56\n"
     ]
    }
   ],
   "source": [
    "# 9 using reduce\n",
    "\n",
    "from functools import reduce\n",
    "\n",
    "number = [1, 2, 3, 4, 5, 6]\n",
    "\n",
    "even_numbers = filter(lambda x: x % 2 == 0, number)\n",
    "\n",
    "squares = map(lambda x: x * x, even_numbers)\n",
    "\n",
    "result = reduce(lambda x, y: x + y, squares)\n",
    "\n",
    "print(\"Sum of squares of even numbers:\", result)\n"
   ]
  },
  {
   "cell_type": "code",
   "execution_count": 41,
   "metadata": {},
   "outputs": [
    {
     "name": "stdout",
     "output_type": "stream",
     "text": [
      "Sum of squares of even numbers: 56\n"
     ]
    }
   ],
   "source": [
    "\n",
    "# 9 without reduce\n",
    "\n",
    "number = [1, 2, 3, 4, 5, 6]\n",
    "\n",
    "even_numbers = filter(lambda x: x % 2 == 0, number)\n",
    "\n",
    "squares = map(lambda x: x * x, even_numbers)\n",
    "\n",
    "result = sum(squares)\n",
    "\n",
    "print(\"Sum of squares of even numbers:\", result)\n"
   ]
  }
 ],
 "metadata": {
  "kernelspec": {
   "display_name": "base",
   "language": "python",
   "name": "python3"
  },
  "language_info": {
   "codemirror_mode": {
    "name": "ipython",
    "version": 3
   },
   "file_extension": ".py",
   "mimetype": "text/x-python",
   "name": "python",
   "nbconvert_exporter": "python",
   "pygments_lexer": "ipython3",
   "version": "3.12.4"
  }
 },
 "nbformat": 4,
 "nbformat_minor": 2
}
