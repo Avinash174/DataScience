{
 "cells": [
  {
   "cell_type": "code",
   "execution_count": null,
   "metadata": {},
   "outputs": [],
   "source": [
    "# 7 number programe"
   ]
  },
  {
   "cell_type": "code",
   "execution_count": 3,
   "metadata": {},
   "outputs": [],
   "source": [
    "student= {}"
   ]
  },
  {
   "cell_type": "code",
   "execution_count": 4,
   "metadata": {},
   "outputs": [
    {
     "name": "stdout",
     "output_type": "stream",
     "text": [
      "<class 'dict'>\n"
     ]
    }
   ],
   "source": [
    "print(type(student))"
   ]
  },
  {
   "cell_type": "code",
   "execution_count": 5,
   "metadata": {},
   "outputs": [
    {
     "name": "stdout",
     "output_type": "stream",
     "text": [
      "{'Marathi': 'hind', 'mm': 'aa', 'aa': 'dd', 'ss': 'qq'}\n"
     ]
    }
   ],
   "source": [
    "name=input(\"enter the name\")\n",
    "lang=input(\"enter the lang\")\n",
    "\n",
    "student.update({name:lang})\n",
    "\n",
    "name=input(\"enter the name\")\n",
    "lang=input(\"enter the lang\")\n",
    "\n",
    "student.update({name:lang})\n",
    "\n",
    "name=input(\"enter the name\")\n",
    "lang=input(\"enter the lang\")\n",
    "\n",
    "student.update({name:lang})\n",
    "\n",
    "name=input(\"enter the name\")\n",
    "lang=input(\"enter the lang\")\n",
    "\n",
    "student.update({name:lang})\n",
    "\n",
    "print(student)"
   ]
  }
 ],
 "metadata": {
  "kernelspec": {
   "display_name": "base",
   "language": "python",
   "name": "python3"
  },
  "language_info": {
   "codemirror_mode": {
    "name": "ipython",
    "version": 3
   },
   "file_extension": ".py",
   "mimetype": "text/x-python",
   "name": "python",
   "nbconvert_exporter": "python",
   "pygments_lexer": "ipython3",
   "version": "3.12.4"
  }
 },
 "nbformat": 4,
 "nbformat_minor": 2
}
