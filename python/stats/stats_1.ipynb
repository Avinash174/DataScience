{
 "cells": [
  {
   "cell_type": "markdown",
   "metadata": {},
   "source": [
    "Probability"
   ]
  },
  {
   "cell_type": "code",
   "execution_count": 2,
   "metadata": {},
   "outputs": [
    {
     "data": {
      "text/plain": [
       "1"
      ]
     },
     "execution_count": 2,
     "metadata": {},
     "output_type": "execute_result"
    }
   ],
   "source": [
    "import random\n",
    "random.choice([1,2,3,4]) # with replacement"
   ]
  },
  {
   "cell_type": "code",
   "execution_count": 4,
   "metadata": {},
   "outputs": [
    {
     "data": {
      "text/plain": [
       "[3, 2]"
      ]
     },
     "execution_count": 4,
     "metadata": {},
     "output_type": "execute_result"
    }
   ],
   "source": [
    "random.sample([1,2,3,4],k=2) # without replacement"
   ]
  },
  {
   "cell_type": "code",
   "execution_count": 6,
   "metadata": {},
   "outputs": [
    {
     "data": {
      "text/plain": [
       "[3, 1]"
      ]
     },
     "execution_count": 6,
     "metadata": {},
     "output_type": "execute_result"
    }
   ],
   "source": [
    "random.sample([1,2,3,4],k=2) # without replacement"
   ]
  },
  {
   "cell_type": "code",
   "execution_count": 7,
   "metadata": {},
   "outputs": [
    {
     "data": {
      "text/plain": [
       "[4, 3]"
      ]
     },
     "execution_count": 7,
     "metadata": {},
     "output_type": "execute_result"
    }
   ],
   "source": [
    "random.choices([1,2,3,4],k=2) # with replacement"
   ]
  },
  {
   "cell_type": "markdown",
   "metadata": {},
   "source": [
    "1. Ticket numbered 1 to 20 are mixed "
   ]
  },
  {
   "cell_type": "markdown",
   "metadata": {},
   "source": [
    "2.A Bag contain 2 red 3 green and 2 blue balls.A ball are drawn at what is the probability that the ball drawn is blue"
   ]
  },
  {
   "cell_type": "code",
   "execution_count": 8,
   "metadata": {},
   "outputs": [
    {
     "data": {
      "text/plain": [
       "28.57142857142857"
      ]
     },
     "execution_count": 8,
     "metadata": {},
     "output_type": "execute_result"
    }
   ],
   "source": [
    "n_s=7\n",
    "n_b=2\n",
    "p_b=2/7*100\n",
    "p_b\n"
   ]
  },
  {
   "cell_type": "markdown",
   "metadata": {},
   "source": [
    "3.A bag contain 2 red 3 green and 2 blue balls A balls are drown at random what is probability taht none of the ball is blue?"
   ]
  },
  {
   "cell_type": "code",
   "execution_count": 9,
   "metadata": {},
   "outputs": [
    {
     "data": {
      "text/plain": [
       "0.0011904761904761906"
      ]
     },
     "execution_count": 9,
     "metadata": {},
     "output_type": "execute_result"
    }
   ],
   "source": [
    "import math\n",
    "#n(s)=7c2==7!/2!*(7-2)\n",
    "#n(A)=5c2\n",
    "d=(math.factorial(7))/(math.factorial(2))*math.factorial(7-2)\n",
    "n=(math.factorial(5))/(math.factorial(2))*math.factorial(5-2)\n",
    "prob=n/d\n",
    "prob"
   ]
  },
  {
   "cell_type": "markdown",
   "metadata": {},
   "source": [
    "if the letters of the word Mathamatics are arranged in random, what is probability that the two M's cpme together"
   ]
  },
  {
   "cell_type": "code",
   "execution_count": 13,
   "metadata": {},
   "outputs": [
    {
     "data": {
      "text/plain": [
       "0.14285714285714285"
      ]
     },
     "execution_count": 13,
     "metadata": {},
     "output_type": "execute_result"
    }
   ],
   "source": [
    "s='AVINASH'\n",
    "n=len(s)\n",
    "c_m=2\n",
    "c_a=2\n",
    "c_t=2\n",
    "n_s=math.factorial(n)/(math.factorial(c_a)*math.factorial(c_t))\n",
    "n_a=math.factorial(n-1)/(math.factorial(c_a)*math.factorial(c_t))\n",
    "p=n_a/n_s\n",
    "p"
   ]
  },
  {
   "cell_type": "markdown",
   "metadata": {},
   "source": [
    "on average evry one out of 10 telephones is found busy.six telephone numbers are selected at random Find the probability that four of them will be busy."
   ]
  },
  {
   "cell_type": "code",
   "execution_count": null,
   "metadata": {},
   "outputs": [],
   "source": [
    "# avg_telephone_busy = 10\n",
    "# rendom_tel_number=6\n",
    "# find_prob_busy_phone=4\n",
    "\n",
    "# probability = 4/10\n",
    "# print(probability)\n",
    "\n",
    "# this approach wa wrong "
   ]
  },
  {
   "cell_type": "code",
   "execution_count": 15,
   "metadata": {},
   "outputs": [],
   "source": [
    "import scipy.stats as stats\n",
    "import numpy as np"
   ]
  },
  {
   "cell_type": "code",
   "execution_count": 16,
   "metadata": {},
   "outputs": [
    {
     "data": {
      "text/plain": [
       "np.float64(0.0012)"
      ]
     },
     "execution_count": 16,
     "metadata": {},
     "output_type": "execute_result"
    }
   ],
   "source": [
    "n=6\n",
    "x=4\n",
    "p=0.1\n",
    "np.round(stats.binom.pmf(k=4,n=6,p=0.1),4)"
   ]
  },
  {
   "cell_type": "markdown",
   "metadata": {},
   "source": [
    "Haven Furniture (HF) sells furniture like sofas beds and tables. its is observed that 25% of their customer complains about the furniture purchased by them for many reasons On Tuesdays 20 customer purchase furnitures products from HF"
   ]
  },
  {
   "cell_type": "markdown",
   "metadata": {},
   "source": [
    "a. calulating the probability that exactly 3 customer will complain about the purchase product\n",
    "b. calculating the probability that the most 3 customer will complain about the purchase products"
   ]
  },
  {
   "cell_type": "code",
   "execution_count": 17,
   "metadata": {},
   "outputs": [
    {
     "data": {
      "text/plain": [
       "np.float64(0.2251560476643135)"
      ]
     },
     "execution_count": 17,
     "metadata": {},
     "output_type": "execute_result"
    }
   ],
   "source": [
    "n=20\n",
    "x=1,2,3\n",
    "p=0.25\n",
    "stats.binom.pmf(k=0,n=20,p=0.25)+stats.binom.pmf(k=1,n=20,p=0.25)+stats.binom.pmf(k=2,n=20,p=0.25)+stats.binom.pmf(k=3,n=20,p=0.25)"
   ]
  },
  {
   "cell_type": "markdown",
   "metadata": {},
   "source": [
    "In a shooting academy,data was collected on the precision shooting of a studnts From 15 shots fired 11 were on the target consider the same studnts what is the probability that out of 50 shots fired \n"
   ]
  },
  {
   "cell_type": "markdown",
   "metadata": {},
   "source": [
    "a. exactly 35 will hit the target ?\n",
    "b. at most 35 will hit target ? \n",
    "c. at least 35 will hit the target?\n",
    "d. 35 -40 shot will hit the targets? "
   ]
  },
  {
   "cell_type": "code",
   "execution_count": 18,
   "metadata": {},
   "outputs": [
    {
     "data": {
      "text/plain": [
       "np.float64(0.10651812440300873)"
      ]
     },
     "execution_count": 18,
     "metadata": {},
     "output_type": "execute_result"
    }
   ],
   "source": [
    "# a\n",
    "n=50\n",
    "x=11\n",
    "p=35\n",
    "stats.binom.pmf(k=35,n=50,p=11/15)"
   ]
  },
  {
   "cell_type": "code",
   "execution_count": 19,
   "metadata": {},
   "outputs": [
    {
     "data": {
      "text/plain": [
       "np.float64(0.3467583295298203)"
      ]
     },
     "execution_count": 19,
     "metadata": {},
     "output_type": "execute_result"
    }
   ],
   "source": [
    "#b\n",
    "stats.binom.cdf(k=35,n=50,p=11/15)"
   ]
  },
  {
   "cell_type": "code",
   "execution_count": 20,
   "metadata": {},
   "outputs": [
    {
     "data": {
      "text/plain": [
       "np.float64(0.6532416704701798)"
      ]
     },
     "execution_count": 20,
     "metadata": {},
     "output_type": "execute_result"
    }
   ],
   "source": [
    "#c \n",
    "stats.binom.sf(k=35,n=50,p=11/15)"
   ]
  },
  {
   "cell_type": "code",
   "execution_count": 22,
   "metadata": {},
   "outputs": [
    {
     "data": {
      "text/plain": [
       "np.float64(0.6522934356056689)"
      ]
     },
     "execution_count": 22,
     "metadata": {},
     "output_type": "execute_result"
    }
   ],
   "source": [
    "#d\n",
    "p_45=stats.binom.sf(k=45,n=50,p=11/15)\n",
    "P_35=stats.binom.sf(k=35,n=50,p=11/15)\n",
    "P_35-p_45"
   ]
  }
 ],
 "metadata": {
  "kernelspec": {
   "display_name": "Python 3",
   "language": "python",
   "name": "python3"
  },
  "language_info": {
   "codemirror_mode": {
    "name": "ipython",
    "version": 3
   },
   "file_extension": ".py",
   "mimetype": "text/x-python",
   "name": "python",
   "nbconvert_exporter": "python",
   "pygments_lexer": "ipython3",
   "version": "3.13.1"
  }
 },
 "nbformat": 4,
 "nbformat_minor": 2
}
