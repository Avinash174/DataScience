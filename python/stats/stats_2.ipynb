{
 "cells": [
  {
   "cell_type": "code",
   "execution_count": 1,
   "metadata": {},
   "outputs": [],
   "source": [
    "# statstics"
   ]
  },
  {
   "cell_type": "code",
   "execution_count": 2,
   "metadata": {},
   "outputs": [],
   "source": [
    "import scipy.stats as stats\n",
    "import numpy as np\n",
    "import seaborn as sns\n",
    "import random \n",
    "from scipy.stats import norm"
   ]
  },
  {
   "cell_type": "markdown",
   "metadata": {},
   "source": [
    "A random smaple of weight (in kg) for 35 diabetic patient is drown from the population with a standard deviation of 8 kg \n",
    "Find the 90 % confidence interval for the population mean.\n",
    "Weight : [59.1 , 65.0,75.8,79.2 , 95.0, 99.8,89.1,65.3,41.9,55.2,94.8,84.1,83.2,74.0,75.5,79.1,80.1,92.1,92.1,74.2,59.2,64.0,75,78.2,95.6,97.8,89.5,64.2,41.8,57.2,85,91.4,81.8,74.6,90] A random sample of wight(in kg) for 35 diabetic patients is drawn from the population with a standard deviation of 8 kg Find the 90 % confidence interval for the population mean"
   ]
  },
  {
   "cell_type": "code",
   "execution_count": 1,
   "metadata": {},
   "outputs": [],
   "source": [
    "weight = [59.1 , 65.0,75.8,79.2 , 95.0, 99.8,89.1,65.3,41.9,55.2,94.8,84.1,83.2,74.0,75.5,79.1,80.1,92.1,92.1,74.2,59.2,64.0,75,78.2,95.6,97.8,89.5,64.2,41.8,57.2,85,91.4,81.8,74.6,90] "
   ]
  },
  {
   "cell_type": "code",
   "execution_count": 3,
   "metadata": {},
   "outputs": [
    {
     "data": {
      "text/plain": [
       "np.float64(1.6448536269514729)"
      ]
     },
     "execution_count": 3,
     "metadata": {},
     "output_type": "execute_result"
    }
   ],
   "source": [
    "# find 90 % alpa\n",
    "stats.norm.isf(0.1/2)"
   ]
  },
  {
   "cell_type": "code",
   "execution_count": 5,
   "metadata": {},
   "outputs": [
    {
     "data": {
      "text/plain": [
       "np.float64(1.9599639845400545)"
      ]
     },
     "execution_count": 5,
     "metadata": {},
     "output_type": "execute_result"
    }
   ],
   "source": [
    "#find 95 % alpa\n",
    "stats.norm.isf(0.05/2)"
   ]
  },
  {
   "cell_type": "code",
   "execution_count": 7,
   "metadata": {},
   "outputs": [
    {
     "data": {
      "text/plain": [
       "(np.float64(74.91575193404213), np.float64(79.36424806595787))"
      ]
     },
     "execution_count": 7,
     "metadata": {},
     "output_type": "execute_result"
    }
   ],
   "source": [
    "x_bar=np.mean(weight)\n",
    "z_alpha_by_two=stats.norm.isf(0.1/2) #alpha  10 percentage\n",
    "pop_std=8\n",
    "n=35\n",
    "me=z_alpha_by_two*(pop_std/np.sqrt(n)) # formula \n",
    "ll=x_bar-me\n",
    "ul=x_bar+me\n",
    "ll,ul"
   ]
  },
  {
   "cell_type": "code",
   "execution_count": 9,
   "metadata": {},
   "outputs": [
    {
     "data": {
      "text/plain": [
       "(np.float64(74.91575193404213), np.float64(79.36424806595787))"
      ]
     },
     "execution_count": 9,
     "metadata": {},
     "output_type": "execute_result"
    }
   ],
   "source": [
    "stats.norm.interval(confidence=0.9,loc=x_bar,scale=pop_std/np.sqrt(n))"
   ]
  },
  {
   "cell_type": "markdown",
   "metadata": {},
   "source": [
    "There are 150 apples on a tree.you randomly choose 40 apples and found that the average weight of apples is 182 grams with a population standard deviation of 30 grams Finds of 95 % confidence interval for the population mean."
   ]
  },
  {
   "cell_type": "code",
   "execution_count": 18,
   "metadata": {},
   "outputs": [
    {
     "data": {
      "text/plain": [
       "(np.float64(172.70307451543158), np.float64(191.29692548456842))"
      ]
     },
     "execution_count": 18,
     "metadata": {},
     "output_type": "execute_result"
    }
   ],
   "source": [
    "x_bar=np.mean(182)\n",
    "z_alpha_by_two=stats.norm.isf((0.05/2))\n",
    "pop_std=30\n",
    "n=40\n",
    "me=z_alpha_by_two*(pop_std/np.sqrt(n))\n",
    "ll=x_bar-me\n",
    "ul=x_bar+me\n",
    "ll,ul"
   ]
  },
  {
   "cell_type": "code",
   "execution_count": 17,
   "metadata": {},
   "outputs": [
    {
     "data": {
      "text/plain": [
       "(np.float64(172.70307451543158), np.float64(191.29692548456842))"
      ]
     },
     "execution_count": 17,
     "metadata": {},
     "output_type": "execute_result"
    }
   ],
   "source": [
    "stats.norm.interval(confidence=0.95,loc=x_bar,scale=pop_std/np.sqrt(n))"
   ]
  },
  {
   "cell_type": "markdown",
   "metadata": {},
   "source": [
    "there are 150 apples on a tree . you randomly choose 17 apples and found that the average weight of apples is 78 grams with a standard deviation of 23 "
   ]
  },
  {
   "cell_type": "markdown",
   "metadata": {},
   "source": [
    "A finacial firm has created 50 porfolio from a sample of 13 portfolios was selected out of which 8 were found to be underperforming construct a 99 % confidence interval to estimate the population proportion"
   ]
  },
  {
   "cell_type": "code",
   "execution_count": null,
   "metadata": {},
   "outputs": [],
   "source": []
  }
 ],
 "metadata": {
  "kernelspec": {
   "display_name": "Python 3",
   "language": "python",
   "name": "python3"
  },
  "language_info": {
   "codemirror_mode": {
    "name": "ipython",
    "version": 3
   },
   "file_extension": ".py",
   "mimetype": "text/x-python",
   "name": "python",
   "nbconvert_exporter": "python",
   "pygments_lexer": "ipython3",
   "version": "3.13.1"
  }
 },
 "nbformat": 4,
 "nbformat_minor": 2
}
