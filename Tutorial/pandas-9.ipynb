{
 "cells": [
  {
   "cell_type": "code",
   "execution_count": 1,
   "metadata": {},
   "outputs": [],
   "source": [
    "# part - 9"
   ]
  },
  {
   "cell_type": "code",
   "execution_count": 2,
   "metadata": {},
   "outputs": [],
   "source": [
    "import pandas as pd"
   ]
  },
  {
   "cell_type": "code",
   "execution_count": 10,
   "metadata": {},
   "outputs": [
    {
     "name": "stdout",
     "output_type": "stream",
     "text": [
      "   Roll No  Maths  Physics\n",
      "0        1     11       41\n",
      "1        2     12       42\n",
      "2        3     13       43\n",
      "3        4     23       44\n",
      "4        5     45       45\n",
      "\n",
      "   Roll No  Maths  Physics\n",
      "0        6     11       21\n",
      "1        7     12       22\n",
      "2        8     13       23\n",
      "3        9     23       24\n",
      "4       10     45       25\n"
     ]
    }
   ],
   "source": [
    "Data={\n",
    "    'Roll No':[1,2,3,4,5],\n",
    "    'Maths':[11,12,13,23,45],\n",
    "    'Physics':[41,42,43,44,45]\n",
    "}\n",
    "Data2={\n",
    "\n",
    "    'Roll No':[6,7,8,9,10],\n",
    "    'Maths':[11,12,13,23,45],\n",
    "    'Physics':[21,22,23,24,25]\n",
    "\n",
    "}\n",
    "\n",
    "df1=pd.DataFrame(Data)\n",
    "df2=pd.DataFrame(Data2)\n",
    "print(df1)\n",
    "print()\n",
    "print(df2)"
   ]
  }
 ],
 "metadata": {
  "kernelspec": {
   "display_name": "base",
   "language": "python",
   "name": "python3"
  },
  "language_info": {
   "codemirror_mode": {
    "name": "ipython",
    "version": 3
   },
   "file_extension": ".py",
   "mimetype": "text/x-python",
   "name": "python",
   "nbconvert_exporter": "python",
   "pygments_lexer": "ipython3",
   "version": "3.12.4"
  }
 },
 "nbformat": 4,
 "nbformat_minor": 2
}
