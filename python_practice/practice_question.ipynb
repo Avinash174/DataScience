{
 "cells": [
  {
   "cell_type": "markdown",
   "metadata": {},
   "source": [
    "Addition of two number"
   ]
  },
  {
   "cell_type": "code",
   "execution_count": null,
   "metadata": {},
   "outputs": [],
   "source": [
    "first=int(input(\"Enter First Number\"))\n",
    "second=int(input(\"Enter Second Number\"))\n",
    "add=first+second\n",
    "print(\"Addition of two number is :\",add)"
   ]
  },
  {
   "cell_type": "markdown",
   "metadata": {},
   "source": [
    "print 1 t0 10"
   ]
  },
  {
   "cell_type": "markdown",
   "metadata": {},
   "source": [
    "find remmainder when number is divide by 2"
   ]
  },
  {
   "cell_type": "code",
   "execution_count": 2,
   "metadata": {},
   "outputs": [
    {
     "name": "stdout",
     "output_type": "stream",
     "text": [
      "Number is even\n"
     ]
    }
   ],
   "source": [
    "n=int(input(\"Enter a Number\"))\n",
    "if n%2==0:\n",
    "    print(\"Number is even\")\n",
    "else:\n",
    "    print(\"Number is odd\")"
   ]
  },
  {
   "cell_type": "markdown",
   "metadata": {},
   "source": [
    "checking data type "
   ]
  },
  {
   "cell_type": "code",
   "execution_count": 4,
   "metadata": {},
   "outputs": [
    {
     "name": "stdout",
     "output_type": "stream",
     "text": [
      "Data type is: <class 'str'>\n"
     ]
    }
   ],
   "source": [
    "name=input(\"Enter Name\")\n",
    "print(\"Data type is:\",type(name))"
   ]
  },
  {
   "cell_type": "code",
   "execution_count": 5,
   "metadata": {},
   "outputs": [
    {
     "name": "stdout",
     "output_type": "stream",
     "text": [
      "Data type is : <class 'int'>\n"
     ]
    }
   ],
   "source": [
    "number=int(input(\"Enter Number:\"))\n",
    "print(\"Data type is :\",type(number))"
   ]
  },
  {
   "cell_type": "markdown",
   "metadata": {},
   "source": [
    "Greater than or not"
   ]
  },
  {
   "cell_type": "code",
   "execution_count": null,
   "metadata": {},
   "outputs": [
    {
     "name": "stdout",
     "output_type": "stream",
     "text": [
      "Function Called\n",
      "B is greater than A\n"
     ]
    }
   ],
   "source": [
    "def check_grater(a, b):\n",
    "   \n",
    "    if a < b:\n",
    "        print(\"A is less than B\")\n",
    "    if a > b:\n",
    "        print(\"B is greater than A\")\n",
    "    #else:\n",
    "       # print(\"Both are equal\")  # Handle case where a == b\n",
    "\n",
    "a = int(input(\"Enter First Number: \"))\n",
    "b = int(input(\"Enter Second Number: \"))\n",
    "\n",
    "check_grater(a, b)  # Ensure this line is executed\n"
   ]
  },
  {
   "cell_type": "markdown",
   "metadata": {},
   "source": [
    "Average of two number"
   ]
  },
  {
   "cell_type": "code",
   "execution_count": 15,
   "metadata": {},
   "outputs": [
    {
     "name": "stdout",
     "output_type": "stream",
     "text": [
      "User Enter Number 5 5\n",
      "User Enter Number Addition is : 10\n",
      "Average of two number is: 5.0\n"
     ]
    }
   ],
   "source": [
    "a=int(input(\"Enter First Number\"))\n",
    "b=int(input(\"Enter Second Number\"))\n",
    "add=a+b\n",
    "avg=add / 2\n",
    "print(\"User Enter Number\",a,b)\n",
    "print(\"User Enter Number Addition is :\",add)\n",
    "print(\"Average of two number is:\",avg)"
   ]
  },
  {
   "cell_type": "markdown",
   "metadata": {},
   "source": [
    "Square root of enter number"
   ]
  },
  {
   "cell_type": "code",
   "execution_count": 18,
   "metadata": {},
   "outputs": [
    {
     "name": "stdout",
     "output_type": "stream",
     "text": [
      "User Enter Number Square is : 81\n"
     ]
    }
   ],
   "source": [
    "n=int(input(\"Enter Number :\"))\n",
    "sqrt=n*n;\n",
    "print(\"User Enter Number Square is :\",sqrt)"
   ]
  },
  {
   "cell_type": "markdown",
   "metadata": {},
   "source": [
    "Greating With user name"
   ]
  },
  {
   "cell_type": "code",
   "execution_count": 21,
   "metadata": {},
   "outputs": [
    {
     "name": "stdout",
     "output_type": "stream",
     "text": [
      "Good Afternoon!  Avinash\n"
     ]
    }
   ],
   "source": [
    "name=input(\"Enter Name:\")\n",
    "print(\"Good Afternoon! \",name)"
   ]
  },
  {
   "cell_type": "code",
   "execution_count": 3,
   "metadata": {},
   "outputs": [
    {
     "name": "stdout",
     "output_type": "stream",
     "text": [
      "1\n",
      "2\n",
      "3\n",
      "4\n",
      "5\n",
      "6\n",
      "7\n",
      "8\n",
      "9\n"
     ]
    }
   ],
   "source": [
    "for i in range(1,10):\n",
    "    print(i)"
   ]
  },
  {
   "cell_type": "markdown",
   "metadata": {},
   "source": [
    "Practices Question"
   ]
  },
  {
   "cell_type": "markdown",
   "metadata": {},
   "source": [
    "1. Number is prime or not"
   ]
  },
  {
   "cell_type": "code",
   "execution_count": null,
   "metadata": {},
   "outputs": [
    {
     "name": "stdout",
     "output_type": "stream",
     "text": [
      "Number is not prime\n"
     ]
    }
   ],
   "source": [
    "def is_prime(n):\n",
    "    if n < 2:\n",
    "        return False\n",
    "    for i in range(2, int(n ** 0.5) + 1):\n",
    "        if n % i == 0:\n",
    "            return \"Number is not prime\"\n",
    "    return \"Number is prime\"\n",
    "\n",
    "n = int(input(\"Enter Number: \"))\n",
    "print(is_prime(n))"
   ]
  }
 ],
 "metadata": {
  "kernelspec": {
   "display_name": ".venv",
   "language": "python",
   "name": "python3"
  },
  "language_info": {
   "codemirror_mode": {
    "name": "ipython",
    "version": 3
   },
   "file_extension": ".py",
   "mimetype": "text/x-python",
   "name": "python",
   "nbconvert_exporter": "python",
   "pygments_lexer": "ipython3",
   "version": "3.10.12"
  }
 },
 "nbformat": 4,
 "nbformat_minor": 2
}
