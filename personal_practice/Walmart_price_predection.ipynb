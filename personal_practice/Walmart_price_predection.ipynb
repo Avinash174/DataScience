{
 "cells": [
  {
   "cell_type": "code",
   "execution_count": 3,
   "metadata": {
    "executionInfo": {
     "elapsed": 5148,
     "status": "ok",
     "timestamp": 1741408682191,
     "user": {
      "displayName": "pranav more",
      "userId": "11305037256439014933"
     },
     "user_tz": -330
    },
    "id": "F3cWlvpfCzjW"
   },
   "outputs": [],
   "source": [
    "import pandas as pd\n",
    "import numpy as np\n",
    "import matplotlib.pyplot as plt\n",
    "import seaborn as sns\n",
    "from sklearn.preprocessing import LabelEncoder, OrdinalEncoder\n",
    "from sklearn.preprocessing import StandardScaler\n",
    "from sklearn.model_selection import train_test_split\n",
    "from sklearn.linear_model import LinearRegression\n",
    "from sklearn.tree import DecisionTreeRegressor\n",
    "from sklearn.ensemble import RandomForestRegressor\n",
    "from sklearn.metrics import mean_absolute_error, mean_squared_error, r2_score"
   ]
  },
  {
   "cell_type": "code",
   "execution_count": 4,
   "metadata": {
    "colab": {
     "base_uri": "https://localhost:8080/",
     "height": 424
    },
    "executionInfo": {
     "elapsed": 275,
     "status": "ok",
     "timestamp": 1741408695577,
     "user": {
      "displayName": "pranav more",
      "userId": "11305037256439014933"
     },
     "user_tz": -330
    },
    "id": "JPtD4HNEC7xi",
    "outputId": "cd9fc1a4-046a-498b-bde4-849a1ba63a96"
   },
   "outputs": [
    {
     "data": {
      "application/vnd.microsoft.datawrangler.viewer.v0+json": {
       "columns": [
        {
         "name": "index",
         "rawType": "int64",
         "type": "integer"
        },
        {
         "name": "Store",
         "rawType": "int64",
         "type": "integer"
        },
        {
         "name": "Date",
         "rawType": "object",
         "type": "string"
        },
        {
         "name": "Weekly_Sales",
         "rawType": "float64",
         "type": "float"
        },
        {
         "name": "Holiday_Flag",
         "rawType": "int64",
         "type": "integer"
        },
        {
         "name": "Temperature",
         "rawType": "float64",
         "type": "float"
        },
        {
         "name": "Fuel_Price",
         "rawType": "float64",
         "type": "float"
        },
        {
         "name": "CPI",
         "rawType": "float64",
         "type": "float"
        },
        {
         "name": "Unemployment",
         "rawType": "float64",
         "type": "float"
        }
       ],
       "conversionMethod": "pd.DataFrame",
       "ref": "d26e8e48-71c8-4aec-a49f-946efaeddef4",
       "rows": [
        [
         "0",
         "1",
         "05-02-2010",
         "1643690.9",
         "0",
         "42.31",
         "2.572",
         "211.0963582",
         "8.106"
        ],
        [
         "1",
         "1",
         "12-02-2010",
         "1641957.44",
         "1",
         "38.51",
         "2.548",
         "211.2421698",
         "8.106"
        ],
        [
         "2",
         "1",
         "19-02-2010",
         "1611968.17",
         "0",
         "39.93",
         "2.514",
         "211.2891429",
         "8.106"
        ],
        [
         "3",
         "1",
         "26-02-2010",
         "1409727.59",
         "0",
         "46.63",
         "2.561",
         "211.3196429",
         "8.106"
        ],
        [
         "4",
         "1",
         "05-03-2010",
         "1554806.68",
         "0",
         "46.5",
         "2.625",
         "211.3501429",
         "8.106"
        ],
        [
         "5",
         "1",
         "12-03-2010",
         "1439541.59",
         "0",
         "57.79",
         "2.667",
         "211.3806429",
         "8.106"
        ],
        [
         "6",
         "1",
         "19-03-2010",
         "1472515.79",
         "0",
         "54.58",
         "2.72",
         "211.215635",
         "8.106"
        ],
        [
         "7",
         "1",
         "26-03-2010",
         "1404429.92",
         "0",
         "51.45",
         "2.732",
         "211.0180424",
         "8.106"
        ],
        [
         "8",
         "1",
         "02-04-2010",
         "1594968.28",
         "0",
         "62.27",
         "2.719",
         "210.8204499",
         "7.808"
        ],
        [
         "9",
         "1",
         "09-04-2010",
         "1545418.53",
         "0",
         "65.86",
         "2.77",
         "210.6228574",
         "7.808"
        ],
        [
         "10",
         "1",
         "16-04-2010",
         "1466058.28",
         "0",
         "66.32",
         "2.808",
         "210.4887",
         "7.808"
        ],
        [
         "11",
         "1",
         "23-04-2010",
         "1391256.12",
         "0",
         "64.84",
         "2.795",
         "210.4391228",
         "7.808"
        ],
        [
         "12",
         "1",
         "30-04-2010",
         "1425100.71",
         "0",
         "67.41",
         "2.78",
         "210.3895456",
         "7.808"
        ],
        [
         "13",
         "1",
         "07-05-2010",
         "1603955.12",
         "0",
         "72.55",
         "2.835",
         "210.3399684",
         "7.808"
        ],
        [
         "14",
         "1",
         "14-05-2010",
         "1494251.5",
         "0",
         "74.78",
         "2.854",
         "210.3374261",
         "7.808"
        ],
        [
         "15",
         "1",
         "21-05-2010",
         "1399662.07",
         "0",
         "76.44",
         "2.826",
         "210.6170934",
         "7.808"
        ],
        [
         "16",
         "1",
         "28-05-2010",
         "1432069.95",
         "0",
         "80.44",
         "2.759",
         "210.8967606",
         "7.808"
        ],
        [
         "17",
         "1",
         "04-06-2010",
         "1615524.71",
         "0",
         "80.69",
         "2.705",
         "211.1764278",
         "7.808"
        ],
        [
         "18",
         "1",
         "11-06-2010",
         "1542561.09",
         "0",
         "80.43",
         "2.668",
         "211.4560951",
         "7.808"
        ],
        [
         "19",
         "1",
         "18-06-2010",
         "1503284.06",
         "0",
         "84.11",
         "2.637",
         "211.4537719",
         "7.808"
        ],
        [
         "20",
         "1",
         "25-06-2010",
         "1422711.6",
         "0",
         "84.34",
         "2.653",
         "211.3386526",
         "7.808"
        ],
        [
         "21",
         "1",
         "02-07-2010",
         "1492418.14",
         "0",
         "80.91",
         "2.669",
         "211.2235333",
         "7.787"
        ],
        [
         "22",
         "1",
         "09-07-2010",
         "1546074.18",
         "0",
         "80.48",
         "2.642",
         "211.108414",
         "7.787"
        ],
        [
         "23",
         "1",
         "16-07-2010",
         "1448938.92",
         "0",
         "83.15",
         "2.623",
         "211.1003854",
         "7.787"
        ],
        [
         "24",
         "1",
         "23-07-2010",
         "1385065.2",
         "0",
         "83.36",
         "2.608",
         "211.2351443",
         "7.787"
        ],
        [
         "25",
         "1",
         "30-07-2010",
         "1371986.6",
         "0",
         "81.84",
         "2.64",
         "211.3699032",
         "7.787"
        ],
        [
         "26",
         "1",
         "06-08-2010",
         "1605491.78",
         "0",
         "87.16",
         "2.627",
         "211.5046621",
         "7.787"
        ],
        [
         "27",
         "1",
         "13-08-2010",
         "1508237.76",
         "0",
         "87.0",
         "2.692",
         "211.6394211",
         "7.787"
        ],
        [
         "28",
         "1",
         "20-08-2010",
         "1513080.49",
         "0",
         "86.65",
         "2.664",
         "211.6033633",
         "7.787"
        ],
        [
         "29",
         "1",
         "27-08-2010",
         "1449142.92",
         "0",
         "85.22",
         "2.619",
         "211.5673056",
         "7.787"
        ],
        [
         "30",
         "1",
         "03-09-2010",
         "1540163.53",
         "0",
         "81.21",
         "2.577",
         "211.5312479",
         "7.787"
        ],
        [
         "31",
         "1",
         "10-09-2010",
         "1507460.69",
         "1",
         "78.69",
         "2.565",
         "211.4951902",
         "7.787"
        ],
        [
         "32",
         "1",
         "17-09-2010",
         "1430378.67",
         "0",
         "82.11",
         "2.582",
         "211.5224596",
         "7.787"
        ],
        [
         "33",
         "1",
         "24-09-2010",
         "1351791.03",
         "0",
         "80.94",
         "2.624",
         "211.5972246",
         "7.787"
        ],
        [
         "34",
         "1",
         "01-10-2010",
         "1453329.5",
         "0",
         "71.89",
         "2.603",
         "211.6719895",
         "7.838"
        ],
        [
         "35",
         "1",
         "08-10-2010",
         "1508239.93",
         "0",
         "63.93",
         "2.633",
         "211.7467544",
         "7.838"
        ],
        [
         "36",
         "1",
         "15-10-2010",
         "1459409.1",
         "0",
         "67.18",
         "2.72",
         "211.8137436",
         "7.838"
        ],
        [
         "37",
         "1",
         "22-10-2010",
         "1345454.0",
         "0",
         "69.86",
         "2.725",
         "211.8612937",
         "7.838"
        ],
        [
         "38",
         "1",
         "29-10-2010",
         "1384209.22",
         "0",
         "69.64",
         "2.716",
         "211.9088438",
         "7.838"
        ],
        [
         "39",
         "1",
         "05-11-2010",
         "1551659.28",
         "0",
         "58.74",
         "2.689",
         "211.9563939",
         "7.838"
        ],
        [
         "40",
         "1",
         "12-11-2010",
         "1494479.49",
         "0",
         "59.61",
         "2.728",
         "212.003944",
         "7.838"
        ],
        [
         "41",
         "1",
         "19-11-2010",
         "1483784.18",
         "0",
         "51.41",
         "2.771",
         "211.8896737",
         "7.838"
        ],
        [
         "42",
         "1",
         "26-11-2010",
         "1955624.11",
         "1",
         "64.52",
         "2.735",
         "211.7484333",
         "7.838"
        ],
        [
         "43",
         "1",
         "03-12-2010",
         "1548033.78",
         "0",
         "49.27",
         "2.708",
         "211.607193",
         "7.838"
        ],
        [
         "44",
         "1",
         "10-12-2010",
         "1682614.26",
         "0",
         "46.33",
         "2.843",
         "211.4659526",
         "7.838"
        ],
        [
         "45",
         "1",
         "17-12-2010",
         "1891034.93",
         "0",
         "49.84",
         "2.869",
         "211.4053124",
         "7.838"
        ],
        [
         "46",
         "1",
         "24-12-2010",
         "2387950.2",
         "0",
         "52.33",
         "2.886",
         "211.4051222",
         "7.838"
        ],
        [
         "47",
         "1",
         "31-12-2010",
         "1367320.01",
         "1",
         "48.43",
         "2.943",
         "211.4049321",
         "7.838"
        ],
        [
         "48",
         "1",
         "07-01-2011",
         "1444732.28",
         "0",
         "48.27",
         "2.976",
         "211.4047419",
         "7.742"
        ],
        [
         "49",
         "1",
         "14-01-2011",
         "1391013.96",
         "0",
         "35.4",
         "2.983",
         "211.4574109",
         "7.742"
        ]
       ],
       "shape": {
        "columns": 8,
        "rows": 6435
       }
      },
      "text/html": [
       "<div>\n",
       "<style scoped>\n",
       "    .dataframe tbody tr th:only-of-type {\n",
       "        vertical-align: middle;\n",
       "    }\n",
       "\n",
       "    .dataframe tbody tr th {\n",
       "        vertical-align: top;\n",
       "    }\n",
       "\n",
       "    .dataframe thead th {\n",
       "        text-align: right;\n",
       "    }\n",
       "</style>\n",
       "<table border=\"1\" class=\"dataframe\">\n",
       "  <thead>\n",
       "    <tr style=\"text-align: right;\">\n",
       "      <th></th>\n",
       "      <th>Store</th>\n",
       "      <th>Date</th>\n",
       "      <th>Weekly_Sales</th>\n",
       "      <th>Holiday_Flag</th>\n",
       "      <th>Temperature</th>\n",
       "      <th>Fuel_Price</th>\n",
       "      <th>CPI</th>\n",
       "      <th>Unemployment</th>\n",
       "    </tr>\n",
       "  </thead>\n",
       "  <tbody>\n",
       "    <tr>\n",
       "      <th>0</th>\n",
       "      <td>1</td>\n",
       "      <td>05-02-2010</td>\n",
       "      <td>1643690.90</td>\n",
       "      <td>0</td>\n",
       "      <td>42.31</td>\n",
       "      <td>2.572</td>\n",
       "      <td>211.096358</td>\n",
       "      <td>8.106</td>\n",
       "    </tr>\n",
       "    <tr>\n",
       "      <th>1</th>\n",
       "      <td>1</td>\n",
       "      <td>12-02-2010</td>\n",
       "      <td>1641957.44</td>\n",
       "      <td>1</td>\n",
       "      <td>38.51</td>\n",
       "      <td>2.548</td>\n",
       "      <td>211.242170</td>\n",
       "      <td>8.106</td>\n",
       "    </tr>\n",
       "    <tr>\n",
       "      <th>2</th>\n",
       "      <td>1</td>\n",
       "      <td>19-02-2010</td>\n",
       "      <td>1611968.17</td>\n",
       "      <td>0</td>\n",
       "      <td>39.93</td>\n",
       "      <td>2.514</td>\n",
       "      <td>211.289143</td>\n",
       "      <td>8.106</td>\n",
       "    </tr>\n",
       "    <tr>\n",
       "      <th>3</th>\n",
       "      <td>1</td>\n",
       "      <td>26-02-2010</td>\n",
       "      <td>1409727.59</td>\n",
       "      <td>0</td>\n",
       "      <td>46.63</td>\n",
       "      <td>2.561</td>\n",
       "      <td>211.319643</td>\n",
       "      <td>8.106</td>\n",
       "    </tr>\n",
       "    <tr>\n",
       "      <th>4</th>\n",
       "      <td>1</td>\n",
       "      <td>05-03-2010</td>\n",
       "      <td>1554806.68</td>\n",
       "      <td>0</td>\n",
       "      <td>46.50</td>\n",
       "      <td>2.625</td>\n",
       "      <td>211.350143</td>\n",
       "      <td>8.106</td>\n",
       "    </tr>\n",
       "    <tr>\n",
       "      <th>...</th>\n",
       "      <td>...</td>\n",
       "      <td>...</td>\n",
       "      <td>...</td>\n",
       "      <td>...</td>\n",
       "      <td>...</td>\n",
       "      <td>...</td>\n",
       "      <td>...</td>\n",
       "      <td>...</td>\n",
       "    </tr>\n",
       "    <tr>\n",
       "      <th>6430</th>\n",
       "      <td>45</td>\n",
       "      <td>28-09-2012</td>\n",
       "      <td>713173.95</td>\n",
       "      <td>0</td>\n",
       "      <td>64.88</td>\n",
       "      <td>3.997</td>\n",
       "      <td>192.013558</td>\n",
       "      <td>8.684</td>\n",
       "    </tr>\n",
       "    <tr>\n",
       "      <th>6431</th>\n",
       "      <td>45</td>\n",
       "      <td>05-10-2012</td>\n",
       "      <td>733455.07</td>\n",
       "      <td>0</td>\n",
       "      <td>64.89</td>\n",
       "      <td>3.985</td>\n",
       "      <td>192.170412</td>\n",
       "      <td>8.667</td>\n",
       "    </tr>\n",
       "    <tr>\n",
       "      <th>6432</th>\n",
       "      <td>45</td>\n",
       "      <td>12-10-2012</td>\n",
       "      <td>734464.36</td>\n",
       "      <td>0</td>\n",
       "      <td>54.47</td>\n",
       "      <td>4.000</td>\n",
       "      <td>192.327265</td>\n",
       "      <td>8.667</td>\n",
       "    </tr>\n",
       "    <tr>\n",
       "      <th>6433</th>\n",
       "      <td>45</td>\n",
       "      <td>19-10-2012</td>\n",
       "      <td>718125.53</td>\n",
       "      <td>0</td>\n",
       "      <td>56.47</td>\n",
       "      <td>3.969</td>\n",
       "      <td>192.330854</td>\n",
       "      <td>8.667</td>\n",
       "    </tr>\n",
       "    <tr>\n",
       "      <th>6434</th>\n",
       "      <td>45</td>\n",
       "      <td>26-10-2012</td>\n",
       "      <td>760281.43</td>\n",
       "      <td>0</td>\n",
       "      <td>58.85</td>\n",
       "      <td>3.882</td>\n",
       "      <td>192.308899</td>\n",
       "      <td>8.667</td>\n",
       "    </tr>\n",
       "  </tbody>\n",
       "</table>\n",
       "<p>6435 rows × 8 columns</p>\n",
       "</div>"
      ],
      "text/plain": [
       "      Store        Date  Weekly_Sales  Holiday_Flag  Temperature  Fuel_Price  \\\n",
       "0         1  05-02-2010    1643690.90             0        42.31       2.572   \n",
       "1         1  12-02-2010    1641957.44             1        38.51       2.548   \n",
       "2         1  19-02-2010    1611968.17             0        39.93       2.514   \n",
       "3         1  26-02-2010    1409727.59             0        46.63       2.561   \n",
       "4         1  05-03-2010    1554806.68             0        46.50       2.625   \n",
       "...     ...         ...           ...           ...          ...         ...   \n",
       "6430     45  28-09-2012     713173.95             0        64.88       3.997   \n",
       "6431     45  05-10-2012     733455.07             0        64.89       3.985   \n",
       "6432     45  12-10-2012     734464.36             0        54.47       4.000   \n",
       "6433     45  19-10-2012     718125.53             0        56.47       3.969   \n",
       "6434     45  26-10-2012     760281.43             0        58.85       3.882   \n",
       "\n",
       "             CPI  Unemployment  \n",
       "0     211.096358         8.106  \n",
       "1     211.242170         8.106  \n",
       "2     211.289143         8.106  \n",
       "3     211.319643         8.106  \n",
       "4     211.350143         8.106  \n",
       "...          ...           ...  \n",
       "6430  192.013558         8.684  \n",
       "6431  192.170412         8.667  \n",
       "6432  192.327265         8.667  \n",
       "6433  192.330854         8.667  \n",
       "6434  192.308899         8.667  \n",
       "\n",
       "[6435 rows x 8 columns]"
      ]
     },
     "execution_count": 4,
     "metadata": {},
     "output_type": "execute_result"
    }
   ],
   "source": [
    "df=pd.read_csv('/Users/avinashmagar/Documents/DataScience/python/Dataset/Walmart.csv')\n",
    "df"
   ]
  },
  {
   "cell_type": "code",
   "execution_count": 5,
   "metadata": {
    "colab": {
     "base_uri": "https://localhost:8080/"
    },
    "executionInfo": {
     "elapsed": 155,
     "status": "ok",
     "timestamp": 1741408725108,
     "user": {
      "displayName": "pranav more",
      "userId": "11305037256439014933"
     },
     "user_tz": -330
    },
    "id": "SOCmVpHmC722",
    "outputId": "7f44a382-9435-42ad-af9c-2a23acd6ac1a"
   },
   "outputs": [
    {
     "data": {
      "text/plain": [
       "(6435, 8)"
      ]
     },
     "execution_count": 5,
     "metadata": {},
     "output_type": "execute_result"
    }
   ],
   "source": [
    "df.shape"
   ]
  },
  {
   "cell_type": "code",
   "execution_count": 6,
   "metadata": {
    "colab": {
     "base_uri": "https://localhost:8080/",
     "height": 300
    },
    "executionInfo": {
     "elapsed": 145,
     "status": "ok",
     "timestamp": 1741408732818,
     "user": {
      "displayName": "pranav more",
      "userId": "11305037256439014933"
     },
     "user_tz": -330
    },
    "id": "FrjuN2pGC75s",
    "outputId": "ac1748b9-c8c3-44c6-921c-46dc8105b0b3"
   },
   "outputs": [
    {
     "data": {
      "application/vnd.microsoft.datawrangler.viewer.v0+json": {
       "columns": [
        {
         "name": "index",
         "rawType": "object",
         "type": "string"
        },
        {
         "name": "Store",
         "rawType": "float64",
         "type": "float"
        },
        {
         "name": "Weekly_Sales",
         "rawType": "float64",
         "type": "float"
        },
        {
         "name": "Holiday_Flag",
         "rawType": "float64",
         "type": "float"
        },
        {
         "name": "Temperature",
         "rawType": "float64",
         "type": "float"
        },
        {
         "name": "Fuel_Price",
         "rawType": "float64",
         "type": "float"
        },
        {
         "name": "CPI",
         "rawType": "float64",
         "type": "float"
        },
        {
         "name": "Unemployment",
         "rawType": "float64",
         "type": "float"
        }
       ],
       "conversionMethod": "pd.DataFrame",
       "ref": "688cac2a-4cf9-4892-a003-d672d28640e9",
       "rows": [
        [
         "count",
         "6435.0",
         "6435.0",
         "6435.0",
         "6435.0",
         "6435.0",
         "6435.0",
         "6435.0"
        ],
        [
         "mean",
         "23.0",
         "1046964.8775617715",
         "0.06993006993006994",
         "60.66378243978244",
         "3.358606837606838",
         "171.57839384878014",
         "7.99915104895105"
        ],
        [
         "std",
         "12.988182381175474",
         "564366.6220536975",
         "0.25504894436982795",
         "18.44493287581158",
         "0.4590197071928525",
         "39.35671229566418",
         "1.8758847818627977"
        ],
        [
         "min",
         "1.0",
         "209986.25",
         "0.0",
         "-2.06",
         "2.472",
         "126.064",
         "3.879"
        ],
        [
         "25%",
         "12.0",
         "553350.105",
         "0.0",
         "47.46",
         "2.933",
         "131.735",
         "6.891"
        ],
        [
         "50%",
         "23.0",
         "960746.04",
         "0.0",
         "62.67",
         "3.445",
         "182.6165205",
         "7.874"
        ],
        [
         "75%",
         "34.0",
         "1420158.66",
         "0.0",
         "74.94",
         "3.735",
         "212.74329345",
         "8.622"
        ],
        [
         "max",
         "45.0",
         "3818686.45",
         "1.0",
         "100.14",
         "4.468",
         "227.2328068",
         "14.313"
        ]
       ],
       "shape": {
        "columns": 7,
        "rows": 8
       }
      },
      "text/html": [
       "<div>\n",
       "<style scoped>\n",
       "    .dataframe tbody tr th:only-of-type {\n",
       "        vertical-align: middle;\n",
       "    }\n",
       "\n",
       "    .dataframe tbody tr th {\n",
       "        vertical-align: top;\n",
       "    }\n",
       "\n",
       "    .dataframe thead th {\n",
       "        text-align: right;\n",
       "    }\n",
       "</style>\n",
       "<table border=\"1\" class=\"dataframe\">\n",
       "  <thead>\n",
       "    <tr style=\"text-align: right;\">\n",
       "      <th></th>\n",
       "      <th>Store</th>\n",
       "      <th>Weekly_Sales</th>\n",
       "      <th>Holiday_Flag</th>\n",
       "      <th>Temperature</th>\n",
       "      <th>Fuel_Price</th>\n",
       "      <th>CPI</th>\n",
       "      <th>Unemployment</th>\n",
       "    </tr>\n",
       "  </thead>\n",
       "  <tbody>\n",
       "    <tr>\n",
       "      <th>count</th>\n",
       "      <td>6435.000000</td>\n",
       "      <td>6.435000e+03</td>\n",
       "      <td>6435.000000</td>\n",
       "      <td>6435.000000</td>\n",
       "      <td>6435.000000</td>\n",
       "      <td>6435.000000</td>\n",
       "      <td>6435.000000</td>\n",
       "    </tr>\n",
       "    <tr>\n",
       "      <th>mean</th>\n",
       "      <td>23.000000</td>\n",
       "      <td>1.046965e+06</td>\n",
       "      <td>0.069930</td>\n",
       "      <td>60.663782</td>\n",
       "      <td>3.358607</td>\n",
       "      <td>171.578394</td>\n",
       "      <td>7.999151</td>\n",
       "    </tr>\n",
       "    <tr>\n",
       "      <th>std</th>\n",
       "      <td>12.988182</td>\n",
       "      <td>5.643666e+05</td>\n",
       "      <td>0.255049</td>\n",
       "      <td>18.444933</td>\n",
       "      <td>0.459020</td>\n",
       "      <td>39.356712</td>\n",
       "      <td>1.875885</td>\n",
       "    </tr>\n",
       "    <tr>\n",
       "      <th>min</th>\n",
       "      <td>1.000000</td>\n",
       "      <td>2.099862e+05</td>\n",
       "      <td>0.000000</td>\n",
       "      <td>-2.060000</td>\n",
       "      <td>2.472000</td>\n",
       "      <td>126.064000</td>\n",
       "      <td>3.879000</td>\n",
       "    </tr>\n",
       "    <tr>\n",
       "      <th>25%</th>\n",
       "      <td>12.000000</td>\n",
       "      <td>5.533501e+05</td>\n",
       "      <td>0.000000</td>\n",
       "      <td>47.460000</td>\n",
       "      <td>2.933000</td>\n",
       "      <td>131.735000</td>\n",
       "      <td>6.891000</td>\n",
       "    </tr>\n",
       "    <tr>\n",
       "      <th>50%</th>\n",
       "      <td>23.000000</td>\n",
       "      <td>9.607460e+05</td>\n",
       "      <td>0.000000</td>\n",
       "      <td>62.670000</td>\n",
       "      <td>3.445000</td>\n",
       "      <td>182.616521</td>\n",
       "      <td>7.874000</td>\n",
       "    </tr>\n",
       "    <tr>\n",
       "      <th>75%</th>\n",
       "      <td>34.000000</td>\n",
       "      <td>1.420159e+06</td>\n",
       "      <td>0.000000</td>\n",
       "      <td>74.940000</td>\n",
       "      <td>3.735000</td>\n",
       "      <td>212.743293</td>\n",
       "      <td>8.622000</td>\n",
       "    </tr>\n",
       "    <tr>\n",
       "      <th>max</th>\n",
       "      <td>45.000000</td>\n",
       "      <td>3.818686e+06</td>\n",
       "      <td>1.000000</td>\n",
       "      <td>100.140000</td>\n",
       "      <td>4.468000</td>\n",
       "      <td>227.232807</td>\n",
       "      <td>14.313000</td>\n",
       "    </tr>\n",
       "  </tbody>\n",
       "</table>\n",
       "</div>"
      ],
      "text/plain": [
       "             Store  Weekly_Sales  Holiday_Flag  Temperature   Fuel_Price  \\\n",
       "count  6435.000000  6.435000e+03   6435.000000  6435.000000  6435.000000   \n",
       "mean     23.000000  1.046965e+06      0.069930    60.663782     3.358607   \n",
       "std      12.988182  5.643666e+05      0.255049    18.444933     0.459020   \n",
       "min       1.000000  2.099862e+05      0.000000    -2.060000     2.472000   \n",
       "25%      12.000000  5.533501e+05      0.000000    47.460000     2.933000   \n",
       "50%      23.000000  9.607460e+05      0.000000    62.670000     3.445000   \n",
       "75%      34.000000  1.420159e+06      0.000000    74.940000     3.735000   \n",
       "max      45.000000  3.818686e+06      1.000000   100.140000     4.468000   \n",
       "\n",
       "               CPI  Unemployment  \n",
       "count  6435.000000   6435.000000  \n",
       "mean    171.578394      7.999151  \n",
       "std      39.356712      1.875885  \n",
       "min     126.064000      3.879000  \n",
       "25%     131.735000      6.891000  \n",
       "50%     182.616521      7.874000  \n",
       "75%     212.743293      8.622000  \n",
       "max     227.232807     14.313000  "
      ]
     },
     "execution_count": 6,
     "metadata": {},
     "output_type": "execute_result"
    }
   ],
   "source": [
    "df.describe()"
   ]
  },
  {
   "cell_type": "code",
   "execution_count": 7,
   "metadata": {
    "colab": {
     "base_uri": "https://localhost:8080/"
    },
    "executionInfo": {
     "elapsed": 38,
     "status": "ok",
     "timestamp": 1741408742007,
     "user": {
      "displayName": "pranav more",
      "userId": "11305037256439014933"
     },
     "user_tz": -330
    },
    "id": "e9KYr0a1C778",
    "outputId": "d0c621d9-408c-463c-c46f-f9c56a621ad9"
   },
   "outputs": [
    {
     "name": "stdout",
     "output_type": "stream",
     "text": [
      "<class 'pandas.core.frame.DataFrame'>\n",
      "RangeIndex: 6435 entries, 0 to 6434\n",
      "Data columns (total 8 columns):\n",
      " #   Column        Non-Null Count  Dtype  \n",
      "---  ------        --------------  -----  \n",
      " 0   Store         6435 non-null   int64  \n",
      " 1   Date          6435 non-null   object \n",
      " 2   Weekly_Sales  6435 non-null   float64\n",
      " 3   Holiday_Flag  6435 non-null   int64  \n",
      " 4   Temperature   6435 non-null   float64\n",
      " 5   Fuel_Price    6435 non-null   float64\n",
      " 6   CPI           6435 non-null   float64\n",
      " 7   Unemployment  6435 non-null   float64\n",
      "dtypes: float64(5), int64(2), object(1)\n",
      "memory usage: 402.3+ KB\n"
     ]
    }
   ],
   "source": [
    "df.info()"
   ]
  },
  {
   "cell_type": "code",
   "execution_count": 8,
   "metadata": {
    "executionInfo": {
     "elapsed": 16,
     "status": "ok",
     "timestamp": 1741408771196,
     "user": {
      "displayName": "pranav more",
      "userId": "11305037256439014933"
     },
     "user_tz": -330
    },
    "id": "ck-950nmC7_A"
   },
   "outputs": [],
   "source": [
    "df= df.drop(['Date'], axis=1)"
   ]
  },
  {
   "cell_type": "code",
   "execution_count": 9,
   "metadata": {
    "colab": {
     "base_uri": "https://localhost:8080/",
     "height": 304
    },
    "executionInfo": {
     "elapsed": 7,
     "status": "ok",
     "timestamp": 1741408780915,
     "user": {
      "displayName": "pranav more",
      "userId": "11305037256439014933"
     },
     "user_tz": -330
    },
    "id": "tYkEaH03C8BW",
    "outputId": "ba880cee-9a82-404c-f201-fdd423b80bee"
   },
   "outputs": [
    {
     "data": {
      "text/plain": [
       "Store           0\n",
       "Weekly_Sales    0\n",
       "Holiday_Flag    0\n",
       "Temperature     0\n",
       "Fuel_Price      0\n",
       "CPI             0\n",
       "Unemployment    0\n",
       "dtype: int64"
      ]
     },
     "execution_count": 9,
     "metadata": {},
     "output_type": "execute_result"
    }
   ],
   "source": [
    "df.isnull().sum()"
   ]
  },
  {
   "cell_type": "code",
   "execution_count": 10,
   "metadata": {
    "colab": {
     "base_uri": "https://localhost:8080/"
    },
    "executionInfo": {
     "elapsed": 20,
     "status": "ok",
     "timestamp": 1741408799084,
     "user": {
      "displayName": "pranav more",
      "userId": "11305037256439014933"
     },
     "user_tz": -330
    },
    "id": "V7HhbWM5C8Dv",
    "outputId": "f7686af1-c42b-464c-e6cb-039e4c92e3cb"
   },
   "outputs": [
    {
     "data": {
      "text/plain": [
       "np.int64(0)"
      ]
     },
     "execution_count": 10,
     "metadata": {},
     "output_type": "execute_result"
    }
   ],
   "source": [
    "df.duplicated().sum()"
   ]
  },
  {
   "cell_type": "code",
   "execution_count": 11,
   "metadata": {
    "colab": {
     "base_uri": "https://localhost:8080/",
     "height": 1000
    },
    "executionInfo": {
     "elapsed": 1488,
     "status": "ok",
     "timestamp": 1741408818522,
     "user": {
      "displayName": "pranav more",
      "userId": "11305037256439014933"
     },
     "user_tz": -330
    },
    "id": "_F_DeOFoDU5r",
    "outputId": "5d801f09-276a-4ba8-c847-2889aeb4579f"
   },
   "outputs": [
    {
     "data": {
      "image/png": "[encoded data removed]",
      "text/plain": [
       "<Figure size 640x480 with 1 Axes>"
      ]
     },
     "metadata": {},
     "output_type": "display_data"
    },
    {
     "data": {
      "image/png": "[encoded data removed]",
      "text/plain": [
       "<Figure size 640x480 with 1 Axes>"
      ]
     },
     "metadata": {},
     "output_type": "display_data"
    },
    {
     "data": {
      "image/png": "[encoded data removed]",
      "text/plain": [
       "<Figure size 640x480 with 1 Axes>"
      ]
     },
     "metadata": {},
     "output_type": "display_data"
    },
    {
     "data": {
      "image/png": "[encoded data removed]",
      "text/plain": [
       "<Figure size 640x480 with 1 Axes>"
      ]
     },
     "metadata": {},
     "output_type": "display_data"
    },
    {
     "data": {
      "image/png": "[encoded data removed]",
      "text/plain": [
       "<Figure size 640x480 with 1 Axes>"
      ]
     },
     "metadata": {},
     "output_type": "display_data"
    },
    {
     "data": {
      "image/png": "[encoded data removed]",
      "text/plain": [
       "<Figure size 640x480 with 1 Axes>"
      ]
     },
     "metadata": {},
     "output_type": "display_data"
    },
    {
     "data": {
      "image/png": "[encoded data removed]",
      "text/plain": [
       "<Figure size 640x480 with 1 Axes>"
      ]
     },
     "metadata": {},
     "output_type": "display_data"
    }
   ],
   "source": [
    "#cheking outliers at once\n",
    "for i in df.select_dtypes(include=np.number).columns:\n",
    "  plt.title(i)\n",
    "  sns.boxplot(df[i])\n",
    "  plt.show()"
   ]
  },
  {
   "cell_type": "code",
   "execution_count": 12,
   "metadata": {
    "colab": {
     "base_uri": "https://localhost:8080/"
    },
    "executionInfo": {
     "elapsed": 27,
     "status": "ok",
     "timestamp": 1741408910419,
     "user": {
      "displayName": "pranav more",
      "userId": "11305037256439014933"
     },
     "user_tz": -330
    },
    "id": "2bmIy2Q2DhUQ",
    "outputId": "6071e5d8-e393-4661-eaaa-81921b3d5eb7"
   },
   "outputs": [
    {
     "data": {
      "text/plain": [
       "(np.float64(11.218499999999999), np.float64(4.2945))"
      ]
     },
     "execution_count": 12,
     "metadata": {},
     "output_type": "execute_result"
    }
   ],
   "source": [
    "quantile1=df['Unemployment'].quantile(0.25)\n",
    "quantile3=df['Unemployment'].quantile(0.75)\n",
    "iqr=quantile3-quantile1\n",
    "upperl=quantile3+1.5*iqr\n",
    "lowerl=quantile1-1.5*iqr\n",
    "df['Unemployment']=df['Unemployment'].clip(upperl,lowerl)\n",
    "upperl,lowerl"
   ]
  },
  {
   "cell_type": "code",
   "execution_count": 13,
   "metadata": {
    "colab": {
     "base_uri": "https://localhost:8080/",
     "height": 412
    },
    "executionInfo": {
     "elapsed": 247,
     "status": "ok",
     "timestamp": 1741408922249,
     "user": {
      "displayName": "pranav more",
      "userId": "11305037256439014933"
     },
     "user_tz": -330
    },
    "id": "r0aPZbXqDhXC",
    "outputId": "51295ff1-42bd-428d-f548-c4987394463a"
   },
   "outputs": [
    {
     "data": {
      "image/png": "[encoded data removed]",
      "text/plain": [
       "<Figure size 640x480 with 1 Axes>"
      ]
     },
     "metadata": {},
     "output_type": "display_data"
    }
   ],
   "source": [
    "sns.boxplot(df['Unemployment'])\n",
    "plt.show()"
   ]
  },
  {
   "cell_type": "code",
   "execution_count": 14,
   "metadata": {
    "colab": {
     "base_uri": "https://localhost:8080/"
    },
    "executionInfo": {
     "elapsed": 17,
     "status": "ok",
     "timestamp": 1741408960402,
     "user": {
      "displayName": "pranav more",
      "userId": "11305037256439014933"
     },
     "user_tz": -330
    },
    "id": "FKB0r4VNDU8x",
    "outputId": "cae173da-6873-425e-b652-b2f44354c23d"
   },
   "outputs": [
    {
     "data": {
      "text/plain": [
       "(np.float64(116.16), np.float64(6.240000000000002))"
      ]
     },
     "execution_count": 14,
     "metadata": {},
     "output_type": "execute_result"
    }
   ],
   "source": [
    "quantile1=df['Temperature'].quantile(0.25)\n",
    "quantile3=df['Temperature'].quantile(0.75)\n",
    "iqr=quantile3-quantile1\n",
    "upperl=quantile3+1.5*iqr\n",
    "lowerl=quantile1-1.5*iqr\n",
    "df['Temperature']=df['Temperature'].clip(upperl,lowerl)\n",
    "upperl,lowerl"
   ]
  },
  {
   "cell_type": "code",
   "execution_count": 15,
   "metadata": {
    "colab": {
     "base_uri": "https://localhost:8080/",
     "height": 411
    },
    "executionInfo": {
     "elapsed": 316,
     "status": "ok",
     "timestamp": 1741408962205,
     "user": {
      "displayName": "pranav more",
      "userId": "11305037256439014933"
     },
     "user_tz": -330
    },
    "id": "v1drrALKDVDm",
    "outputId": "5a0dc0b6-09bd-4a2e-a6c8-b5df5f3606f4"
   },
   "outputs": [
    {
     "data": {
      "image/png": "[encoded data removed]",
      "text/plain": [
       "<Figure size 640x480 with 1 Axes>"
      ]
     },
     "metadata": {},
     "output_type": "display_data"
    }
   ],
   "source": [
    "sns.boxplot(df['Temperature'])\n",
    "plt.show()"
   ]
  },
  {
   "cell_type": "code",
   "execution_count": 16,
   "metadata": {
    "colab": {
     "base_uri": "https://localhost:8080/"
    },
    "executionInfo": {
     "elapsed": 24,
     "status": "ok",
     "timestamp": 1741408990048,
     "user": {
      "displayName": "pranav more",
      "userId": "11305037256439014933"
     },
     "user_tz": -330
    },
    "id": "zxO56y3RC8Gg",
    "outputId": "6b342b38-dbe6-473c-cd22-090cf0b279ec"
   },
   "outputs": [
    {
     "data": {
      "text/plain": [
       "(np.float64(0.0), np.float64(0.0))"
      ]
     },
     "execution_count": 16,
     "metadata": {},
     "output_type": "execute_result"
    }
   ],
   "source": [
    "quantile1=df['Holiday_Flag'].quantile(0.25)\n",
    "quantile3=df['Holiday_Flag'].quantile(0.75)\n",
    "iqr=quantile3-quantile1\n",
    "upperl=quantile3+1.5*iqr\n",
    "lowerl=quantile1-1.5*iqr\n",
    "df['Holiday_Flag']=df['Holiday_Flag'].clip(upperl,lowerl)\n",
    "upperl,lowerl"
   ]
  },
  {
   "cell_type": "code",
   "execution_count": 17,
   "metadata": {
    "colab": {
     "base_uri": "https://localhost:8080/",
     "height": 411
    },
    "executionInfo": {
     "elapsed": 248,
     "status": "ok",
     "timestamp": 1741408991490,
     "user": {
      "displayName": "pranav more",
      "userId": "11305037256439014933"
     },
     "user_tz": -330
    },
    "id": "UA3k1HxeD4w-",
    "outputId": "b7f3e670-854e-4ffa-ecb5-6d1b55a1d621"
   },
   "outputs": [
    {
     "data": {
      "image/png": "[encoded data removed]",
      "text/plain": [
       "<Figure size 640x480 with 1 Axes>"
      ]
     },
     "metadata": {},
     "output_type": "display_data"
    }
   ],
   "source": [
    "sns.boxplot(df['Holiday_Flag'])\n",
    "plt.show()"
   ]
  },
  {
   "cell_type": "code",
   "execution_count": 18,
   "metadata": {
    "colab": {
     "base_uri": "https://localhost:8080/"
    },
    "executionInfo": {
     "elapsed": 133,
     "status": "ok",
     "timestamp": 1741409017951,
     "user": {
      "displayName": "pranav more",
      "userId": "11305037256439014933"
     },
     "user_tz": -330
    },
    "id": "lQBDEicGD4z5",
    "outputId": "81b3f056-4894-4d4c-b821-9cbdcbbef800"
   },
   "outputs": [
    {
     "name": "stdout",
     "output_type": "stream",
     "text": [
      "      Store  Weekly_Sales  Holiday_Flag  Temperature  Fuel_Price       CPI  \\\n",
      "0 -1.693979      1.057420           0.0    -0.995450   -1.713800  1.004175   \n",
      "1 -1.693979      1.054348           0.0    -1.201534   -1.766089  1.007880   \n",
      "2 -1.693979      1.001206           0.0    -1.124524   -1.840166  1.009074   \n",
      "3 -1.693979      0.642828           0.0    -0.761165   -1.737766  1.009849   \n",
      "4 -1.693979      0.899914           0.0    -0.768215   -1.598328  1.010624   \n",
      "\n",
      "   Unemployment  \n",
      "0       0.15441  \n",
      "1       0.15441  \n",
      "2       0.15441  \n",
      "3       0.15441  \n",
      "4       0.15441  \n"
     ]
    }
   ],
   "source": [
    "numerical_cols = df.select_dtypes(include=['float64', 'int64']).columns\n",
    "\n",
    "# Apply standard scaling to numerical columns\n",
    "scaler = StandardScaler()\n",
    "df[numerical_cols] = scaler.fit_transform(df[numerical_cols])\n",
    "\n",
    "# Display the first few rows of the scaled dataset\n",
    "print(df.head())"
   ]
  },
  {
   "cell_type": "code",
   "execution_count": 19,
   "metadata": {
    "colab": {
     "base_uri": "https://localhost:8080/"
    },
    "executionInfo": {
     "elapsed": 29,
     "status": "ok",
     "timestamp": 1741409043267,
     "user": {
      "displayName": "pranav more",
      "userId": "11305037256439014933"
     },
     "user_tz": -330
    },
    "id": "Z2Fly4t-D45C",
    "outputId": "9582c153-6e70-4d97-ca70-fedc94ddbd16"
   },
   "outputs": [
    {
     "name": "stdout",
     "output_type": "stream",
     "text": [
      "Train set: (5148, 6) (5148,)\n",
      "Test set: (1287, 6) (1287,)\n"
     ]
    }
   ],
   "source": [
    "from sklearn.model_selection import train_test_split\n",
    "x=df.drop('Weekly_Sales', axis=1)\n",
    "y=df['Weekly_Sales']\n",
    "x_train, x_test, y_train, y_test= train_test_split(x,y, test_size=0.2, random_state= 42)\n",
    "print(\"Train set:\", x_train.shape, y_train.shape)\n",
    "print(\"Test set:\", x_test.shape, y_test.shape)"
   ]
  },
  {
   "cell_type": "code",
   "execution_count": 30,
   "metadata": {},
   "outputs": [
    {
     "name": "stdout",
     "output_type": "stream",
     "text": [
      "XGBoost RMSE: 0.333441269066393\n"
     ]
    }
   ],
   "source": [
    "import xgboost as xgb\n",
    "xgbr=xgb.XGBRegressor(n_estimators=100,learning_rate=0.1,max_depth=3,random_state=42)\n",
    "xgbr.fit(x_train,y_train)\n",
    "y_pred_xgbr=xgbr.predict(x_test)\n",
    "print(\"XGBoost RMSE:\",np.sqrt(mean_squared_error(y_test,y_pred_xgbr)))"
   ]
  },
  {
   "cell_type": "code",
   "execution_count": 33,
   "metadata": {},
   "outputs": [
    {
     "name": "stdout",
     "output_type": "stream",
     "text": [
      "\n",
      "Prediction Summary\n",
      "\n",
      "      Actual species  XGBoost Regression\n",
      "2436        0.162736            0.108332\n",
      "3361        0.456983            0.398968\n",
      "233         1.279997            1.415609\n",
      "3667        0.054358            0.088616\n",
      "5011       -1.095318           -0.919883\n"
     ]
    }
   ],
   "source": [
    "summary=pd.DataFrame({\n",
    "    'Actual species':y_test,\n",
    "    'XGBoost Regression':y_pred_xgbr,   \n",
    "})\n",
    "print('\\nPrediction Summary\\n')\n",
    "print(summary.head())"
   ]
  },
  {
   "cell_type": "code",
   "execution_count": 41,
   "metadata": {},
   "outputs": [],
   "source": [
    "df[\"Id\"] = range(1, len(df) + 1) "
   ]
  },
  {
   "cell_type": "code",
   "execution_count": 49,
   "metadata": {},
   "outputs": [
    {
     "name": "stdout",
     "output_type": "stream",
     "text": [
      "Submission file created successfully!\n"
     ]
    },
    {
     "data": {
      "application/vnd.microsoft.datawrangler.viewer.v0+json": {
       "columns": [
        {
         "name": "index",
         "rawType": "int64",
         "type": "integer"
        },
        {
         "name": "Id",
         "rawType": "int64",
         "type": "integer"
        },
        {
         "name": "Weekly_Sales",
         "rawType": "float64",
         "type": "float"
        }
       ],
       "conversionMethod": "pd.DataFrame",
       "ref": "42aedda6-27ef-410a-8125-53db20617f52",
       "rows": [
        [
         "0",
         "1",
         "1.0574197165125394"
        ],
        [
         "1",
         "2",
         "1.054347963793769"
        ],
        [
         "2",
         "3",
         "1.001205911680396"
        ],
        [
         "3",
         "4",
         "0.6428284172699374"
        ],
        [
         "4",
         "5",
         "0.8999137201579602"
        ]
       ],
       "shape": {
        "columns": 2,
        "rows": 5
       }
      },
      "text/html": [
       "<div>\n",
       "<style scoped>\n",
       "    .dataframe tbody tr th:only-of-type {\n",
       "        vertical-align: middle;\n",
       "    }\n",
       "\n",
       "    .dataframe tbody tr th {\n",
       "        vertical-align: top;\n",
       "    }\n",
       "\n",
       "    .dataframe thead th {\n",
       "        text-align: right;\n",
       "    }\n",
       "</style>\n",
       "<table border=\"1\" class=\"dataframe\">\n",
       "  <thead>\n",
       "    <tr style=\"text-align: right;\">\n",
       "      <th></th>\n",
       "      <th>Id</th>\n",
       "      <th>Weekly_Sales</th>\n",
       "    </tr>\n",
       "  </thead>\n",
       "  <tbody>\n",
       "    <tr>\n",
       "      <th>0</th>\n",
       "      <td>1</td>\n",
       "      <td>1.057420</td>\n",
       "    </tr>\n",
       "    <tr>\n",
       "      <th>1</th>\n",
       "      <td>2</td>\n",
       "      <td>1.054348</td>\n",
       "    </tr>\n",
       "    <tr>\n",
       "      <th>2</th>\n",
       "      <td>3</td>\n",
       "      <td>1.001206</td>\n",
       "    </tr>\n",
       "    <tr>\n",
       "      <th>3</th>\n",
       "      <td>4</td>\n",
       "      <td>0.642828</td>\n",
       "    </tr>\n",
       "    <tr>\n",
       "      <th>4</th>\n",
       "      <td>5</td>\n",
       "      <td>0.899914</td>\n",
       "    </tr>\n",
       "  </tbody>\n",
       "</table>\n",
       "</div>"
      ],
      "text/plain": [
       "   Id  Weekly_Sales\n",
       "0   1      1.057420\n",
       "1   2      1.054348\n",
       "2   3      1.001206\n",
       "3   4      0.642828\n",
       "4   5      0.899914"
      ]
     },
     "execution_count": 49,
     "metadata": {},
     "output_type": "execute_result"
    }
   ],
   "source": [
    "submission=df[[\"Id\", \"Weekly_Sales\"]].to_csv(\"submission.csv\", index=False)\n",
    "submission \n",
    "df[[\"Id\", \"Weekly_Sales\"]].to_csv(\"submission.csv\", index=False)\n",
    "\n",
    "print(\"Submission file created successfully!\")\n",
    "\n",
    "# Read and display the saved submission file in table format\n",
    "submission = pd.read_csv(\"submission.csv\") # Save the submission file\n",
    "submission.head()  # Shows the first few rows of the submission file"
   ]
  }
 ],
 "metadata": {
  "colab": {
   "authorship_tag": "ABX9TyNEwmE/pK21uvseno0Lg3t6",
   "provenance": []
  },
  "kernelspec": {
   "display_name": "Python 3",
   "name": "python3"
  },
  "language_info": {
   "codemirror_mode": {
    "name": "ipython",
    "version": 3
   },
   "file_extension": ".py",
   "mimetype": "text/x-python",
   "name": "python",
   "nbconvert_exporter": "python",
   "pygments_lexer": "ipython3",
   "version": "3.13.1"
  }
 },
 "nbformat": 4,
 "nbformat_minor": 0
}
